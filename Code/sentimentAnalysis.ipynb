{
 "cells": [
  {
   "cell_type": "markdown",
   "metadata": {},
   "source": [
    "# Imports"
   ]
  },
  {
   "cell_type": "code",
   "execution_count": 10,
   "metadata": {},
   "outputs": [],
   "source": [
    "import pandas as pd\n",
    "import numpy as np\n",
    "import re\n",
    "\n",
    "import torch\n",
    "from collections import Counter\n",
    "from sklearn.model_selection import train_test_split\n",
    "from nltk.stem.snowball import RussianStemmer\n",
    "from nltk.tokenize import TweetTokenizer"
   ]
  },
  {
   "cell_type": "markdown",
   "metadata": {},
   "source": [
    "# Constants"
   ]
  },
  {
   "cell_type": "code",
   "execution_count": 11,
   "metadata": {},
   "outputs": [],
   "source": [
    "POSITIVE_TWEETS_CSV = 'positive.csv'\n",
    "NEGATIVE_TWEETS_CSV = 'negative.csv'\n",
    "\n",
    "VOCAB_SIZE = 5000"
   ]
  },
  {
   "cell_type": "markdown",
   "metadata": {},
   "source": [
    "# Load Data"
   ]
  },
  {
   "cell_type": "code",
   "execution_count": 12,
   "metadata": {},
   "outputs": [],
   "source": [
    "tweets_col_number = 3\n",
    "\n",
    "negative_tweets = pd.read_csv(\n",
    "    'negative.csv', header=None, delimiter=';')[[tweets_col_number]]\n",
    "positive_tweets = pd.read_csv(\n",
    "    'positive.csv', header=None, delimiter=';')[[tweets_col_number]]"
   ]
  },
  {
   "cell_type": "markdown",
   "metadata": {},
   "source": [
    "# Stemmer"
   ]
  },
  {
   "cell_type": "code",
   "execution_count": 13,
   "metadata": {},
   "outputs": [],
   "source": [
    "stemer = RussianStemmer()\n",
    "regex = re.compile('[^а-яА-Я ]')\n",
    "stem_cache = {}\n",
    "\n",
    "def get_stem(token):\n",
    "    stem = stem_cache.get(token, None)\n",
    "    if stem:\n",
    "        return stem\n",
    "    token = regex.sub('', token).lower()\n",
    "    stem = stemer.stem(token)\n",
    "    stem_cache[token] = stem\n",
    "    return stem"
   ]
  },
  {
   "cell_type": "markdown",
   "metadata": {},
   "source": [
    "# Create Vocabulary "
   ]
  },
  {
   "cell_type": "code",
   "execution_count": 14,
   "metadata": {},
   "outputs": [],
   "source": [
    "stem_count = Counter()\n",
    "tokenizer = TweetTokenizer()\n",
    "\n",
    "def count_unique_tokens_in_tweets(tweets):\n",
    "    for _, tweet_series in tweets.iterrows():\n",
    "        tweet = tweet_series[3]\n",
    "        tokens = tokenizer.tokenize(tweet)\n",
    "        for token in tokens:\n",
    "            stem = get_stem(token)\n",
    "            stem_count[stem] += 1\n",
    "\n",
    "count_unique_tokens_in_tweets(negative_tweets)\n",
    "count_unique_tokens_in_tweets(positive_tweets)"
   ]
  },
  {
   "cell_type": "code",
   "execution_count": 15,
   "metadata": {},
   "outputs": [
    {
     "name": "stdout",
     "output_type": "stream",
     "text": [
      "Total unique stems found:  91780\n"
     ]
    }
   ],
   "source": [
    "print(\"Total unique stems found: \", len(stem_count))"
   ]
  },
  {
   "cell_type": "code",
   "execution_count": 16,
   "metadata": {},
   "outputs": [
    {
     "name": "stdout",
     "output_type": "stream",
     "text": [
      "['', 'не', 'я', 'и', 'в', 'на', 'а', 'что', 'так', 'с', 'эт', 'как', 'у', 'мен', 'мне', 'все', 'но', 'он', 'ты', 'теб', 'ну', 'мо', 'то', 'уж', 'по', 'был', 'ещ', 'за', 'да', 'вот', 'же', 'тольк', 'нет', 'сегодн', 'о', 'прост', 'бы', 'над', 'когд', 'хоч', 'очен', 'к', 'сам', 'ден', 'будет', 'мы', 'от', 'хорош', 'из', 'есл', 'тепер', 'тож', 'буд', 'сво', 'год', 'даж', 'завтр', 'нов', 'дом', 'до', 'там', 'ест', 'вообщ', 'ег', 'вс', 'дела', 'пот', 'одн', 'для', 'больш', 'хот', 'спасиб', 'мог', 'сейчас', 'е', 'себ', 'нас', 'блин', 'раз', 'кто', 'дума', 'утр', 'котор', 'любл', 'поч', 'зна', 'говор', 'лучш', 'нич', 'без', 'ил', 'вы', 'друг', 'тут', 'чтоб', 'всем', 'бол', 'люд', 'сдела', 'сказа']\n"
     ]
    }
   ],
   "source": [
    "vocab = sorted(stem_count, key=stem_count.get, reverse=True)[:VOCAB_SIZE]\n",
    "print(vocab[:100])"
   ]
  },
  {
   "cell_type": "code",
   "execution_count": 20,
   "metadata": {},
   "outputs": [
    {
     "name": "stdout",
     "output_type": "stream",
     "text": [
      "stem: я, count: 66045\n"
     ]
    }
   ],
   "source": [
    "idx = 2\n",
    "print(\"stem: {}, count: {}\"\n",
    "      .format(vocab[idx], stem_count.get(vocab[idx])))"
   ]
  },
  {
   "cell_type": "code",
   "execution_count": 21,
   "metadata": {},
   "outputs": [
    {
     "data": {
      "text/plain": [
       "5000"
      ]
     },
     "execution_count": 21,
     "metadata": {},
     "output_type": "execute_result"
    }
   ],
   "source": [
    "token_2_idx = {vocab[i] : i for i in range(VOCAB_SIZE)}\n",
    "len(token_2_idx)"
   ]
  },
  {
   "cell_type": "markdown",
   "metadata": {},
   "source": [
    "# Convert text to vectors"
   ]
  },
  {
   "cell_type": "code",
   "execution_count": 22,
   "metadata": {},
   "outputs": [],
   "source": [
    "def tweet_to_vector(tweet, show_unknowns=False):\n",
    "    vector = np.zeros(VOCAB_SIZE, dtype=np.int_)\n",
    "    for token in tokenizer.tokenize(tweet):\n",
    "        stem = get_stem(token)\n",
    "        idx = token_2_idx.get(stem, None)\n",
    "        if idx is not None:\n",
    "            vector[idx] = 1\n",
    "        elif show_unknowns:\n",
    "            print(\"Unknown token: {}\".format(token))\n",
    "    return vector"
   ]
  },
  {
   "cell_type": "code",
   "execution_count": 23,
   "metadata": {},
   "outputs": [
    {
     "name": "stdout",
     "output_type": "stream",
     "text": [
      "tweet: Коллеги сидят рубятся в Urban terror, а я из-за долбанной винды не могу :(\n",
      "vector: [1 1 1 0 1 0 1 0 0 0]\n",
      "на\n"
     ]
    }
   ],
   "source": [
    "tweet = negative_tweets.iloc[1][3]\n",
    "print(\"tweet: {}\".format(tweet))\n",
    "print(\"vector: {}\".format(tweet_to_vector(tweet)[:10]))\n",
    "print(vocab[5])"
   ]
  },
  {
   "cell_type": "code",
   "execution_count": 24,
   "metadata": {},
   "outputs": [],
   "source": [
    "tweet_vectors = np.zeros(\n",
    "    (len(negative_tweets) + len(positive_tweets), VOCAB_SIZE), \n",
    "    dtype=np.float32)\n",
    "tweets = []\n",
    "for ii, (_, tweet) in enumerate(negative_tweets.iterrows()):\n",
    "    tweets.append(tweet[3])\n",
    "    tweet_vectors[ii] = tweet_to_vector(tweet[3])\n",
    "for ii, (_, tweet) in enumerate(positive_tweets.iterrows()):\n",
    "    tweets.append(tweet[3])\n",
    "    tweet_vectors[ii + len(negative_tweets)] = tweet_to_vector(tweet[3])"
   ]
  },
  {
   "cell_type": "markdown",
   "metadata": {},
   "source": [
    "# Preparing labels"
   ]
  },
  {
   "cell_type": "code",
   "execution_count": 25,
   "metadata": {},
   "outputs": [],
   "source": [
    "labels = np.append(\n",
    "    np.zeros(len(negative_tweets), dtype=np.int64), \n",
    "    np.ones(len(positive_tweets), dtype=np.int64))"
   ]
  },
  {
   "cell_type": "markdown",
   "metadata": {},
   "source": [
    "# Preparing the data for the training"
   ]
  },
  {
   "cell_type": "code",
   "execution_count": 26,
   "metadata": {},
   "outputs": [],
   "source": [
    "X = torch.from_numpy(tweet_vectors)\n",
    "y = torch.from_numpy(labels)\n",
    "X_train, X_test, y_train, y_test = train_test_split(X, y, test_size=0.3)"
   ]
  },
  {
   "cell_type": "markdown",
   "metadata": {},
   "source": [
    "# Creating a neural network architecture"
   ]
  },
  {
   "cell_type": "code",
   "execution_count": 27,
   "metadata": {},
   "outputs": [],
   "source": [
    "class senNet(torch.nn.Module):\n",
    "    def __init__(self):\n",
    "        super(senNet,self).__init__()\n",
    "        self.fc1=torch.nn.Linear(VOCAB_SIZE,125)\n",
    "        self.act1=torch.nn.ReLU()\n",
    "        self.fc2=torch.nn.Linear(125,25)\n",
    "        self.act2=torch.nn.ReLU()\n",
    "        self.fc3=torch.nn.Linear(25,2)\n",
    "        \n",
    "    \n",
    "    def forward(self,x):\n",
    "        x=self.fc1(x)\n",
    "        x=self.act1(x)\n",
    "        x=self.fc2(x)\n",
    "        x=self.act2(x)\n",
    "        x=self.fc3(x)\n",
    "        return x\n",
    "\n",
    "sen_net = senNet()"
   ]
  },
  {
   "cell_type": "code",
   "execution_count": 28,
   "metadata": {},
   "outputs": [],
   "source": [
    "loss=torch.nn.CrossEntropyLoss()\n",
    "optimizer=torch.optim.Adam(sen_net.parameters(), lr=1.0e-3)"
   ]
  },
  {
   "cell_type": "markdown",
   "metadata": {},
   "source": [
    "# Training the neural network"
   ]
  },
  {
   "cell_type": "code",
   "execution_count": 30,
   "metadata": {},
   "outputs": [
    {
     "name": "stdout",
     "output_type": "stream",
     "text": [
      "tensor(0.7280)\n",
      "tensor(0.7372)\n",
      "tensor(0.7388)\n",
      "tensor(0.7336)\n",
      "tensor(0.7262)\n"
     ]
    }
   ],
   "source": [
    "batch_size = 100\n",
    "\n",
    "test_accuracy_history = []\n",
    "test_loss_history = []\n",
    "\n",
    "# X_test = X_test.to(device)\n",
    "# y_test = y_test.to(device)\n",
    "\n",
    "for epoch in range(5):\n",
    "    order = np.random.permutation(len(X_train))\n",
    "    \n",
    "    for start_index in range(0, len(X_train), batch_size):\n",
    "        optimizer.zero_grad()\n",
    "        \n",
    "        batch_indexes = order[start_index:start_index+batch_size]\n",
    "        \n",
    "        X_batch = X_train[batch_indexes] #.to(device)\n",
    "        y_batch = y_train[batch_indexes] #.to(device)\n",
    "        \n",
    "        preds = sen_net.forward(X_batch) \n",
    "        \n",
    "        loss_value = loss(preds, y_batch)\n",
    "        loss_value.backward()\n",
    "        \n",
    "        optimizer.step()\n",
    "    \n",
    "    \n",
    "    test_preds = sen_net.forward(X_test)\n",
    "    test_loss_history.append(loss(test_preds, y_test))\n",
    "    \n",
    "    accuracy = (test_preds.argmax(dim=1) == y_test).float().mean()\n",
    "    test_accuracy_history.append(accuracy)\n",
    "    print(accuracy)"
   ]
  },
  {
   "cell_type": "markdown",
   "metadata": {},
   "source": [
    "# Testing our neural network"
   ]
  },
  {
   "cell_type": "code",
   "execution_count": 31,
   "metadata": {},
   "outputs": [],
   "source": [
    "def test_tweet(tweet):\n",
    "    tweet_vector = tweet_to_vector(tweet, True)\n",
    "    tweet_vector = torch.from_numpy(tweet_vector).float()\n",
    "    print(tweet_vector)\n",
    "    \n",
    "    print('forw:',sen_net.forward(tweet_vector))\n",
    "    positive_prob = sen_net.forward(tweet_vector)[1]\n",
    "    print('Original tweet: {}'.format(tweet))\n",
    "    print('P(positive) = {:.5f}. Result: '.format(positive_prob), \n",
    "          'Positive' if positive_prob > 0.5 else 'Negative')"
   ]
  },
  {
   "cell_type": "code",
   "execution_count": 32,
   "metadata": {},
   "outputs": [
    {
     "name": "stdout",
     "output_type": "stream",
     "text": [
      "tensor([0., 0., 0.,  ..., 0., 0., 0.])\n",
      "forw: tensor([ 2.0739, -1.4104], grad_fn=<AddBackward0>)\n",
      "Original tweet: Ужасное приложение\n",
      "P(positive) = -1.41044. Result:  Negative\n",
      "---------\n",
      "Unknown token: мошенники\n",
      "tensor([1., 0., 1.,  ..., 0., 0., 0.])\n",
      "forw: tensor([ 1.3401, -0.8680], grad_fn=<AddBackward0>)\n",
      "Original tweet: Я ухожу отсюда, сплошные мошенники\n",
      "P(positive) = -0.86801. Result:  Negative\n",
      "---------\n",
      "tensor([0., 0., 0.,  ..., 0., 0., 0.])\n",
      "forw: tensor([ 4.4666, -3.8291], grad_fn=<AddBackward0>)\n",
      "Original tweet: Отвратительная поддержка\n",
      "P(positive) = -3.82913. Result:  Negative\n",
      "---------\n",
      "tensor([1., 0., 0.,  ..., 0., 0., 0.])\n",
      "forw: tensor([-1.7567,  1.8760], grad_fn=<AddBackward0>)\n",
      "Original tweet: Прекрасное приложение!\n",
      "P(positive) = 1.87600. Result:  Positive\n",
      "---------\n",
      "tensor([1., 0., 0.,  ..., 0., 0., 0.])\n",
      "forw: tensor([-2.0574,  2.1914], grad_fn=<AddBackward0>)\n",
      "Original tweet: Лучшее приложение в маркете!\n",
      "P(positive) = 2.19135. Result:  Positive\n",
      "---------\n",
      "tensor([1., 1., 0.,  ..., 0., 0., 0.])\n",
      "forw: tensor([0.1995, 0.1929], grad_fn=<AddBackward0>)\n",
      "Original tweet: Не могу связаться с поддержкой банка.\n",
      "P(positive) = 0.19291. Result:  Negative\n",
      "---------\n",
      "tensor([1., 1., 0.,  ..., 0., 0., 0.])\n",
      "forw: tensor([ 2.8164, -2.2310], grad_fn=<AddBackward0>)\n",
      "Original tweet: Приложение не открывается после обновления!!!!\n",
      "P(positive) = -2.23096. Result:  Negative\n",
      "---------\n"
     ]
    }
   ],
   "source": [
    "tweets_for_testing = [\n",
    "    \"Ужасное приложение\",\n",
    "    \"Я ухожу отсюда, сплошные мошенники\",\n",
    "    \"Отвратительная поддержка\",\n",
    "    \"Прекрасное приложение!\",\n",
    "    \"Лучшее приложение в маркете!\",\n",
    "    \"Не могу связаться с поддержкой банка.\",\n",
    "    \"Приложение не открывается после обновления!!!!\"\n",
    "]\n",
    "for tweet in tweets_for_testing:\n",
    "    test_tweet(tweet) \n",
    "    print(\"---------\")"
   ]
  },
  {
   "cell_type": "markdown",
   "metadata": {},
   "source": [
    "# Converting the model to Pickle format"
   ]
  },
  {
   "cell_type": "code",
   "execution_count": 33,
   "metadata": {},
   "outputs": [],
   "source": [
    "import dill as pickle\n",
    "filename = 'model_v1.pk'\n",
    "with open('./models/'+filename, 'wb') as file:\n",
    "    pickle.dump(sen_net,file)"
   ]
  },
  {
   "cell_type": "markdown",
   "metadata": {},
   "source": [
    "# Trying to load the model back"
   ]
  },
  {
   "cell_type": "code",
   "execution_count": 34,
   "metadata": {},
   "outputs": [],
   "source": [
    "with open('./models/'+filename ,'rb') as f:\n",
    "    loaded_model = pickle.load(f)"
   ]
  },
  {
   "cell_type": "markdown",
   "metadata": {},
   "source": [
    "## Testing again"
   ]
  },
  {
   "cell_type": "code",
   "execution_count": 35,
   "metadata": {},
   "outputs": [],
   "source": [
    "def test_tweet(tweet):\n",
    "    tweet_vector = tweet_to_vector(tweet, True)\n",
    "    tweet_vector = torch.from_numpy(tweet_vector).float()\n",
    "    print(tweet_vector)\n",
    "    \n",
    "    print('forw:',type(loaded_model))\n",
    "    positive_prob = loaded_model.forward(tweet_vector)[1]\n",
    "    print('Original tweet: {}'.format(tweet))\n",
    "    print('P(positive) = {:.5f}. Result: '.format(positive_prob), \n",
    "          'Positive' if positive_prob > 0.5 else 'Negative')"
   ]
  },
  {
   "cell_type": "code",
   "execution_count": 37,
   "metadata": {},
   "outputs": [
    {
     "name": "stdout",
     "output_type": "stream",
     "text": [
      "tensor([0., 0., 0.,  ..., 0., 0., 0.])\n",
      "forw: <class '__main__.senNet'>\n",
      "Original tweet: Ужасное приложение\n",
      "P(positive) = -1.41044. Result:  Negative\n",
      "---------\n",
      "Unknown token: мошенники\n",
      "tensor([1., 0., 1.,  ..., 0., 0., 0.])\n",
      "forw: <class '__main__.senNet'>\n",
      "Original tweet: Я ухожу отсюда, сплошные мошенники\n",
      "P(positive) = -0.86801. Result:  Negative\n",
      "---------\n",
      "tensor([0., 0., 0.,  ..., 0., 0., 0.])\n",
      "forw: <class '__main__.senNet'>\n",
      "Original tweet: Отвратительная поддержка\n",
      "P(positive) = -3.82913. Result:  Negative\n",
      "---------\n",
      "tensor([1., 0., 0.,  ..., 0., 0., 0.])\n",
      "forw: <class '__main__.senNet'>\n",
      "Original tweet: Прекрасное приложение!\n",
      "P(positive) = 1.87600. Result:  Positive\n",
      "---------\n",
      "tensor([1., 0., 0.,  ..., 0., 0., 0.])\n",
      "forw: <class '__main__.senNet'>\n",
      "Original tweet: Лучшее приложение в маркете!\n",
      "P(positive) = 2.19135. Result:  Positive\n",
      "---------\n",
      "tensor([1., 1., 0.,  ..., 0., 0., 0.])\n",
      "forw: <class '__main__.senNet'>\n",
      "Original tweet: Не могу связаться с поддержкой банка.\n",
      "P(positive) = 0.19291. Result:  Negative\n",
      "---------\n",
      "tensor([1., 1., 0.,  ..., 0., 0., 0.])\n",
      "forw: <class '__main__.senNet'>\n",
      "Original tweet: Приложение не открывается после обновления!!!\n",
      "P(positive) = -2.23096. Result:  Negative\n",
      "---------\n"
     ]
    }
   ],
   "source": [
    "tweets_for_testing = [\n",
    "    \"Ужасное приложение\",\n",
    "    \"Я ухожу отсюда, сплошные мошенники\",\n",
    "    \"Отвратительная поддержка\",\n",
    "    \"Прекрасное приложение!\",\n",
    "    \"Лучшее приложение в маркете!\",\n",
    "    \"Не могу связаться с поддержкой банка.\",\n",
    "    \"Приложение не открывается после обновления!!!\"\n",
    "]\n",
    "for tweet in tweets_for_testing:\n",
    "    test_tweet(tweet) \n",
    "    print(\"---------\")"
   ]
  },
  {
   "cell_type": "markdown",
   "metadata": {},
   "source": [
    "# Thank you for your attention!"
   ]
  }
 ],
 "metadata": {
  "kernelspec": {
   "display_name": "Python 3",
   "language": "python",
   "name": "python3"
  }
 },
 "nbformat": 4,
 "nbformat_minor": 4
}
