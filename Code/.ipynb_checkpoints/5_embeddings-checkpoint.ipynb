{
 "cells": [
  {
   "cell_type": "markdown",
   "metadata": {},
   "source": [
    "# Get data"
   ]
  },
  {
   "cell_type": "code",
   "execution_count": 7,
   "metadata": {},
   "outputs": [],
   "source": [
    "import pandas as pd\n",
    "import os\n",
    "from tqdm import tqdm\n",
    "import json"
   ]
  },
  {
   "cell_type": "code",
   "execution_count": 8,
   "metadata": {},
   "outputs": [],
   "source": [
    "REVIEW_PATH = '../Resources/1_clean_review_data'\n",
    "\n",
    "KEYWORDS_PATH = '../Resources/2_keywords_for_teams_data'\n",
    "\n",
    "DATA_PATH = '../Resources'\n",
    "\n",
    "REVIEW_COL = 'Review'\n",
    "TITLE_COL = 'Title'"
   ]
  },
  {
   "cell_type": "code",
   "execution_count": 9,
   "metadata": {},
   "outputs": [],
   "source": [
    "data = pd.read_csv(os.path.join(REVIEW_PATH,'cleanAppStore.csv'))"
   ]
  },
  {
   "cell_type": "code",
   "execution_count": 102,
   "metadata": {},
   "outputs": [],
   "source": [
    "with open(os.path.join(KEYWORDS_PATH,'team_keywords.json'),'r') as f:\n",
    "    team_names_keywords = json.load(f)\n",
    "\n",
    "with open(os.path.join(KEYWORDS_PATH,'grouped_team_keywords.json'),'r') as f:\n",
    "    groups_keywords = json.load(f)\n",
    "    \n",
    "with open(os.path.join(KEYWORDS_PATH,'grouped_team_mapping.json'),'r') as f:\n",
    "    mapping = json.load(f)"
   ]
  },
  {
   "cell_type": "code",
   "execution_count": 110,
   "metadata": {},
   "outputs": [],
   "source": [
    "team_names_keywords_vects = [' '.join(team_names_keywords[team]) for team in team_names_keywords]\n",
    "group_names_keywords_vects = [' '.join(groups_keywords[team]) for team in groups_keywords]"
   ]
  },
  {
   "cell_type": "markdown",
   "metadata": {},
   "source": [
    "# Create embeddings"
   ]
  },
  {
   "cell_type": "code",
   "execution_count": 2,
   "metadata": {},
   "outputs": [
    {
     "name": "stdout",
     "output_type": "stream",
     "text": [
      "2020-08-01 14:38:13,840 https://s3.eu-central-1.amazonaws.com/alan-nlp/resources/embeddings/glove.gensim.vectors.npy not found in cache, downloading to /var/folders/pd/dd4z8dyj3kq83yh_y3_xmrlw0000kt/T/tmpbame4h_8\n"
     ]
    },
    {
     "name": "stderr",
     "output_type": "stream",
     "text": [
      "100%|██████████| 160000128/160000128 [00:39<00:00, 4034736.04B/s]"
     ]
    },
    {
     "name": "stdout",
     "output_type": "stream",
     "text": [
      "2020-08-01 14:38:53,803 copying /var/folders/pd/dd4z8dyj3kq83yh_y3_xmrlw0000kt/T/tmpbame4h_8 to cache at /Users/Alisa.Alenicheva/.flair/embeddings/glove.gensim.vectors.npy\n"
     ]
    },
    {
     "name": "stderr",
     "output_type": "stream",
     "text": [
      "\n"
     ]
    },
    {
     "name": "stdout",
     "output_type": "stream",
     "text": [
      "2020-08-01 14:38:53,958 removing temp file /var/folders/pd/dd4z8dyj3kq83yh_y3_xmrlw0000kt/T/tmpbame4h_8\n",
      "2020-08-01 14:38:54,173 https://s3.eu-central-1.amazonaws.com/alan-nlp/resources/embeddings/glove.gensim not found in cache, downloading to /var/folders/pd/dd4z8dyj3kq83yh_y3_xmrlw0000kt/T/tmpna1n3hlm\n"
     ]
    },
    {
     "name": "stderr",
     "output_type": "stream",
     "text": [
      "100%|██████████| 21494764/21494764 [00:03<00:00, 5936084.71B/s] "
     ]
    },
    {
     "name": "stdout",
     "output_type": "stream",
     "text": [
      "2020-08-01 14:38:58,088 copying /var/folders/pd/dd4z8dyj3kq83yh_y3_xmrlw0000kt/T/tmpna1n3hlm to cache at /Users/Alisa.Alenicheva/.flair/embeddings/glove.gensim\n"
     ]
    },
    {
     "name": "stderr",
     "output_type": "stream",
     "text": [
      "\n"
     ]
    },
    {
     "name": "stdout",
     "output_type": "stream",
     "text": [
      "2020-08-01 14:38:58,113 removing temp file /var/folders/pd/dd4z8dyj3kq83yh_y3_xmrlw0000kt/T/tmpna1n3hlm\n"
     ]
    }
   ],
   "source": [
    "from flair.embeddings import WordEmbeddings, DocumentPoolEmbeddings\n",
    "\n",
    "# initialize the word embeddings\n",
    "glove_embedding = WordEmbeddings('glove')\n",
    "\n",
    "# initialize the document embeddings, mode = mean\n",
    "document_embeddings = DocumentPoolEmbeddings([glove_embedding])"
   ]
  },
  {
   "cell_type": "code",
   "execution_count": 4,
   "metadata": {},
   "outputs": [],
   "source": [
    "from flair.data import Sentence"
   ]
  },
  {
   "cell_type": "code",
   "execution_count": 19,
   "metadata": {},
   "outputs": [],
   "source": [
    "import string\n",
    "def text_embeddings(text):\n",
    "    '''\n",
    "    Takes in a string of text, then performs the following:\n",
    "    1. Remove all punctuation\n",
    "    2. Remove all stopwords\n",
    "    3. Return the cleaned text as a list of words\n",
    "    4. Remove words\n",
    "    '''\n",
    "    \n",
    "#     from rutermextract import TermExtractor\n",
    "#     term_extractor = TermExtractor()\n",
    "#     tokens = ' '.join([term.normalized for term in term_extractor(text)])\n",
    "    sentence = Sentence(text)\n",
    "    document_embeddings.embed(sentence)\n",
    "    return sentence.embedding.numpy()"
   ]
  },
  {
   "cell_type": "code",
   "execution_count": 20,
   "metadata": {},
   "outputs": [
    {
     "name": "stderr",
     "output_type": "stream",
     "text": [
      "100%|██████████| 11584/11584 [00:08<00:00, 1296.24it/s]\n"
     ]
    }
   ],
   "source": [
    "X_train = []\n",
    "for i in tqdm(data.index):\n",
    "    text = data.iloc[i][REVIEW_COL]+' '+data.iloc[i][TITLE_COL]\n",
    "    X_train.append(text_embeddings(text))"
   ]
  },
  {
   "cell_type": "code",
   "execution_count": 104,
   "metadata": {},
   "outputs": [
    {
     "name": "stderr",
     "output_type": "stream",
     "text": [
      "100%|██████████| 42/42 [00:00<00:00, 3236.29it/s]\n"
     ]
    }
   ],
   "source": [
    "teams_vecs = []\n",
    "for team in tqdm(team_names_keywords_vects):\n",
    "    teams_vecs.append(text_embeddings(team))"
   ]
  },
  {
   "cell_type": "code",
   "execution_count": 111,
   "metadata": {},
   "outputs": [
    {
     "name": "stderr",
     "output_type": "stream",
     "text": [
      "100%|██████████| 26/26 [00:00<00:00, 2357.62it/s]\n"
     ]
    }
   ],
   "source": [
    "groups_vecs = []\n",
    "for team in tqdm(group_names_keywords_vects):\n",
    "    groups_vecs.append(text_embeddings(team))"
   ]
  },
  {
   "cell_type": "code",
   "execution_count": 23,
   "metadata": {},
   "outputs": [
    {
     "name": "stderr",
     "output_type": "stream",
     "text": [
      "100%|██████████| 49/49 [00:44<00:00,  1.11it/s]\n"
     ]
    },
    {
     "data": {
      "image/png": "[encoded data removed]",
      "text/plain": [
       "<Figure size 432x288 with 1 Axes>"
      ]
     },
     "metadata": {
      "needs_background": "light"
     },
     "output_type": "display_data"
    }
   ],
   "source": [
    "from sklearn.cluster import KMeans\n",
    "\n",
    "Sum_of_squared_distances = []\n",
    "K = range(1,50)\n",
    "for k in tqdm(K):\n",
    "    km = KMeans(n_clusters=k)\n",
    "    km = km.fit(X_train)\n",
    "    Sum_of_squared_distances.append(km.inertia_)\n",
    "\n",
    "\n",
    "import matplotlib.pyplot as plt\n",
    "\n",
    "plt.plot(K, Sum_of_squared_distances, 'bx-')\n",
    "plt.xlabel('k')\n",
    "plt.ylabel('Sum_of_squared_distances')\n",
    "plt.title('Elbow Method For Optimal k')\n",
    "plt.show()"
   ]
  },
  {
   "cell_type": "code",
   "execution_count": 41,
   "metadata": {},
   "outputs": [],
   "source": [
    "km = KMeans(n_clusters=5)\n",
    "km = km.fit(X_train)"
   ]
  },
  {
   "cell_type": "code",
   "execution_count": 42,
   "metadata": {},
   "outputs": [],
   "source": [
    "from sklearn.decomposition import PCA"
   ]
  },
  {
   "cell_type": "code",
   "execution_count": 43,
   "metadata": {},
   "outputs": [],
   "source": [
    "pca = PCA(n_components=2, random_state=2)\n",
    "reduced_features = pca.fit_transform(X_train)"
   ]
  },
  {
   "cell_type": "code",
   "execution_count": 44,
   "metadata": {},
   "outputs": [],
   "source": [
    "reduced_cluster_centers = pca.transform(km.cluster_centers_)"
   ]
  },
  {
   "cell_type": "code",
   "execution_count": 45,
   "metadata": {},
   "outputs": [
    {
     "data": {
      "text/plain": [
       "<matplotlib.collections.PathCollection at 0x7f84f933f4d0>"
      ]
     },
     "execution_count": 45,
     "metadata": {},
     "output_type": "execute_result"
    },
    {
     "data": {
      "image/png": "[encoded data removed]",
      "text/plain": [
       "<Figure size 432x288 with 1 Axes>"
      ]
     },
     "metadata": {
      "needs_background": "light"
     },
     "output_type": "display_data"
    }
   ],
   "source": [
    "plt.scatter(reduced_features[:,0], reduced_features[:,1], c=km.predict(X_train))\n",
    "plt.scatter(reduced_cluster_centers[:, 0], reduced_cluster_centers[:,1], marker='x', s=15, c='b')"
   ]
  },
  {
   "cell_type": "code",
   "execution_count": 33,
   "metadata": {},
   "outputs": [],
   "source": [
    "df_clusters = pd.DataFrame(columns=['team','cluster'])"
   ]
  },
  {
   "cell_type": "code",
   "execution_count": 92,
   "metadata": {},
   "outputs": [],
   "source": [
    "df_clusters['team'] = team_names_keywords.keys()\n",
    "df_clusters['cluster'] = km.predict(teams_vecs)"
   ]
  },
  {
   "cell_type": "code",
   "execution_count": 93,
   "metadata": {},
   "outputs": [],
   "source": [
    "df_reviews = pd.DataFrame(columns=['review','cluster'])"
   ]
  },
  {
   "cell_type": "code",
   "execution_count": 94,
   "metadata": {},
   "outputs": [],
   "source": [
    "df_reviews['review'] = data[REVIEW_COL]\n",
    "df_reviews['cluster'] = km.predict(X_train)"
   ]
  },
  {
   "cell_type": "code",
   "execution_count": 95,
   "metadata": {},
   "outputs": [
    {
     "data": {
      "text/html": [
       "<div>\n",
       "<style scoped>\n",
       "    .dataframe tbody tr th:only-of-type {\n",
       "        vertical-align: middle;\n",
       "    }\n",
       "\n",
       "    .dataframe tbody tr th {\n",
       "        vertical-align: top;\n",
       "    }\n",
       "\n",
       "    .dataframe thead th {\n",
       "        text-align: right;\n",
       "    }\n",
       "</style>\n",
       "<table border=\"1\" class=\"dataframe\">\n",
       "  <thead>\n",
       "    <tr style=\"text-align: right;\">\n",
       "      <th></th>\n",
       "      <th>review</th>\n",
       "      <th>cluster</th>\n",
       "    </tr>\n",
       "  </thead>\n",
       "  <tbody>\n",
       "    <tr>\n",
       "      <th>0</th>\n",
       "      <td>Не скачивается стала обновлять и зависло прило...</td>\n",
       "      <td>4</td>\n",
       "    </tr>\n",
       "    <tr>\n",
       "      <th>1</th>\n",
       "      <td>Приложение не открывается после обновления!!!!...</td>\n",
       "      <td>1</td>\n",
       "    </tr>\n",
       "    <tr>\n",
       "      <th>2</th>\n",
       "      <td>Добрый день, после последнего обновления пропа...</td>\n",
       "      <td>1</td>\n",
       "    </tr>\n",
       "    <tr>\n",
       "      <th>3</th>\n",
       "      <td>Не могу скачать так как требует подключения Wi-fi</td>\n",
       "      <td>0</td>\n",
       "    </tr>\n",
       "    <tr>\n",
       "      <th>4</th>\n",
       "      <td>Почему то не могу оплатить при минусе на балан...</td>\n",
       "      <td>1</td>\n",
       "    </tr>\n",
       "    <tr>\n",
       "      <th>...</th>\n",
       "      <td>...</td>\n",
       "      <td>...</td>\n",
       "    </tr>\n",
       "    <tr>\n",
       "      <th>11579</th>\n",
       "      <td>Благодарю Сбербанк за четкую и оперативную раб...</td>\n",
       "      <td>4</td>\n",
       "    </tr>\n",
       "    <tr>\n",
       "      <th>11580</th>\n",
       "      <td>Зачем вы все время усложняете приложение. Выки...</td>\n",
       "      <td>1</td>\n",
       "    </tr>\n",
       "    <tr>\n",
       "      <th>11581</th>\n",
       "      <td>Вы просто супер</td>\n",
       "      <td>2</td>\n",
       "    </tr>\n",
       "    <tr>\n",
       "      <th>11582</th>\n",
       "      <td>Молодцы! Лучшее банковское приложение!\\nСделай...</td>\n",
       "      <td>1</td>\n",
       "    </tr>\n",
       "    <tr>\n",
       "      <th>11583</th>\n",
       "      <td>Спасибо огромное! Классное приложение, а после...</td>\n",
       "      <td>2</td>\n",
       "    </tr>\n",
       "  </tbody>\n",
       "</table>\n",
       "<p>11584 rows × 2 columns</p>\n",
       "</div>"
      ],
      "text/plain": [
       "                                                  review  cluster\n",
       "0      Не скачивается стала обновлять и зависло прило...        4\n",
       "1      Приложение не открывается после обновления!!!!...        1\n",
       "2      Добрый день, после последнего обновления пропа...        1\n",
       "3      Не могу скачать так как требует подключения Wi-fi        0\n",
       "4      Почему то не могу оплатить при минусе на балан...        1\n",
       "...                                                  ...      ...\n",
       "11579  Благодарю Сбербанк за четкую и оперативную раб...        4\n",
       "11580  Зачем вы все время усложняете приложение. Выки...        1\n",
       "11581                                    Вы просто супер        2\n",
       "11582  Молодцы! Лучшее банковское приложение!\\nСделай...        1\n",
       "11583  Спасибо огромное! Классное приложение, а после...        2\n",
       "\n",
       "[11584 rows x 2 columns]"
      ]
     },
     "execution_count": 95,
     "metadata": {},
     "output_type": "execute_result"
    }
   ],
   "source": [
    "df_reviews"
   ]
  },
  {
   "cell_type": "code",
   "execution_count": 51,
   "metadata": {},
   "outputs": [],
   "source": [
    "import random"
   ]
  },
  {
   "cell_type": "code",
   "execution_count": 86,
   "metadata": {},
   "outputs": [
    {
     "name": "stdout",
     "output_type": "stream",
     "text": [
      "Cluster:  0\n",
      "Reviews\n",
      "Четко работает , все делают правильно ! Мне нравиться\n",
      "Поменял телефон с iPhone 7 на iPhone XS. И если раньше авторизовывался при запуске приложения по Touch ID без каких-либо проблем, то на новом телефоне не выходит авторизация по Face ID, хотя в настройках он включён. Прошу исправить проблему\n",
      "Нравится лучшее что придумали в нашей стране .\n",
      "Super\n",
      "Nice👍\n",
      "Класс но могли бы и лучше .\n",
      "Когда сделаете вход через Face ID?\n",
      "Хочу темную тему !!!!!!!\n",
      "Приложение перестало запускаться на Apple Watch 7000 серия.\n",
      "Приложение всё время зависает, особенно после обновления до ios 13\n",
      "Самый ущербный банк с самым ущербным приложением (\n",
      "Здравствуйте . Сделайте что бы в приложении платежей , показывало оплаты за последние 4 года , например за газ . Спасибо\n",
      "при вводе карты для перевода клиенту сбера не дает ввести 16 цифру зависает приложение, айфон se , ios 13.5.1\n",
      "Не открывается приложение после обновления сегодня !\n",
      "Почему исчезли значки возле контактов ? Очень удобно было в приложении при переводе видеть значок возле номера телефона и понятно , что именно этот номер привязан к карте !\n",
      "Вылетает iPhone 6S\n",
      "Не хватает Face ID\n",
      "Просьба добавить отображение в личном кабинете карт Priority Pass и статистики по ним\n",
      "Thankful\n",
      "Вылетает после обновления, iPhone se IOS 12.3.1\n",
      "Cluster:  1\n",
      "Reviews\n",
      "При оплате штрафов ГИБДД не могу вставить номер документа приходится в бивать в ручную ! Очень огорчает\n",
      "Добрый день. Просьба адаптировать приложение под iPad Pro 12.9. Так как отображается не на весь экран. Разработан только для мобильной версии.\n",
      "Большое спасибо Сберу за это приложение! От души ребята, все очень здорово сделано\n",
      "В анализе финансов по категориям расходов и доходов везде стоят нули, а сверху просто общая сумма, уже второе обновление подряд.\n",
      "Не успев открыться, приложение сразу закрывается, никогда такого не было, а сегодня такая ерунда\n",
      "Я послушала подкаст с вами и полезла смотреть приложение. \n",
      "А там лось) И мне он нравится, спасибо)) и бобёр тоже нравится (там их даже, кажется, несколько), к Гагарину, пожалуй, меньше всего чувств испытываю))\n",
      "После нового запуска приложения сбрасывается 2 параметра: 1. Отключается пункт-«Быстрый вход» 2. Снова принудительно включается пункт: «Собирать статистику»! Я просил уже о том что бы вы исправили принудительное включение сбора статистики! Вы обещали исправить, но пока что его не сдержали(\n",
      "Убедительная просьба уважаемые разработчики, исправьте.\n",
      "Спасибо, с уважением, клиент Сбербанка.\n",
      "Айфон 7. Три раза произошёл неприятный случай- при входе в приложение (как я заметил с третьего раза) телефон теряет сотовую связь и очень долго не может её найти. Сначала я думал проблема в телефоне, но оказалось это как то связано с вашим приложением.\n",
      "Идёт стартовая загрузка с лого 4 секунды, а затем вылет\n",
      "Сделайте уже на айфон Х фейс айди, не очень удобно заводить постоянно пароль\n",
      "Во вкладке Сбербанк ID не загружается ни одна вкладка, все вываливаются с ошибкой (документы, телефоны, электронные адреса). И не позволяет подтвердить учетную запись на госуслугах, пишет недостаточно данных, но при этом как указано выше вкладка для проверки документов вываливается с ошибкой. 4 явных грубых косяка, выдающих ошибки, это прям печально.\n",
      "Почему нельзя в новопридуманных иконках видеть цифры?!?!\n",
      "Всего средств - почему нельзя видеть общую цифру?! \n",
      "Бонусы спасибо - почему нельзя видеть  в иконке на главном экране без кликанья на неё?!\n",
      "После обновления нет возможности входа в приложение\n",
      "При внесении денег через банкомат деньги поступают моментально .можно контролировать все расходы и пополнения !очень доволен !спасибо !\n",
      "Последний месяц или два, при переходе между страницами Приложение виснет. Приходится закрывать и снова открывать. И так несколько раз. Что случилось?! Исправьте!\n",
      "Немедленно прекратите присылать посторонние уведомления (от СберКота и прочей фигни) со звуком перевода денег !!!\n",
      "При наличии кредитных продуктов, хотелось бы видеть в приложении Сбербанк он-лайн график платежей и как он обновляется после частично-досрочного платежа по кредиту, а то каждый раз после платежа надо идти в банк за обновлённым графиком\n",
      "в приложении! Особенно на экране Iphone XR! Добавьте пожалуйста возможность менять размер шрифта в настройках или оптимизируйте под Iphone XR. Спасибо!\n",
      "P.s. Изменение шрифта в настройках айфона не меняет его в приложении сбербанк онлайн.\n",
      "Сделайте так чтобы можно было бы чистить историю по отдельным пунктам поступления и наоборот\n",
      "После последних 2-х обновлений постоянные проблемы с отображением информации во вкладке «вклады и счета». БЕСКОНЕЧНАЯ проверка наличия открытых вкладов. \n",
      "Зачем и почему убрали возможность скрыть никому не нужные верхние вкладки «действие», «истории» и «финансы». \n",
      "Развитие и обновления это прекрасно, но нужно дать возможность настроить приложение под себя.\n",
      "Cluster:  2\n",
      "Reviews\n",
      "iPhone SE 128 Gb, после последнего обновления приложение стало открываться очень долго (40-50 секунд от стартового экрана до рабочего пространства).\n",
      "\n",
      "UPD. Изменил оценку, всё наладилось.\n",
      "После обновления начал вылетать сразу же(((\n",
      "Спасибо отличное качество\n",
      "Очень довольна Сбербанком\n",
      "Списывают Деньги со счета не предупреждая владельца Карты об этом\n",
      "Пользуюсь давно, довольна!\n",
      "Все ок 😃\n",
      "Ужасно тупит последние два дня приложение , виснет сразу же после открытия. Когда сделаете обновление ???\n",
      "Хренобанк\n",
      "Всем советую 👍🏻не пожалеете\n",
      "Спасибо что вы есть😊\n",
      "Нормально\n",
      "Почему исчезла строка оплатить мобильную связь-мой номер?\n",
      "Размер приложения растет с каждой версией. 10.1.0 уже 442Мб. Сбербанк остановись!\n",
      "Очень нравиться Сбербанк он-лайн!! Экономит силы, время, деньги! Спасибо люди, что вы такие умные и придумали это приложение!\n",
      "Приложение вылетает\n",
      "Очень удобное приложение. Спасибо!\n",
      "постоянно глючит\n",
      "Почему перестали приходит уведомления?\n",
      "Почему нельзя сделать нормальный поиск по истории операций?\n",
      "Нихера невозможно найти!!!!\n",
      "Cluster:  3\n",
      "Reviews\n",
      "Very\n",
      "Why is there no English language available in a multinational bank app?\n",
      "This is a great app and so useful but i hope you add some foreign languages like English and French.\n",
      "Спасибо\n",
      "It’s wonderful\n",
      "I do not know why the bank is not considering all its users equivalently. It is really time to add English language\n",
      "If Sberbank very big BANK in Russia why haven’t WNGLISH option in Aplication????? Please this is easy!! Make it!!’\n",
      "Bravo Sberbank! Really fast, well built, well secured, highly functional. The competition can go back to bed\n",
      "I’m feeling comfortable to use online service .\n",
      "Please try to but much more language in the application, not only Russian , thanks\n",
      "Worldwide promote your apps and rapidly increase downloads and revenue above 100 times! We are app marketing experts with rich experience, please contact us on Facebook: aso8866 .or Ping me at Skype/WhatsApp: +8615982207105 .Everyone can enjoy 3-day trial now!\n",
      "Please give English translated version\n",
      "Hi, just wanna say very great app! \n",
      "\n",
      "But can you please add English language because as a foreigner it is a bit hard for me to use it to full capacity \n",
      "\n",
      "Thanks\n",
      "Very good and useful app. But since there are foreign nationals using it, i think the developers should add English Language to it\n",
      "Application hanging too much last few hours, can’t sign in my account. Please fix it\n",
      "One of the best banking apps I have ever used. Functionality, simplicity, everything is absolutely great. Highly recommended, 5 stars hands down.\n",
      "Please try to make it in English\n",
      "No English version. Makes it hard for foreign students to use the app but it’s okay\n",
      "Very\n",
      "Unfortunately for such a big bank the app is not in english. Or even have an english option.\n",
      "Cluster:  4\n",
      "Reviews\n",
      "Ужасное обновление,не правильно показывает инфекцию о картах и вкладах,вообще не работает!\n",
      "Почему в наши счета лезут все кому не лень.Там и так копейки!!!\n",
      "Вылетает приложение\n",
      "Всё чётко. Молодцы!\n",
      "Не могу удалить приложение\n",
      "После обновления пропали названия счетов, шаблоны и в истории тоже ничего не найти.\n",
      "Хотела бы видеть где реквизиты.сколько на .январь месяц на декабрь что бы для декларации не стоять в очередях из за сведений\n",
      "Раньше кабинет был удобнее.по отпечатку пальца войти не пропускает\n",
      "Самый ужасный банк и приложение  купленные отзывы и банков у нас в стране нет вы все зарубежные просто офисы как фильялы да и хватит уже кормить банки\n",
      "Классное приложение, удобное и простое в использование\n",
      "Выдает ошибку и пуш не доходят\n",
      "Убрали вкладку реквизиты в информации о карте, не могу скачать свои реквизиты\n",
      "Новые комиссии это просто жесть. Подписки на переводы внутри банка?? Вы серьезно? В этом месяце я потратил рублей 500 на комиссии и 199 на подписку. Это грабеж.\n",
      "На IPhone X лагает пролистывание первого экрана в первые несколько секунд после открытия. При переходе на следующую вкладку тоже подлагивает. Да и вообще, есть ощущение какой-то тяжести и плохой оптимизации интерфейса. Просьба обратить внимание и исправить.\n",
      "Что случилось с приложением? Невозможно в нем сидеть! Спустя минуту зависает и никак не реагирует! Сегодня платёж удалось совершить с 15(!) попытки!\n",
      "Заработал\n",
      "Не могу закрыть вклад в приложении и пополнить свою карту. Реклама в приложении достала\n",
      "Отличное приложение \n",
      "Удобный интерфейс, анализ расходов и зачислений. Бонусы от покупок. Возможность открыть карту в приложении. Оперативные сотрудники в чате.\n",
      "Спасибоооо! Как хорошо, что вы есть у нас! Всё делаешь быстро, не стоя в очереди... Услуги ваши очень нравятся. Я живу в г.Владивостоке на Добровольского (р-н Тихая). Так вот у нас на Тихой нет ни одного вашего филиала. Это ОЧЕНЬ плохо для каждого жителя нашего района, особенно для стариков и пенсионеров!!! Обратите, пожалуйста, на мой отзыв!! Откройте на Тихой филиал!\n",
      "После обновления не входит в приложение. Показывает логотип и дальше не загружается. Уже пробовала переустановить, не помогает.\n",
      "Добавьте, пожалуйста, возможность создания автоперевода денег на карты детей, открытые в сберкидс.\n"
     ]
    }
   ],
   "source": [
    "from collections import Counter\n",
    "counter = Counter(km.labels_)\n",
    "for cluster_num in range(5):\n",
    "    sampling = random.choices(list(df_reviews[df_reviews['cluster']==cluster_num]['review']), k=20)\n",
    "    print('Cluster: ', cluster_num)\n",
    "    print('Reviews')\n",
    "    print('\\n'.join(sampling))"
   ]
  },
  {
   "cell_type": "code",
   "execution_count": null,
   "metadata": {},
   "outputs": [],
   "source": []
  },
  {
   "cell_type": "code",
   "execution_count": 96,
   "metadata": {},
   "outputs": [
    {
     "name": "stderr",
     "output_type": "stream",
     "text": [
      "100%|██████████| 11584/11584 [02:45<00:00, 70.00it/s]\n"
     ]
    }
   ],
   "source": [
    "from sklearn.metrics.pairwise import euclidean_distances, cosine_similarity\n",
    "\n",
    "\n",
    "predictions_list = []\n",
    "j = 0\n",
    "for review in tqdm(X_train):\n",
    "    predictions = {}\n",
    "    predictions['review'] = data.iloc[j][REVIEW_COL]\n",
    "    destinations = {}\n",
    "    for i,team in enumerate(teams_vecs):\n",
    "        dest = euclidean_distances([review], [team])[0]\n",
    "        destinations[list(team_names_keywords.keys())[i]] = dest\n",
    "    scores = OrderedDict(sorted(destinations.items(), key=lambda kv: kv[1]))\n",
    "    predictions['euclid_team'] = list(scores.keys())[0]\n",
    "    predictions['euclid_score'] = scores[list(scores.keys())[0]]\n",
    "\n",
    "    \n",
    "    destinations = {}\n",
    "    for i,team in enumerate(teams_vecs):\n",
    "        dest = cosine_similarity([review], [team])[0]\n",
    "        destinations[list(team_names_keywords.keys())[i]] = dest\n",
    "    scores = OrderedDict(sorted(destinations.items(), key=lambda kv: kv[1],reverse=True))\n",
    "    predictions['cosine_team'] = list(scores.keys())[0]\n",
    "    predictions['cosine_score'] = scores[list(scores.keys())[0]]\n",
    "    predictions_list.append(predictions)\n",
    "    j+=1"
   ]
  },
  {
   "cell_type": "code",
   "execution_count": 97,
   "metadata": {},
   "outputs": [],
   "source": [
    "predictions_df = pd.DataFrame(predictions_list)"
   ]
  },
  {
   "cell_type": "code",
   "execution_count": 98,
   "metadata": {},
   "outputs": [
    {
     "data": {
      "text/plain": [
       "Sberbank ID B2C                                             6271\n",
       "Global Navigation                                           1979\n",
       "ЕФС.Автоплатежи                                             1562\n",
       "Текстовый чат                                                584\n",
       "[ЕФС].Кредитные карты.Космонавты (Доп. услуги и сервисы)     422\n",
       "iOS Platform                                                 281\n",
       "ЕФС.Платежи МП                                               235\n",
       "ПДВ в Digital                                                 89\n",
       "Карта в телефоне                                              71\n",
       "Дебетовые карты в мобильном приложении                        57\n",
       "СБОЛ. Классические переводы                                   33\n",
       "Name: euclid_team, dtype: int64"
      ]
     },
     "execution_count": 98,
     "metadata": {},
     "output_type": "execute_result"
    }
   ],
   "source": [
    "predictions_df['euclid_team'].value_counts()"
   ]
  },
  {
   "cell_type": "code",
   "execution_count": 99,
   "metadata": {},
   "outputs": [
    {
     "data": {
      "text/plain": [
       "Sberbank ID B2C                                             7098\n",
       "iOS Platform                                                2079\n",
       "ЕФС.Автоплатежи                                             1085\n",
       "Текстовый чат                                                505\n",
       "Карта в телефоне                                             412\n",
       "[ЕФС].Кредитные карты.Космонавты (Доп. услуги и сервисы)     217\n",
       "ПДВ в Digital                                                144\n",
       "ЕФС.Платежи МП                                                33\n",
       "Дебетовые карты в мобильном приложении                         6\n",
       "СБОЛ. Классические переводы                                    5\n",
       "Name: cosine_team, dtype: int64"
      ]
     },
     "execution_count": 99,
     "metadata": {},
     "output_type": "execute_result"
    }
   ],
   "source": [
    "predictions_df['cosine_team'].value_counts()"
   ]
  },
  {
   "cell_type": "code",
   "execution_count": 101,
   "metadata": {},
   "outputs": [
    {
     "data": {
      "text/plain": [
       "Sberbank ID B2C                                             5503\n",
       "Текстовый чат                                                358\n",
       "ЕФС.Автоплатежи                                              357\n",
       "iOS Platform                                                 164\n",
       "Карта в телефоне                                              71\n",
       "ПДВ в Digital                                                 65\n",
       "[ЕФС].Кредитные карты.Космонавты (Доп. услуги и сервисы)      31\n",
       "ЕФС.Платежи МП                                                23\n",
       "Дебетовые карты в мобильном приложении                         3\n",
       "СБОЛ. Классические переводы                                    2\n",
       "Name: euclid_team, dtype: int64"
      ]
     },
     "execution_count": 101,
     "metadata": {},
     "output_type": "execute_result"
    }
   ],
   "source": [
    "predictions_df[predictions_df['euclid_team']==predictions_df['cosine_team']]['euclid_team'].value_counts()"
   ]
  },
  {
   "cell_type": "code",
   "execution_count": 105,
   "metadata": {},
   "outputs": [
    {
     "data": {
      "text/html": [
       "<div>\n",
       "<style scoped>\n",
       "    .dataframe tbody tr th:only-of-type {\n",
       "        vertical-align: middle;\n",
       "    }\n",
       "\n",
       "    .dataframe tbody tr th {\n",
       "        vertical-align: top;\n",
       "    }\n",
       "\n",
       "    .dataframe thead th {\n",
       "        text-align: right;\n",
       "    }\n",
       "</style>\n",
       "<table border=\"1\" class=\"dataframe\">\n",
       "  <thead>\n",
       "    <tr style=\"text-align: right;\">\n",
       "      <th></th>\n",
       "      <th>review</th>\n",
       "      <th>euclid_team</th>\n",
       "      <th>euclid_score</th>\n",
       "      <th>cosine_team</th>\n",
       "      <th>cosine_score</th>\n",
       "    </tr>\n",
       "  </thead>\n",
       "  <tbody>\n",
       "    <tr>\n",
       "      <th>0</th>\n",
       "      <td>Не скачивается стала обновлять и зависло прило...</td>\n",
       "      <td>Sberbank ID B2C</td>\n",
       "      <td>[0.22103019]</td>\n",
       "      <td>Sberbank ID B2C</td>\n",
       "      <td>[0.9632037]</td>\n",
       "    </tr>\n",
       "    <tr>\n",
       "      <th>1</th>\n",
       "      <td>Приложение не открывается после обновления!!!!...</td>\n",
       "      <td>Sberbank ID B2C</td>\n",
       "      <td>[0.47706687]</td>\n",
       "      <td>Sberbank ID B2C</td>\n",
       "      <td>[0.7931382]</td>\n",
       "    </tr>\n",
       "    <tr>\n",
       "      <th>2</th>\n",
       "      <td>Добрый день, после последнего обновления пропа...</td>\n",
       "      <td>ЕФС.Платежи МП</td>\n",
       "      <td>[0.28130695]</td>\n",
       "      <td>[ЕФС].Кредитные карты.Космонавты (Доп. услуги ...</td>\n",
       "      <td>[0.92607796]</td>\n",
       "    </tr>\n",
       "    <tr>\n",
       "      <th>3</th>\n",
       "      <td>Не могу скачать так как требует подключения Wi-fi</td>\n",
       "      <td>Текстовый чат</td>\n",
       "      <td>[0.8737975]</td>\n",
       "      <td>iOS Platform</td>\n",
       "      <td>[0.49397904]</td>\n",
       "    </tr>\n",
       "    <tr>\n",
       "      <th>4</th>\n",
       "      <td>Почему то не могу оплатить при минусе на балан...</td>\n",
       "      <td>Sberbank ID B2C</td>\n",
       "      <td>[0.33825463]</td>\n",
       "      <td>ЕФС.Автоплатежи</td>\n",
       "      <td>[0.94127315]</td>\n",
       "    </tr>\n",
       "    <tr>\n",
       "      <th>5</th>\n",
       "      <td>Не могу связаться с поддержкой банка. Пишет чт...</td>\n",
       "      <td>Sberbank ID B2C</td>\n",
       "      <td>[0.26917583]</td>\n",
       "      <td>Sberbank ID B2C</td>\n",
       "      <td>[0.9309696]</td>\n",
       "    </tr>\n",
       "    <tr>\n",
       "      <th>6</th>\n",
       "      <td>Сделайте возможность отключать эти истории, он...</td>\n",
       "      <td>Global Navigation</td>\n",
       "      <td>[0.0]</td>\n",
       "      <td>iOS Platform</td>\n",
       "      <td>[0.0]</td>\n",
       "    </tr>\n",
       "    <tr>\n",
       "      <th>7</th>\n",
       "      <td>А я пожалуй закрою карту и все счета в сбере. ...</td>\n",
       "      <td>Sberbank ID B2C</td>\n",
       "      <td>[0.23678008]</td>\n",
       "      <td>Sberbank ID B2C</td>\n",
       "      <td>[0.94657344]</td>\n",
       "    </tr>\n",
       "    <tr>\n",
       "      <th>8</th>\n",
       "      <td>Объясните, почему нужно оплачивать перевод ден...</td>\n",
       "      <td>Global Navigation</td>\n",
       "      <td>[0.0]</td>\n",
       "      <td>iOS Platform</td>\n",
       "      <td>[0.0]</td>\n",
       "    </tr>\n",
       "    <tr>\n",
       "      <th>9</th>\n",
       "      <td>Дипломированные Мошенники</td>\n",
       "      <td>iOS Platform</td>\n",
       "      <td>[1.6872748]</td>\n",
       "      <td>Карта в телефоне</td>\n",
       "      <td>[0.6385048]</td>\n",
       "    </tr>\n",
       "    <tr>\n",
       "      <th>10</th>\n",
       "      <td>Очень плохо стало работать приложение в послед...</td>\n",
       "      <td>Sberbank ID B2C</td>\n",
       "      <td>[0.23214708]</td>\n",
       "      <td>Sberbank ID B2C</td>\n",
       "      <td>[0.98008204]</td>\n",
       "    </tr>\n",
       "    <tr>\n",
       "      <th>11</th>\n",
       "      <td>Приложение супер,вот только б ещё можно было ч...</td>\n",
       "      <td>Sberbank ID B2C</td>\n",
       "      <td>[0.18977183]</td>\n",
       "      <td>Sberbank ID B2C</td>\n",
       "      <td>[0.9650602]</td>\n",
       "    </tr>\n",
       "    <tr>\n",
       "      <th>12</th>\n",
       "      <td>Ни багов ни лагов пока не заметил</td>\n",
       "      <td>ЕФС.Автоплатежи</td>\n",
       "      <td>[0.2872915]</td>\n",
       "      <td>Sberbank ID B2C</td>\n",
       "      <td>[0.81363106]</td>\n",
       "    </tr>\n",
       "    <tr>\n",
       "      <th>13</th>\n",
       "      <td>Сделайте как было, скачивание без вайфая, не у...</td>\n",
       "      <td>Sberbank ID B2C</td>\n",
       "      <td>[0.55997753]</td>\n",
       "      <td>Sberbank ID B2C</td>\n",
       "      <td>[0.8993156]</td>\n",
       "    </tr>\n",
       "    <tr>\n",
       "      <th>14</th>\n",
       "      <td>Очень удобное, быстрое, качественное и самое м...</td>\n",
       "      <td>Sberbank ID B2C</td>\n",
       "      <td>[0.18718834]</td>\n",
       "      <td>Sberbank ID B2C</td>\n",
       "      <td>[0.96592116]</td>\n",
       "    </tr>\n",
       "    <tr>\n",
       "      <th>15</th>\n",
       "      <td>В новом интерфейсе слишком много ненужных аним...</td>\n",
       "      <td>ЕФС.Автоплатежи</td>\n",
       "      <td>[0.24713229]</td>\n",
       "      <td>Sberbank ID B2C</td>\n",
       "      <td>[0.8928261]</td>\n",
       "    </tr>\n",
       "    <tr>\n",
       "      <th>16</th>\n",
       "      <td>Не могу обновить Сбербанк Онлайн уже 5 дней. К...</td>\n",
       "      <td>ЕФС.Автоплатежи</td>\n",
       "      <td>[0.56139225]</td>\n",
       "      <td>Sberbank ID B2C</td>\n",
       "      <td>[0.641181]</td>\n",
       "    </tr>\n",
       "    <tr>\n",
       "      <th>17</th>\n",
       "      <td>Во вкладке Бюджет неправильно рассчитывается о...</td>\n",
       "      <td>Sberbank ID B2C</td>\n",
       "      <td>[0.3777238]</td>\n",
       "      <td>ЕФС.Автоплатежи</td>\n",
       "      <td>[0.9863777]</td>\n",
       "    </tr>\n",
       "    <tr>\n",
       "      <th>18</th>\n",
       "      <td>После последнего обновления стала быстро разря...</td>\n",
       "      <td>iOS Platform</td>\n",
       "      <td>[0.4785012]</td>\n",
       "      <td>iOS Platform</td>\n",
       "      <td>[0.86911917]</td>\n",
       "    </tr>\n",
       "    <tr>\n",
       "      <th>19</th>\n",
       "      <td>Сбербанк онлайн работает хорошо, но не всегда ...</td>\n",
       "      <td>[ЕФС].Кредитные карты.Космонавты (Доп. услуги ...</td>\n",
       "      <td>[0.25961965]</td>\n",
       "      <td>Sberbank ID B2C</td>\n",
       "      <td>[0.81363106]</td>\n",
       "    </tr>\n",
       "  </tbody>\n",
       "</table>\n",
       "</div>"
      ],
      "text/plain": [
       "                                               review  \\\n",
       "0   Не скачивается стала обновлять и зависло прило...   \n",
       "1   Приложение не открывается после обновления!!!!...   \n",
       "2   Добрый день, после последнего обновления пропа...   \n",
       "3   Не могу скачать так как требует подключения Wi-fi   \n",
       "4   Почему то не могу оплатить при минусе на балан...   \n",
       "5   Не могу связаться с поддержкой банка. Пишет чт...   \n",
       "6   Сделайте возможность отключать эти истории, он...   \n",
       "7   А я пожалуй закрою карту и все счета в сбере. ...   \n",
       "8   Объясните, почему нужно оплачивать перевод ден...   \n",
       "9                           Дипломированные Мошенники   \n",
       "10  Очень плохо стало работать приложение в послед...   \n",
       "11  Приложение супер,вот только б ещё можно было ч...   \n",
       "12                  Ни багов ни лагов пока не заметил   \n",
       "13  Сделайте как было, скачивание без вайфая, не у...   \n",
       "14  Очень удобное, быстрое, качественное и самое м...   \n",
       "15  В новом интерфейсе слишком много ненужных аним...   \n",
       "16  Не могу обновить Сбербанк Онлайн уже 5 дней. К...   \n",
       "17  Во вкладке Бюджет неправильно рассчитывается о...   \n",
       "18  После последнего обновления стала быстро разря...   \n",
       "19  Сбербанк онлайн работает хорошо, но не всегда ...   \n",
       "\n",
       "                                          euclid_team  euclid_score  \\\n",
       "0                                     Sberbank ID B2C  [0.22103019]   \n",
       "1                                     Sberbank ID B2C  [0.47706687]   \n",
       "2                                      ЕФС.Платежи МП  [0.28130695]   \n",
       "3                                       Текстовый чат   [0.8737975]   \n",
       "4                                     Sberbank ID B2C  [0.33825463]   \n",
       "5                                     Sberbank ID B2C  [0.26917583]   \n",
       "6                                   Global Navigation         [0.0]   \n",
       "7                                     Sberbank ID B2C  [0.23678008]   \n",
       "8                                   Global Navigation         [0.0]   \n",
       "9                                        iOS Platform   [1.6872748]   \n",
       "10                                    Sberbank ID B2C  [0.23214708]   \n",
       "11                                    Sberbank ID B2C  [0.18977183]   \n",
       "12                                    ЕФС.Автоплатежи   [0.2872915]   \n",
       "13                                    Sberbank ID B2C  [0.55997753]   \n",
       "14                                    Sberbank ID B2C  [0.18718834]   \n",
       "15                                    ЕФС.Автоплатежи  [0.24713229]   \n",
       "16                                    ЕФС.Автоплатежи  [0.56139225]   \n",
       "17                                    Sberbank ID B2C   [0.3777238]   \n",
       "18                                       iOS Platform   [0.4785012]   \n",
       "19  [ЕФС].Кредитные карты.Космонавты (Доп. услуги ...  [0.25961965]   \n",
       "\n",
       "                                          cosine_team  cosine_score  \n",
       "0                                     Sberbank ID B2C   [0.9632037]  \n",
       "1                                     Sberbank ID B2C   [0.7931382]  \n",
       "2   [ЕФС].Кредитные карты.Космонавты (Доп. услуги ...  [0.92607796]  \n",
       "3                                        iOS Platform  [0.49397904]  \n",
       "4                                     ЕФС.Автоплатежи  [0.94127315]  \n",
       "5                                     Sberbank ID B2C   [0.9309696]  \n",
       "6                                        iOS Platform         [0.0]  \n",
       "7                                     Sberbank ID B2C  [0.94657344]  \n",
       "8                                        iOS Platform         [0.0]  \n",
       "9                                    Карта в телефоне   [0.6385048]  \n",
       "10                                    Sberbank ID B2C  [0.98008204]  \n",
       "11                                    Sberbank ID B2C   [0.9650602]  \n",
       "12                                    Sberbank ID B2C  [0.81363106]  \n",
       "13                                    Sberbank ID B2C   [0.8993156]  \n",
       "14                                    Sberbank ID B2C  [0.96592116]  \n",
       "15                                    Sberbank ID B2C   [0.8928261]  \n",
       "16                                    Sberbank ID B2C    [0.641181]  \n",
       "17                                    ЕФС.Автоплатежи   [0.9863777]  \n",
       "18                                       iOS Platform  [0.86911917]  \n",
       "19                                    Sberbank ID B2C  [0.81363106]  "
      ]
     },
     "execution_count": 105,
     "metadata": {},
     "output_type": "execute_result"
    }
   ],
   "source": [
    "predictions_df.head(20)"
   ]
  },
  {
   "cell_type": "code",
   "execution_count": 121,
   "metadata": {},
   "outputs": [],
   "source": [
    "predictions_df.to_csv('../Resources/groups_predictions_flair.csv')"
   ]
  },
  {
   "cell_type": "code",
   "execution_count": 113,
   "metadata": {},
   "outputs": [
    {
     "name": "stderr",
     "output_type": "stream",
     "text": [
      "100%|██████████| 11584/11584 [01:45<00:00, 109.86it/s]\n"
     ]
    }
   ],
   "source": [
    "from sklearn.metrics.pairwise import euclidean_distances, cosine_similarity\n",
    "\n",
    "\n",
    "predictions_list = []\n",
    "j = 0\n",
    "for review in tqdm(X_train):\n",
    "    predictions = {}\n",
    "    predictions['review'] = data.iloc[j][REVIEW_COL]\n",
    "    destinations = {}\n",
    "    for i,team in enumerate(groups_vecs):\n",
    "        dest = euclidean_distances([review], [team])[0]\n",
    "        destinations[list(groups_keywords.keys())[i]] = dest\n",
    "    scores = OrderedDict(sorted(destinations.items(), key=lambda kv: kv[1]))\n",
    "    predictions['euclid_team'] = list(scores.keys())[0]\n",
    "    predictions['euclid_score'] = scores[list(scores.keys())[0]]\n",
    "\n",
    "    \n",
    "    destinations = {}\n",
    "    for i,team in enumerate(groups_vecs):\n",
    "        dest = cosine_similarity([review], [team])[0]\n",
    "        destinations[list(groups_keywords.keys())[i]] = dest\n",
    "    scores = OrderedDict(sorted(destinations.items(), key=lambda kv: kv[1],reverse=True))\n",
    "    predictions['cosine_team'] = list(scores.keys())[0]\n",
    "    predictions['cosine_score'] = scores[list(scores.keys())[0]]\n",
    "    predictions_list.append(predictions)\n",
    "    j+=1"
   ]
  },
  {
   "cell_type": "code",
   "execution_count": 114,
   "metadata": {},
   "outputs": [],
   "source": [
    "predictions_df_groups = pd.DataFrame(predictions_list)"
   ]
  },
  {
   "cell_type": "code",
   "execution_count": 119,
   "metadata": {},
   "outputs": [],
   "source": [
    "predictions_df_groups.to_csv('../Resources/groups_predictions_flair.csv')"
   ]
  },
  {
   "cell_type": "code",
   "execution_count": 116,
   "metadata": {},
   "outputs": [
    {
     "data": {
      "text/plain": [
       "Sberbank ID B2C         5912\n",
       "платежи                 2227\n",
       "данные клиента          1900\n",
       "общение                  592\n",
       "интерфейс приложения     445\n",
       "кредит                   402\n",
       "Карта в телефоне          62\n",
       "операции с картами        44\n",
       "Name: euclid_team, dtype: int64"
      ]
     },
     "execution_count": 116,
     "metadata": {},
     "output_type": "execute_result"
    }
   ],
   "source": [
    "predictions_df_groups['euclid_team'].value_counts()"
   ]
  },
  {
   "cell_type": "code",
   "execution_count": 117,
   "metadata": {},
   "outputs": [
    {
     "data": {
      "text/plain": [
       "Sberbank ID B2C         7368\n",
       "интерфейс приложения    2114\n",
       "платежи                  998\n",
       "общение                  568\n",
       "Карта в телефоне         370\n",
       "кредит                   161\n",
       "операции с картами         5\n",
       "Name: cosine_team, dtype: int64"
      ]
     },
     "execution_count": 117,
     "metadata": {},
     "output_type": "execute_result"
    }
   ],
   "source": [
    "predictions_df_groups['cosine_team'].value_counts()"
   ]
  },
  {
   "cell_type": "markdown",
   "metadata": {},
   "source": [
    "# BERT"
   ]
  },
  {
   "cell_type": "code",
   "execution_count": 123,
   "metadata": {},
   "outputs": [],
   "source": [
    "from sentence_transformers import SentenceTransformer, util"
   ]
  },
  {
   "cell_type": "code",
   "execution_count": 124,
   "metadata": {},
   "outputs": [
    {
     "name": "stderr",
     "output_type": "stream",
     "text": [
      "100%|██████████| 504M/504M [01:42<00:00, 4.93MB/s] \n"
     ]
    }
   ],
   "source": [
    "embedder = SentenceTransformer('distiluse-base-multilingual-cased')"
   ]
  },
  {
   "cell_type": "code",
   "execution_count": 125,
   "metadata": {},
   "outputs": [],
   "source": [
    "corpus = data[REVIEW_COL]"
   ]
  },
  {
   "cell_type": "code",
   "execution_count": 126,
   "metadata": {},
   "outputs": [],
   "source": [
    "corpus_embeddings = embedder.encode(corpus)"
   ]
  },
  {
   "cell_type": "code",
   "execution_count": 127,
   "metadata": {},
   "outputs": [],
   "source": [
    "teams_vecs = embedder.encode(team_names_keywords_vects)\n"
   ]
  },
  {
   "cell_type": "code",
   "execution_count": 128,
   "metadata": {},
   "outputs": [],
   "source": [
    "groups_vecs = embedder.encode(group_names_keywords_vects)"
   ]
  },
  {
   "cell_type": "code",
   "execution_count": null,
   "metadata": {},
   "outputs": [
    {
     "name": "stderr",
     "output_type": "stream",
     "text": [
      " 45%|████▍     | 22/49 [00:46<01:29,  3.31s/it]"
     ]
    }
   ],
   "source": [
    "from sklearn.cluster import KMeans\n",
    "\n",
    "Sum_of_squared_distances = []\n",
    "K = range(1,50)\n",
    "for k in tqdm(K):\n",
    "    km = KMeans(n_clusters=k)\n",
    "    km = km.fit(corpus_embeddings)\n",
    "    Sum_of_squared_distances.append(km.inertia_)\n",
    "\n",
    "\n",
    "import matplotlib.pyplot as plt\n",
    "\n",
    "plt.plot(K, Sum_of_squared_distances, 'bx-')\n",
    "plt.xlabel('k')\n",
    "plt.ylabel('Sum_of_squared_distances')\n",
    "plt.title('Elbow Method For Optimal k')\n",
    "plt.show()"
   ]
  },
  {
   "cell_type": "code",
   "execution_count": null,
   "metadata": {},
   "outputs": [],
   "source": []
  },
  {
   "cell_type": "code",
   "execution_count": 41,
   "metadata": {},
   "outputs": [],
   "source": [
    "km = KMeans(n_clusters=5)\n",
    "km = km.fit(X_train)"
   ]
  },
  {
   "cell_type": "code",
   "execution_count": 42,
   "metadata": {},
   "outputs": [],
   "source": [
    "from sklearn.decomposition import PCA"
   ]
  },
  {
   "cell_type": "code",
   "execution_count": 43,
   "metadata": {},
   "outputs": [],
   "source": [
    "pca = PCA(n_components=2, random_state=2)\n",
    "reduced_features = pca.fit_transform(X_train)"
   ]
  },
  {
   "cell_type": "code",
   "execution_count": 44,
   "metadata": {},
   "outputs": [],
   "source": [
    "reduced_cluster_centers = pca.transform(km.cluster_centers_)"
   ]
  },
  {
   "cell_type": "code",
   "execution_count": 45,
   "metadata": {},
   "outputs": [
    {
     "data": {
      "text/plain": [
       "<matplotlib.collections.PathCollection at 0x7f84f933f4d0>"
      ]
     },
     "execution_count": 45,
     "metadata": {},
     "output_type": "execute_result"
    },
    {
     "data": {
      "image/png": "[encoded data removed]",
      "text/plain": [
       "<Figure size 432x288 with 1 Axes>"
      ]
     },
     "metadata": {
      "needs_background": "light"
     },
     "output_type": "display_data"
    }
   ],
   "source": [
    "plt.scatter(reduced_features[:,0], reduced_features[:,1], c=km.predict(X_train))\n",
    "plt.scatter(reduced_cluster_centers[:, 0], reduced_cluster_centers[:,1], marker='x', s=15, c='b')"
   ]
  },
  {
   "cell_type": "code",
   "execution_count": 33,
   "metadata": {},
   "outputs": [],
   "source": [
    "df_clusters = pd.DataFrame(columns=['team','cluster'])"
   ]
  },
  {
   "cell_type": "code",
   "execution_count": 92,
   "metadata": {},
   "outputs": [],
   "source": [
    "df_clusters['team'] = team_names_keywords.keys()\n",
    "df_clusters['cluster'] = km.predict(teams_vecs)"
   ]
  },
  {
   "cell_type": "code",
   "execution_count": 93,
   "metadata": {},
   "outputs": [],
   "source": [
    "df_reviews = pd.DataFrame(columns=['review','cluster'])"
   ]
  },
  {
   "cell_type": "code",
   "execution_count": 94,
   "metadata": {},
   "outputs": [],
   "source": [
    "df_reviews['review'] = data[REVIEW_COL]\n",
    "df_reviews['cluster'] = km.predict(X_train)"
   ]
  },
  {
   "cell_type": "code",
   "execution_count": 95,
   "metadata": {},
   "outputs": [
    {
     "data": {
      "text/html": [
       "<div>\n",
       "<style scoped>\n",
       "    .dataframe tbody tr th:only-of-type {\n",
       "        vertical-align: middle;\n",
       "    }\n",
       "\n",
       "    .dataframe tbody tr th {\n",
       "        vertical-align: top;\n",
       "    }\n",
       "\n",
       "    .dataframe thead th {\n",
       "        text-align: right;\n",
       "    }\n",
       "</style>\n",
       "<table border=\"1\" class=\"dataframe\">\n",
       "  <thead>\n",
       "    <tr style=\"text-align: right;\">\n",
       "      <th></th>\n",
       "      <th>review</th>\n",
       "      <th>cluster</th>\n",
       "    </tr>\n",
       "  </thead>\n",
       "  <tbody>\n",
       "    <tr>\n",
       "      <th>0</th>\n",
       "      <td>Не скачивается стала обновлять и зависло прило...</td>\n",
       "      <td>4</td>\n",
       "    </tr>\n",
       "    <tr>\n",
       "      <th>1</th>\n",
       "      <td>Приложение не открывается после обновления!!!!...</td>\n",
       "      <td>1</td>\n",
       "    </tr>\n",
       "    <tr>\n",
       "      <th>2</th>\n",
       "      <td>Добрый день, после последнего обновления пропа...</td>\n",
       "      <td>1</td>\n",
       "    </tr>\n",
       "    <tr>\n",
       "      <th>3</th>\n",
       "      <td>Не могу скачать так как требует подключения Wi-fi</td>\n",
       "      <td>0</td>\n",
       "    </tr>\n",
       "    <tr>\n",
       "      <th>4</th>\n",
       "      <td>Почему то не могу оплатить при минусе на балан...</td>\n",
       "      <td>1</td>\n",
       "    </tr>\n",
       "    <tr>\n",
       "      <th>...</th>\n",
       "      <td>...</td>\n",
       "      <td>...</td>\n",
       "    </tr>\n",
       "    <tr>\n",
       "      <th>11579</th>\n",
       "      <td>Благодарю Сбербанк за четкую и оперативную раб...</td>\n",
       "      <td>4</td>\n",
       "    </tr>\n",
       "    <tr>\n",
       "      <th>11580</th>\n",
       "      <td>Зачем вы все время усложняете приложение. Выки...</td>\n",
       "      <td>1</td>\n",
       "    </tr>\n",
       "    <tr>\n",
       "      <th>11581</th>\n",
       "      <td>Вы просто супер</td>\n",
       "      <td>2</td>\n",
       "    </tr>\n",
       "    <tr>\n",
       "      <th>11582</th>\n",
       "      <td>Молодцы! Лучшее банковское приложение!\\nСделай...</td>\n",
       "      <td>1</td>\n",
       "    </tr>\n",
       "    <tr>\n",
       "      <th>11583</th>\n",
       "      <td>Спасибо огромное! Классное приложение, а после...</td>\n",
       "      <td>2</td>\n",
       "    </tr>\n",
       "  </tbody>\n",
       "</table>\n",
       "<p>11584 rows × 2 columns</p>\n",
       "</div>"
      ],
      "text/plain": [
       "                                                  review  cluster\n",
       "0      Не скачивается стала обновлять и зависло прило...        4\n",
       "1      Приложение не открывается после обновления!!!!...        1\n",
       "2      Добрый день, после последнего обновления пропа...        1\n",
       "3      Не могу скачать так как требует подключения Wi-fi        0\n",
       "4      Почему то не могу оплатить при минусе на балан...        1\n",
       "...                                                  ...      ...\n",
       "11579  Благодарю Сбербанк за четкую и оперативную раб...        4\n",
       "11580  Зачем вы все время усложняете приложение. Выки...        1\n",
       "11581                                    Вы просто супер        2\n",
       "11582  Молодцы! Лучшее банковское приложение!\\nСделай...        1\n",
       "11583  Спасибо огромное! Классное приложение, а после...        2\n",
       "\n",
       "[11584 rows x 2 columns]"
      ]
     },
     "execution_count": 95,
     "metadata": {},
     "output_type": "execute_result"
    }
   ],
   "source": [
    "df_reviews"
   ]
  }
 ],
 "metadata": {
  "kernelspec": {
   "display_name": "Python 3",
   "language": "python",
   "name": "python3"
  },
  "language_info": {
   "codemirror_mode": {
    "name": "ipython",
    "version": 3
   },
   "file_extension": ".py",
   "mimetype": "text/x-python",
   "name": "python",
   "nbconvert_exporter": "python",
   "pygments_lexer": "ipython3",
   "version": "3.7.7"
  }
 },
 "nbformat": 4,
 "nbformat_minor": 4
}
