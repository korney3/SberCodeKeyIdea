{
  "nbformat": 4,
  "nbformat_minor": 0,
  "metadata": {
    "colab": {
      "name": "new_flask_server.ipynb",
      "provenance": []
    },
    "kernelspec": {
      "name": "python3",
      "display_name": "Python 3"
    },
    "widgets": {
      "application/vnd.jupyter.widget-state+json": {
        "e0544589823a4c28bffc60892c44dcd9": {
          "model_module": "@jupyter-widgets/controls",
          "model_name": "HBoxModel",
          "state": {
            "_view_name": "HBoxView",
            "_dom_classes": [],
            "_model_name": "HBoxModel",
            "_view_module": "@jupyter-widgets/controls",
            "_model_module_version": "1.5.0",
            "_view_count": null,
            "_view_module_version": "1.5.0",
            "box_style": "",
            "layout": "IPY_MODEL_991c7b29bd99486395fee5ab43966ca3",
            "_model_module": "@jupyter-widgets/controls",
            "children": [
              "IPY_MODEL_292e1151daa8430d81493792a8dc9bfe",
              "IPY_MODEL_bd9f5c01581b4927bc64d2f8a134a23a"
            ]
          }
        },
        "991c7b29bd99486395fee5ab43966ca3": {
          "model_module": "@jupyter-widgets/base",
          "model_name": "LayoutModel",
          "state": {
            "_view_name": "LayoutView",
            "grid_template_rows": null,
            "right": null,
            "justify_content": null,
            "_view_module": "@jupyter-widgets/base",
            "overflow": null,
            "_model_module_version": "1.2.0",
            "_view_count": null,
            "flex_flow": null,
            "width": null,
            "min_width": null,
            "border": null,
            "align_items": null,
            "bottom": null,
            "_model_module": "@jupyter-widgets/base",
            "top": null,
            "grid_column": null,
            "overflow_y": null,
            "overflow_x": null,
            "grid_auto_flow": null,
            "grid_area": null,
            "grid_template_columns": null,
            "flex": null,
            "_model_name": "LayoutModel",
            "justify_items": null,
            "grid_row": null,
            "max_height": null,
            "align_content": null,
            "visibility": null,
            "align_self": null,
            "height": null,
            "min_height": null,
            "padding": null,
            "grid_auto_rows": null,
            "grid_gap": null,
            "max_width": null,
            "order": null,
            "_view_module_version": "1.2.0",
            "grid_template_areas": null,
            "object_position": null,
            "object_fit": null,
            "grid_auto_columns": null,
            "margin": null,
            "display": null,
            "left": null
          }
        },
        "292e1151daa8430d81493792a8dc9bfe": {
          "model_module": "@jupyter-widgets/controls",
          "model_name": "FloatProgressModel",
          "state": {
            "_view_name": "ProgressView",
            "style": "IPY_MODEL_6b57c9a056374f778baa209401a0dc3b",
            "_dom_classes": [],
            "description": "100%",
            "_model_name": "FloatProgressModel",
            "bar_style": "success",
            "max": 1,
            "_view_module": "@jupyter-widgets/controls",
            "_model_module_version": "1.5.0",
            "value": 1,
            "_view_count": null,
            "_view_module_version": "1.5.0",
            "orientation": "horizontal",
            "min": 0,
            "description_tooltip": null,
            "_model_module": "@jupyter-widgets/controls",
            "layout": "IPY_MODEL_23f043da9e8e4d86a4578a1c945814fc"
          }
        },
        "bd9f5c01581b4927bc64d2f8a134a23a": {
          "model_module": "@jupyter-widgets/controls",
          "model_name": "HTMLModel",
          "state": {
            "_view_name": "HTMLView",
            "style": "IPY_MODEL_ef0853ab35bb45a9b8a59385ea254b03",
            "_dom_classes": [],
            "description": "",
            "_model_name": "HTMLModel",
            "placeholder": "​",
            "_view_module": "@jupyter-widgets/controls",
            "_model_module_version": "1.5.0",
            "value": " 1/1 [00:00&lt;00:00, 11.77it/s]",
            "_view_count": null,
            "_view_module_version": "1.5.0",
            "description_tooltip": null,
            "_model_module": "@jupyter-widgets/controls",
            "layout": "IPY_MODEL_26986093e593489cabcebe0dac36ee38"
          }
        },
        "6b57c9a056374f778baa209401a0dc3b": {
          "model_module": "@jupyter-widgets/controls",
          "model_name": "ProgressStyleModel",
          "state": {
            "_view_name": "StyleView",
            "_model_name": "ProgressStyleModel",
            "description_width": "initial",
            "_view_module": "@jupyter-widgets/base",
            "_model_module_version": "1.5.0",
            "_view_count": null,
            "_view_module_version": "1.2.0",
            "bar_color": null,
            "_model_module": "@jupyter-widgets/controls"
          }
        },
        "23f043da9e8e4d86a4578a1c945814fc": {
          "model_module": "@jupyter-widgets/base",
          "model_name": "LayoutModel",
          "state": {
            "_view_name": "LayoutView",
            "grid_template_rows": null,
            "right": null,
            "justify_content": null,
            "_view_module": "@jupyter-widgets/base",
            "overflow": null,
            "_model_module_version": "1.2.0",
            "_view_count": null,
            "flex_flow": null,
            "width": null,
            "min_width": null,
            "border": null,
            "align_items": null,
            "bottom": null,
            "_model_module": "@jupyter-widgets/base",
            "top": null,
            "grid_column": null,
            "overflow_y": null,
            "overflow_x": null,
            "grid_auto_flow": null,
            "grid_area": null,
            "grid_template_columns": null,
            "flex": null,
            "_model_name": "LayoutModel",
            "justify_items": null,
            "grid_row": null,
            "max_height": null,
            "align_content": null,
            "visibility": null,
            "align_self": null,
            "height": null,
            "min_height": null,
            "padding": null,
            "grid_auto_rows": null,
            "grid_gap": null,
            "max_width": null,
            "order": null,
            "_view_module_version": "1.2.0",
            "grid_template_areas": null,
            "object_position": null,
            "object_fit": null,
            "grid_auto_columns": null,
            "margin": null,
            "display": null,
            "left": null
          }
        },
        "ef0853ab35bb45a9b8a59385ea254b03": {
          "model_module": "@jupyter-widgets/controls",
          "model_name": "DescriptionStyleModel",
          "state": {
            "_view_name": "StyleView",
            "_model_name": "DescriptionStyleModel",
            "description_width": "",
            "_view_module": "@jupyter-widgets/base",
            "_model_module_version": "1.5.0",
            "_view_count": null,
            "_view_module_version": "1.2.0",
            "_model_module": "@jupyter-widgets/controls"
          }
        },
        "26986093e593489cabcebe0dac36ee38": {
          "model_module": "@jupyter-widgets/base",
          "model_name": "LayoutModel",
          "state": {
            "_view_name": "LayoutView",
            "grid_template_rows": null,
            "right": null,
            "justify_content": null,
            "_view_module": "@jupyter-widgets/base",
            "overflow": null,
            "_model_module_version": "1.2.0",
            "_view_count": null,
            "flex_flow": null,
            "width": null,
            "min_width": null,
            "border": null,
            "align_items": null,
            "bottom": null,
            "_model_module": "@jupyter-widgets/base",
            "top": null,
            "grid_column": null,
            "overflow_y": null,
            "overflow_x": null,
            "grid_auto_flow": null,
            "grid_area": null,
            "grid_template_columns": null,
            "flex": null,
            "_model_name": "LayoutModel",
            "justify_items": null,
            "grid_row": null,
            "max_height": null,
            "align_content": null,
            "visibility": null,
            "align_self": null,
            "height": null,
            "min_height": null,
            "padding": null,
            "grid_auto_rows": null,
            "grid_gap": null,
            "max_width": null,
            "order": null,
            "_view_module_version": "1.2.0",
            "grid_template_areas": null,
            "object_position": null,
            "object_fit": null,
            "grid_auto_columns": null,
            "margin": null,
            "display": null,
            "left": null
          }
        },
        "80634a6dfe5e41358d5812656eee2303": {
          "model_module": "@jupyter-widgets/controls",
          "model_name": "HBoxModel",
          "state": {
            "_view_name": "HBoxView",
            "_dom_classes": [],
            "_model_name": "HBoxModel",
            "_view_module": "@jupyter-widgets/controls",
            "_model_module_version": "1.5.0",
            "_view_count": null,
            "_view_module_version": "1.5.0",
            "box_style": "",
            "layout": "IPY_MODEL_39b623974c634f329495d9279630a7e6",
            "_model_module": "@jupyter-widgets/controls",
            "children": [
              "IPY_MODEL_67b20fd03dd2423990b80f1084a4cf9d",
              "IPY_MODEL_2ec60ce273344924a55cd9a79302b74f"
            ]
          }
        },
        "39b623974c634f329495d9279630a7e6": {
          "model_module": "@jupyter-widgets/base",
          "model_name": "LayoutModel",
          "state": {
            "_view_name": "LayoutView",
            "grid_template_rows": null,
            "right": null,
            "justify_content": null,
            "_view_module": "@jupyter-widgets/base",
            "overflow": null,
            "_model_module_version": "1.2.0",
            "_view_count": null,
            "flex_flow": null,
            "width": null,
            "min_width": null,
            "border": null,
            "align_items": null,
            "bottom": null,
            "_model_module": "@jupyter-widgets/base",
            "top": null,
            "grid_column": null,
            "overflow_y": null,
            "overflow_x": null,
            "grid_auto_flow": null,
            "grid_area": null,
            "grid_template_columns": null,
            "flex": null,
            "_model_name": "LayoutModel",
            "justify_items": null,
            "grid_row": null,
            "max_height": null,
            "align_content": null,
            "visibility": null,
            "align_self": null,
            "height": null,
            "min_height": null,
            "padding": null,
            "grid_auto_rows": null,
            "grid_gap": null,
            "max_width": null,
            "order": null,
            "_view_module_version": "1.2.0",
            "grid_template_areas": null,
            "object_position": null,
            "object_fit": null,
            "grid_auto_columns": null,
            "margin": null,
            "display": null,
            "left": null
          }
        },
        "67b20fd03dd2423990b80f1084a4cf9d": {
          "model_module": "@jupyter-widgets/controls",
          "model_name": "FloatProgressModel",
          "state": {
            "_view_name": "ProgressView",
            "style": "IPY_MODEL_e5c8561c2a5d4ee0ac0205ccb4221bf6",
            "_dom_classes": [],
            "description": "100%",
            "_model_name": "FloatProgressModel",
            "bar_style": "success",
            "max": 1,
            "_view_module": "@jupyter-widgets/controls",
            "_model_module_version": "1.5.0",
            "value": 1,
            "_view_count": null,
            "_view_module_version": "1.5.0",
            "orientation": "horizontal",
            "min": 0,
            "description_tooltip": null,
            "_model_module": "@jupyter-widgets/controls",
            "layout": "IPY_MODEL_376bafe68f9d437a8f67ae2e94360129"
          }
        },
        "2ec60ce273344924a55cd9a79302b74f": {
          "model_module": "@jupyter-widgets/controls",
          "model_name": "HTMLModel",
          "state": {
            "_view_name": "HTMLView",
            "style": "IPY_MODEL_f50dfdddfc684e30888116852d0c2a08",
            "_dom_classes": [],
            "description": "",
            "_model_name": "HTMLModel",
            "placeholder": "​",
            "_view_module": "@jupyter-widgets/controls",
            "_model_module_version": "1.5.0",
            "value": " 1/1 [00:00&lt;00:00, 31.32it/s]",
            "_view_count": null,
            "_view_module_version": "1.5.0",
            "description_tooltip": null,
            "_model_module": "@jupyter-widgets/controls",
            "layout": "IPY_MODEL_95c3caa34cb54216bb9527eaf44f45fb"
          }
        },
        "e5c8561c2a5d4ee0ac0205ccb4221bf6": {
          "model_module": "@jupyter-widgets/controls",
          "model_name": "ProgressStyleModel",
          "state": {
            "_view_name": "StyleView",
            "_model_name": "ProgressStyleModel",
            "description_width": "initial",
            "_view_module": "@jupyter-widgets/base",
            "_model_module_version": "1.5.0",
            "_view_count": null,
            "_view_module_version": "1.2.0",
            "bar_color": null,
            "_model_module": "@jupyter-widgets/controls"
          }
        },
        "376bafe68f9d437a8f67ae2e94360129": {
          "model_module": "@jupyter-widgets/base",
          "model_name": "LayoutModel",
          "state": {
            "_view_name": "LayoutView",
            "grid_template_rows": null,
            "right": null,
            "justify_content": null,
            "_view_module": "@jupyter-widgets/base",
            "overflow": null,
            "_model_module_version": "1.2.0",
            "_view_count": null,
            "flex_flow": null,
            "width": null,
            "min_width": null,
            "border": null,
            "align_items": null,
            "bottom": null,
            "_model_module": "@jupyter-widgets/base",
            "top": null,
            "grid_column": null,
            "overflow_y": null,
            "overflow_x": null,
            "grid_auto_flow": null,
            "grid_area": null,
            "grid_template_columns": null,
            "flex": null,
            "_model_name": "LayoutModel",
            "justify_items": null,
            "grid_row": null,
            "max_height": null,
            "align_content": null,
            "visibility": null,
            "align_self": null,
            "height": null,
            "min_height": null,
            "padding": null,
            "grid_auto_rows": null,
            "grid_gap": null,
            "max_width": null,
            "order": null,
            "_view_module_version": "1.2.0",
            "grid_template_areas": null,
            "object_position": null,
            "object_fit": null,
            "grid_auto_columns": null,
            "margin": null,
            "display": null,
            "left": null
          }
        },
        "f50dfdddfc684e30888116852d0c2a08": {
          "model_module": "@jupyter-widgets/controls",
          "model_name": "DescriptionStyleModel",
          "state": {
            "_view_name": "StyleView",
            "_model_name": "DescriptionStyleModel",
            "description_width": "",
            "_view_module": "@jupyter-widgets/base",
            "_model_module_version": "1.5.0",
            "_view_count": null,
            "_view_module_version": "1.2.0",
            "_model_module": "@jupyter-widgets/controls"
          }
        },
        "95c3caa34cb54216bb9527eaf44f45fb": {
          "model_module": "@jupyter-widgets/base",
          "model_name": "LayoutModel",
          "state": {
            "_view_name": "LayoutView",
            "grid_template_rows": null,
            "right": null,
            "justify_content": null,
            "_view_module": "@jupyter-widgets/base",
            "overflow": null,
            "_model_module_version": "1.2.0",
            "_view_count": null,
            "flex_flow": null,
            "width": null,
            "min_width": null,
            "border": null,
            "align_items": null,
            "bottom": null,
            "_model_module": "@jupyter-widgets/base",
            "top": null,
            "grid_column": null,
            "overflow_y": null,
            "overflow_x": null,
            "grid_auto_flow": null,
            "grid_area": null,
            "grid_template_columns": null,
            "flex": null,
            "_model_name": "LayoutModel",
            "justify_items": null,
            "grid_row": null,
            "max_height": null,
            "align_content": null,
            "visibility": null,
            "align_self": null,
            "height": null,
            "min_height": null,
            "padding": null,
            "grid_auto_rows": null,
            "grid_gap": null,
            "max_width": null,
            "order": null,
            "_view_module_version": "1.2.0",
            "grid_template_areas": null,
            "object_position": null,
            "object_fit": null,
            "grid_auto_columns": null,
            "margin": null,
            "display": null,
            "left": null
          }
        }
      }
    }
  },
  "cells": [
    {
      "cell_type": "code",
      "metadata": {
        "id": "vQrxL32inmPI",
        "colab_type": "code",
        "colab": {}
      },
      "source": [
        "#!pip install pymorphy2\n",
        "from pymorphy2 import MorphAnalyzer\n",
        "import re\n",
        "from tqdm import tqdm_notebook\n",
        "import torch\n",
        "import numpy as np\n",
        "from nltk.tokenize import TweetTokenizer\n",
        "from nltk.stem.snowball import RussianStemmer\n",
        "import pickle\n",
        "import os\n",
        "import pandas as pd\n",
        "from tqdm import tqdm\n",
        "import json"
      ],
      "execution_count": 76,
      "outputs": []
    },
    {
      "cell_type": "code",
      "metadata": {
        "id": "t7EAyQz1oZk5",
        "colab_type": "code",
        "colab": {}
      },
      "source": [
        "import json\n",
        "with open(\"team_keywords.json\", \"r\") as fp_:\n",
        "  json_ = json.load(fp_)"
      ],
      "execution_count": 14,
      "outputs": []
    },
    {
      "cell_type": "code",
      "metadata": {
        "id": "Jgj0LHkwoL-k",
        "colab_type": "code",
        "colab": {}
      },
      "source": [
        "morph = MorphAnalyzer()\n",
        "for team in json_.keys():\n",
        "  json_[team] = [morph.parse(token)[0].normal_form for token in json_[team]]"
      ],
      "execution_count": 17,
      "outputs": []
    },
    {
      "cell_type": "code",
      "metadata": {
        "id": "2jzUWT20pF4r",
        "colab_type": "code",
        "colab": {}
      },
      "source": [
        "def lemmatize_texts(texts):\n",
        "    tokenized_text = []\n",
        "    for text in tqdm_notebook(texts):\n",
        "        #tokens = nltk.wordpunct_tokenize(text.lower())\n",
        "        prog = re.compile(r'[а-яa-z]+')\n",
        "        tokens = prog.findall(str(text).lower())\n",
        "        res=[morph.parse(token)[0].normal_form for token in tokens]\n",
        "        tokenized_text.append(res)\n",
        "    return tokenized_text"
      ],
      "execution_count": 23,
      "outputs": []
    },
    {
      "cell_type": "code",
      "metadata": {
        "id": "w4iHxviTqPRW",
        "colab_type": "code",
        "colab": {}
      },
      "source": [
        "def intersection(lemmatized_texts, json_):\n",
        "  intersection_list = []\n",
        "  for lemm in lemmatized_texts:\n",
        "\n",
        "    intersection={}\n",
        "    for team in json_.keys():\n",
        "      intersection[team] = len(list(set(lemm) & set(json_[team])))/len(json_[team])\n",
        "    intersection_list.append(intersection)\n",
        "  return intersection_list"
      ],
      "execution_count": 44,
      "outputs": []
    },
    {
      "cell_type": "code",
      "metadata": {
        "id": "XvHBS3Kbtaj5",
        "colab_type": "code",
        "colab": {}
      },
      "source": [
        "def top(intersection_list, top_=3):\n",
        "  topn = []\n",
        "  for intersection in intersection_list:\n",
        "    intersection = {x:y for x,y in intersection.items() if y!=0}\n",
        "    topn.append(sorted(intersection, key=intersection.get, reverse=True)[:top_])\n",
        "  return topn"
      ],
      "execution_count": 45,
      "outputs": []
    },
    {
      "cell_type": "code",
      "metadata": {
        "id": "hI5bu4WYqUTc",
        "colab_type": "code",
        "colab": {}
      },
      "source": [
        "#!pip install rutermextract\n",
        "def extract_keywords(text):\n",
        "    from rutermextract import TermExtractor\n",
        "    term_extractor = TermExtractor()\n",
        "    return [term.normalized for term in term_extractor(text)]"
      ],
      "execution_count": 46,
      "outputs": []
    },
    {
      "cell_type": "code",
      "metadata": {
        "id": "CMKZlmrNGcc7",
        "colab_type": "code",
        "colab": {}
      },
      "source": [
        "VOCAB_SIZE = 5000\n",
        "stemer = RussianStemmer()\n",
        "stem_cache = {}\n",
        "regex = re.compile('[^а-яА-Я ]')\n",
        "tokenizer = TweetTokenizer()"
      ],
      "execution_count": 57,
      "outputs": []
    },
    {
      "cell_type": "code",
      "metadata": {
        "id": "yNkVM-5WGp7D",
        "colab_type": "code",
        "colab": {}
      },
      "source": [
        "class senNet(torch.nn.Module):\n",
        "    def __init__(self):\n",
        "        super(senNet,self).__init__()\n",
        "        self.fc1=torch.nn.Linear(VOCAB_SIZE,125)\n",
        "        self.act1=torch.nn.ReLU()\n",
        "        self.fc2=torch.nn.Linear(125,25)\n",
        "        self.act2=torch.nn.ReLU()\n",
        "        self.fc3=torch.nn.Linear(25,2)\n",
        "        \n",
        "    \n",
        "    def forward(self,x):\n",
        "        x=self.fc1(x)\n",
        "        x=self.act1(x)\n",
        "        x=self.fc2(x)\n",
        "        x=self.act2(x)\n",
        "        x=self.fc3(x)\n",
        "        return x\n",
        "\n",
        "sen_net = senNet()"
      ],
      "execution_count": 58,
      "outputs": []
    },
    {
      "cell_type": "code",
      "metadata": {
        "id": "YjbkMKR_GmTs",
        "colab_type": "code",
        "colab": {}
      },
      "source": [
        "with open(\"model_v1.pk\", \"rb\") as f:\n",
        "  model = pickle.load(f)\n",
        "\n",
        "with open(\"vocab.pkl\", \"rb\") as pkl:\n",
        "  vocab = pickle.load(pkl)"
      ],
      "execution_count": 59,
      "outputs": []
    },
    {
      "cell_type": "code",
      "metadata": {
        "id": "oEz5se27Gvrj",
        "colab_type": "code",
        "colab": {}
      },
      "source": [
        "def tweet_to_vector(tweet, show_unknowns=False):\n",
        "    vector = np.zeros(VOCAB_SIZE, dtype=np.int_)\n",
        "    for token in tokenizer.tokenize(tweet):\n",
        "        stem = get_stem(token)\n",
        "        idx = token_2_idx.get(stem, None)\n",
        "        if idx is not None:\n",
        "            vector[idx] = 1\n",
        "        elif show_unknowns:\n",
        "            pass\n",
        "            #print(\"Unknown token: {}\".format(token))\n",
        "    return vector"
      ],
      "execution_count": 60,
      "outputs": []
    },
    {
      "cell_type": "code",
      "metadata": {
        "id": "1iIzdBSEGyO2",
        "colab_type": "code",
        "colab": {}
      },
      "source": [
        "def get_stem(token):\n",
        "    stem = stem_cache.get(token, None)\n",
        "    if stem:\n",
        "        return stem\n",
        "    token = regex.sub('', token).lower()\n",
        "    stem = stemer.stem(token)\n",
        "    stem_cache[token] = stem\n",
        "    return stem\n",
        "\n",
        "token_2_idx = {vocab[i] : i for i in range(VOCAB_SIZE)}"
      ],
      "execution_count": 62,
      "outputs": []
    },
    {
      "cell_type": "code",
      "metadata": {
        "id": "JC4TqMuU85vI",
        "colab_type": "code",
        "colab": {
          "base_uri": "https://localhost:8080/",
          "height": 122
        },
        "outputId": "5aea07a5-2619-46e2-9b8b-43e5f0b5eea5"
      },
      "source": [
        "from google.colab import drive\n",
        "drive.mount('/content/gdrive')"
      ],
      "execution_count": 66,
      "outputs": [
        {
          "output_type": "stream",
          "text": [
            "Go to this URL in a browser: https://accounts.google.com/o/oauth2/auth?client_id=947318989803-6bn6qk8qdgf4n4g3pfee6491hc0brc4i.apps.googleusercontent.com&redirect_uri=urn%3aietf%3awg%3aoauth%3a2.0%3aoob&response_type=code&scope=email%20https%3a%2f%2fwww.googleapis.com%2fauth%2fdocs.test%20https%3a%2f%2fwww.googleapis.com%2fauth%2fdrive%20https%3a%2f%2fwww.googleapis.com%2fauth%2fdrive.photos.readonly%20https%3a%2f%2fwww.googleapis.com%2fauth%2fpeopleapi.readonly\n",
            "\n",
            "Enter your authorization code:\n",
            "··········\n",
            "Mounted at /content/gdrive\n"
          ],
          "name": "stdout"
        }
      ]
    },
    {
      "cell_type": "code",
      "metadata": {
        "id": "_oFLCpcP83S-",
        "colab_type": "code",
        "colab": {}
      },
      "source": [
        "def FLAIR_MODEL(text):\n",
        "\n",
        "    with open(os.path.join('team_keywords.json'),'r') as f:\n",
        "        team_names_keywords = json.load(f)\n",
        "\n",
        "    with open(os.path.join('grouped_team_keywords.json'),'r') as f:\n",
        "        groups_keywords = json.load(f)\n",
        "\n",
        "    team_names_keywords_vects = [' '.join(team_names_keywords[team]) for team in team_names_keywords]\n",
        "    \n",
        "    from flair.embeddings import WordEmbeddings, DocumentPoolEmbeddings\n",
        "    from flair.data import Sentence\n",
        "    from collections import OrderedDict\n",
        "    from sklearn.metrics.pairwise import euclidean_distances, cosine_similarity\n",
        "\n",
        "    glove_embedding = WordEmbeddings(os.path.join(\"../content/gdrive/My Drive/ru-wiki-fasttext-300d-1M\"))\n",
        "\n",
        "    document_embeddings = DocumentPoolEmbeddings([glove_embedding])\n",
        "    \n",
        "    import string\n",
        "    def text_embeddings(text):\n",
        "        sentence = Sentence(text)\n",
        "        document_embeddings.embed(sentence)\n",
        "        return sentence.embedding.numpy()\n",
        "    \n",
        "    text_vec = text_embeddings(text)\n",
        "    \n",
        "    teams_vecs = []\n",
        "    for team in tqdm(team_names_keywords_vects):\n",
        "        teams_vecs.append(text_embeddings(team))\n",
        "    \n",
        "    predictions = {}\n",
        "    destinations = {}\n",
        "    for i,team in enumerate(teams_vecs):\n",
        "        dest = euclidean_distances([text_vec], [team])[0]\n",
        "        destinations[list(team_names_keywords.keys())[i]] = dest\n",
        "    scores = OrderedDict(sorted(destinations.items(), key=lambda kv: kv[1]))\n",
        "    predictions['euclid_team'] = list(scores.keys())[0]\n",
        "    predictions['euclid_score'] = scores[list(scores.keys())[0]][0]\n",
        "\n",
        "    destinations = {}\n",
        "    for i,team in enumerate(teams_vecs):\n",
        "        dest = cosine_similarity([text_vec], [team])[0]\n",
        "        destinations[list(team_names_keywords.keys())[i]] = dest\n",
        "    scores = OrderedDict(sorted(destinations.items(), key=lambda kv: kv[1],reverse=True))\n",
        "    predictions['cosine_team'] = list(scores.keys())[0]\n",
        "    predictions['cosine_score'] = scores[list(scores.keys())[0]][0]\n",
        "    predictions['text'] = text\n",
        "    \n",
        "    return predictions\n",
        "\n",
        "\n",
        "\n",
        "\n",
        "def BERT_MODEL(text):\n",
        "\n",
        "    with open(os.path.join('team_keywords.json'),'r') as f:\n",
        "        team_names_keywords = json.load(f)\n",
        "\n",
        "    with open(os.path.join('grouped_team_keywords.json'),'r') as f:\n",
        "        groups_keywords = json.load(f)\n",
        "\n",
        "    team_names_keywords_vects = [' '.join(team_names_keywords[team]) for team in team_names_keywords]\n",
        "\n",
        "    from sentence_transformers import SentenceTransformer, util\n",
        "    \n",
        "    from collections import OrderedDict\n",
        "    from sklearn.metrics.pairwise import euclidean_distances, cosine_similarity\n",
        "\n",
        "    embedder = SentenceTransformer(os.path.join('../content/gdrive/My Drive/public.ukp.informatik.tu-darmstadt.de_reimers_sentence-transformers_v0.2_distiluse-base-multilingual-cased.zip'))\n",
        "\n",
        "    teams_vecs = embedder.encode(team_names_keywords_vects)\n",
        "\n",
        "    text_vec = embedder.encode(text)[0]\n",
        "    \n",
        "    predictions = {}\n",
        "    destinations = {}\n",
        "    for i,team in enumerate(teams_vecs):\n",
        "        dest = euclidean_distances([text_vec], [team])[0]\n",
        "        destinations[list(team_names_keywords.keys())[i]] = dest\n",
        "    scores = OrderedDict(sorted(destinations.items(), key=lambda kv: kv[1]))\n",
        "    predictions['euclid_team'] = list(scores.keys())[0]\n",
        "    predictions['euclid_score'] = scores[list(scores.keys())[0]][0]\n",
        "\n",
        "    destinations = {}\n",
        "    for i,team in enumerate(teams_vecs):\n",
        "        dest = cosine_similarity([text_vec], [team])[0]\n",
        "        destinations[list(team_names_keywords.keys())[i]] = dest\n",
        "    scores = OrderedDict(sorted(destinations.items(), key=lambda kv: kv[1],reverse=True))\n",
        "    predictions['cosine_team'] = list(scores.keys())[0]\n",
        "    predictions['cosine_score'] = scores[list(scores.keys())[0]][0]\n",
        "    predictions['text'] = text\n",
        "    \n",
        "    return predictions"
      ],
      "execution_count": 70,
      "outputs": []
    },
    {
      "cell_type": "code",
      "metadata": {
        "id": "DrN1d1FOnwNa",
        "colab_type": "code",
        "colab": {
          "base_uri": "https://localhost:8080/",
          "height": 1000,
          "referenced_widgets": [
            "e0544589823a4c28bffc60892c44dcd9",
            "991c7b29bd99486395fee5ab43966ca3",
            "292e1151daa8430d81493792a8dc9bfe",
            "bd9f5c01581b4927bc64d2f8a134a23a",
            "6b57c9a056374f778baa209401a0dc3b",
            "23f043da9e8e4d86a4578a1c945814fc",
            "ef0853ab35bb45a9b8a59385ea254b03",
            "26986093e593489cabcebe0dac36ee38",
            "80634a6dfe5e41358d5812656eee2303",
            "39b623974c634f329495d9279630a7e6",
            "67b20fd03dd2423990b80f1084a4cf9d",
            "2ec60ce273344924a55cd9a79302b74f",
            "e5c8561c2a5d4ee0ac0205ccb4221bf6",
            "376bafe68f9d437a8f67ae2e94360129",
            "f50dfdddfc684e30888116852d0c2a08",
            "95c3caa34cb54216bb9527eaf44f45fb"
          ]
        },
        "outputId": "c78f9e56-b6c7-4b30-fcde-d70018b7f5db"
      },
      "source": [
        "#!pip install flask-ngrok\n",
        "#!pip install flask_cors\n",
        "#!pip install flair\n",
        "#!pip install sentence_transformers\n",
        "\n",
        "from flask_ngrok import run_with_ngrok\n",
        "from flask import Flask\n",
        "from flask import request\n",
        "from flask_cors import CORS\n",
        "import collections\n",
        "from flask import jsonify\n",
        "\n",
        "app = Flask(__name__)\n",
        "run_with_ngrok(app)\n",
        "CORS(app)\n",
        "\n",
        "@app.route(\"/\")\n",
        "def home():\n",
        "\n",
        "  text = request.args.get('text')\n",
        "  topn = request.args.get('topn')\n",
        "  lemmatized_texts = lemmatize_texts([text])\n",
        "\n",
        "  d = {}\n",
        "  exctracted_keywords = extract_keywords(\" \".join(lemmatized_texts[0]))\n",
        "  d[\"keywords\"] = exctracted_keywords\n",
        "\n",
        "  intersection={}\n",
        "  for team in json_.keys():\n",
        "    intersection[team] = len(list(set(exctracted_keywords) & set(json_[team])))/len(json_[team])\n",
        "\n",
        "  intersection = {x:y for x,y in intersection.items() if y!=0}\n",
        "  teams = sorted(intersection, key=intersection.get, reverse=True)[:int(topn)]\n",
        "  d[\"teams\"] = teams\n",
        "\n",
        "  tweet = text\n",
        "  tweet_vector = tweet_to_vector(tweet, True)\n",
        "  tweet_vector = torch.from_numpy(tweet_vector).float()\n",
        "  positive_prob = model.forward(tweet_vector)[1]\n",
        "  #print('Original tweet: {}'.format(tweet))\n",
        "  #print('P(positive) = {:.5f}. Result: '.format(positive_prob), 'Positive' if positive_prob > 0.5 else 'Negative')\n",
        "  tonality = 'Positive' if positive_prob > 0.5 else 'Negative'\n",
        "  d[\"tonality\"] = tonality\n",
        "\n",
        "  flair_preds = FLAIR_MODEL(text)\n",
        "  d[\"FLAIR\"] = {}\n",
        "  d[\"FLAIR\"][\"euclid_team\"] = flair_preds[\"euclid_team\"]\n",
        "  d[\"FLAIR\"][\"cosine_team\"] = flair_preds[\"cosine_team\"]\n",
        "  bert_preds = BERT_MODEL(text)\n",
        "  d[\"BERT\"] = {}\n",
        "  d[\"BERT\"][\"euclid_team\"] = bert_preds[\"euclid_team\"]\n",
        "  d[\"BERT\"][\"cosine_team\"] = bert_preds[\"cosine_team\"]\n",
        "\n",
        "  return jsonify(d)\n",
        "  \n",
        "app.run()"
      ],
      "execution_count": null,
      "outputs": [
        {
          "output_type": "stream",
          "text": [
            " * Serving Flask app \"__main__\" (lazy loading)\n",
            " * Environment: production\n",
            "\u001b[31m   WARNING: This is a development server. Do not use it in a production deployment.\u001b[0m\n",
            "\u001b[2m   Use a production WSGI server instead.\u001b[0m\n",
            " * Debug mode: off\n"
          ],
          "name": "stdout"
        },
        {
          "output_type": "stream",
          "text": [
            " * Running on http://127.0.0.1:5000/ (Press CTRL+C to quit)\n",
            "INFO:werkzeug: * Running on http://127.0.0.1:5000/ (Press CTRL+C to quit)\n"
          ],
          "name": "stderr"
        },
        {
          "output_type": "stream",
          "text": [
            " * Running on http://9bf34562b983.ngrok.io\n",
            " * Traffic stats available on http://127.0.0.1:4040\n"
          ],
          "name": "stdout"
        },
        {
          "output_type": "stream",
          "text": [
            "/usr/local/lib/python3.6/dist-packages/ipykernel_launcher.py:3: TqdmDeprecationWarning: This function will be removed in tqdm==5.0.0\n",
            "Please use `tqdm.notebook.tqdm` instead of `tqdm.tqdm_notebook`\n",
            "  This is separate from the ipykernel package so we can avoid doing imports until\n"
          ],
          "name": "stderr"
        },
        {
          "output_type": "display_data",
          "data": {
            "application/vnd.jupyter.widget-view+json": {
              "model_id": "e0544589823a4c28bffc60892c44dcd9",
              "version_minor": 0,
              "version_major": 2
            },
            "text/plain": [
              "HBox(children=(FloatProgress(value=0.0, max=1.0), HTML(value='')))"
            ]
          },
          "metadata": {
            "tags": []
          }
        },
        {
          "output_type": "stream",
          "text": [
            "/usr/lib/python3.6/re.py:212: FutureWarning: split() requires a non-empty pattern match.\n",
            "  return _compile(pattern, flags).split(string, maxsplit)\n",
            "/usr/local/lib/python3.6/dist-packages/smart_open/smart_open_lib.py:254: UserWarning: This function is deprecated, use smart_open.open instead. See the migration notes for details: https://github.com/RaRe-Technologies/smart_open/blob/master/README.rst#migrating-to-the-new-open-function\n",
            "  'See the migration notes for details: %s' % _MIGRATION_NOTES_URL\n"
          ],
          "name": "stderr"
        },
        {
          "output_type": "stream",
          "text": [
            "\n",
            "Unknown token: бочке\n",
            "Unknown token: дегтя\n",
            "Unknown token: техподдержки\n",
            "Unknown token: сбера\n",
            "Unknown token: сбера\n",
            "Unknown token: пос-терминалы\n",
            "Unknown token: интернет-банкинг\n",
            "Unknown token: выписка\n",
            "Unknown token: неформативна\n",
            "Unknown token: назначение\n",
            "Unknown token: платежа\n",
            "Unknown token: просмотреть\n",
            "Unknown token: платежку\n",
            "Unknown token: переслать\n",
            "Unknown token: предъявить\n",
            "Unknown token: сбера\n",
            "Unknown token: платежку\n",
            "Unknown token: неоперативно\n"
          ],
          "name": "stdout"
        },
        {
          "output_type": "stream",
          "text": [
            "100%|██████████| 42/42 [00:00<00:00, 1579.86it/s]\n",
            "127.0.0.1 - - [01/Aug/2020 17:12:32] \"\u001b[37mGET /?text=Здравствуйте!%20В%20этой%20прекрасной%20бочке%20меда%20уже%20давно%20имеется%20ложка%20дегтя,%20о%20которой%20пишу%20и%20говорю%20в%20телефон%20техподдержки%20сбера%20уже%20второй%20год:%20сделайте,%20пожалуйста,%20полную%20историю%20операций%20по%20счетам.%20Сейчас%20в%20историю%20попадают%20только%20переводы%20между%20своими%20счетами%20и%20на%20карты%20сбера%20и%20других%20банков.%20Не%20попадают%20операции%20оплаты%20в%20магазинах%20через%20пос-терминалы%20и%20через%20интернет-банкинг.%20Конечно%20для%20каждого%20счета%20имеется%20отчет%20-%20выписка%20за%20период.%20Но%20она%20абсолютно%20неформативна:%20отсутствует%20назначение%20платежа;%20невозможно%20просмотреть%20платежку,%20переслать%20ее%20(как%20это%20сделано%20в%20разделе%20История).%20Т.е.%20при%20необходимости%20предъявить%20кому-то%20факт%20оплаты%20невозможно%20поднять%20документ.%20Придется%20идти%20в%20отделение%20сбера%20и%20брать%20платежку%20с%20исполнением%20там,%20что%20неудобно%20и%20неоперативно.%20Очень%20прошу%20доделать%20историю%20операций.%20Заранее%20благодарю.&topn=2 HTTP/1.1\u001b[0m\" 200 -\n",
            "INFO:werkzeug:127.0.0.1 - - [01/Aug/2020 17:12:32] \"\u001b[37mGET /?text=Здравствуйте!%20В%20этой%20прекрасной%20бочке%20меда%20уже%20давно%20имеется%20ложка%20дегтя,%20о%20которой%20пишу%20и%20говорю%20в%20телефон%20техподдержки%20сбера%20уже%20второй%20год:%20сделайте,%20пожалуйста,%20полную%20историю%20операций%20по%20счетам.%20Сейчас%20в%20историю%20попадают%20только%20переводы%20между%20своими%20счетами%20и%20на%20карты%20сбера%20и%20других%20банков.%20Не%20попадают%20операции%20оплаты%20в%20магазинах%20через%20пос-терминалы%20и%20через%20интернет-банкинг.%20Конечно%20для%20каждого%20счета%20имеется%20отчет%20-%20выписка%20за%20период.%20Но%20она%20абсолютно%20неформативна:%20отсутствует%20назначение%20платежа;%20невозможно%20просмотреть%20платежку,%20переслать%20ее%20(как%20это%20сделано%20в%20разделе%20История).%20Т.е.%20при%20необходимости%20предъявить%20кому-то%20факт%20оплаты%20невозможно%20поднять%20документ.%20Придется%20идти%20в%20отделение%20сбера%20и%20брать%20платежку%20с%20исполнением%20там,%20что%20неудобно%20и%20неоперативно.%20Очень%20прошу%20доделать%20историю%20операций.%20Заранее%20благодарю.&topn=2 HTTP/1.1\u001b[0m\" 200 -\n",
            "/usr/local/lib/python3.6/dist-packages/ipykernel_launcher.py:3: TqdmDeprecationWarning: This function will be removed in tqdm==5.0.0\n",
            "Please use `tqdm.notebook.tqdm` instead of `tqdm.tqdm_notebook`\n",
            "  This is separate from the ipykernel package so we can avoid doing imports until\n"
          ],
          "name": "stderr"
        },
        {
          "output_type": "display_data",
          "data": {
            "application/vnd.jupyter.widget-view+json": {
              "model_id": "80634a6dfe5e41358d5812656eee2303",
              "version_minor": 0,
              "version_major": 2
            },
            "text/plain": [
              "HBox(children=(FloatProgress(value=0.0, max=1.0), HTML(value='')))"
            ]
          },
          "metadata": {
            "tags": []
          }
        },
        {
          "output_type": "stream",
          "text": [
            "/usr/lib/python3.6/re.py:212: FutureWarning: split() requires a non-empty pattern match.\n",
            "  return _compile(pattern, flags).split(string, maxsplit)\n",
            "[2020-08-01 17:12:54,158] ERROR in app: Exception on / [GET]\n",
            "Traceback (most recent call last):\n",
            "  File \"/usr/local/lib/python3.6/dist-packages/flask/app.py\", line 2447, in wsgi_app\n",
            "    response = self.full_dispatch_request()\n",
            "  File \"/usr/local/lib/python3.6/dist-packages/flask/app.py\", line 1952, in full_dispatch_request\n",
            "    rv = self.handle_user_exception(e)\n",
            "  File \"/usr/local/lib/python3.6/dist-packages/flask_cors/extension.py\", line 161, in wrapped_function\n",
            "    return cors_after_request(app.make_response(f(*args, **kwargs)))\n",
            "  File \"/usr/local/lib/python3.6/dist-packages/flask/app.py\", line 1821, in handle_user_exception\n",
            "    reraise(exc_type, exc_value, tb)\n",
            "  File \"/usr/local/lib/python3.6/dist-packages/flask/_compat.py\", line 39, in reraise\n",
            "    raise value\n",
            "  File \"/usr/local/lib/python3.6/dist-packages/flask/app.py\", line 1950, in full_dispatch_request\n",
            "    rv = self.dispatch_request()\n",
            "  File \"/usr/local/lib/python3.6/dist-packages/flask/app.py\", line 1936, in dispatch_request\n",
            "    return self.view_functions[rule.endpoint](**req.view_args)\n",
            "  File \"<ipython-input-79-63bf6f90fca3>\", line 33, in home\n",
            "    teams = sorted(intersection, key=intersection.get, reverse=True)[:int(topn)]\n",
            "TypeError: int() argument must be a string, a bytes-like object or a number, not 'NoneType'\n",
            "ERROR:__main__:Exception on / [GET]\n",
            "Traceback (most recent call last):\n",
            "  File \"/usr/local/lib/python3.6/dist-packages/flask/app.py\", line 2447, in wsgi_app\n",
            "    response = self.full_dispatch_request()\n",
            "  File \"/usr/local/lib/python3.6/dist-packages/flask/app.py\", line 1952, in full_dispatch_request\n",
            "    rv = self.handle_user_exception(e)\n",
            "  File \"/usr/local/lib/python3.6/dist-packages/flask_cors/extension.py\", line 161, in wrapped_function\n",
            "    return cors_after_request(app.make_response(f(*args, **kwargs)))\n",
            "  File \"/usr/local/lib/python3.6/dist-packages/flask/app.py\", line 1821, in handle_user_exception\n",
            "    reraise(exc_type, exc_value, tb)\n",
            "  File \"/usr/local/lib/python3.6/dist-packages/flask/_compat.py\", line 39, in reraise\n",
            "    raise value\n",
            "  File \"/usr/local/lib/python3.6/dist-packages/flask/app.py\", line 1950, in full_dispatch_request\n",
            "    rv = self.dispatch_request()\n",
            "  File \"/usr/local/lib/python3.6/dist-packages/flask/app.py\", line 1936, in dispatch_request\n",
            "    return self.view_functions[rule.endpoint](**req.view_args)\n",
            "  File \"<ipython-input-79-63bf6f90fca3>\", line 33, in home\n",
            "    teams = sorted(intersection, key=intersection.get, reverse=True)[:int(topn)]\n",
            "TypeError: int() argument must be a string, a bytes-like object or a number, not 'NoneType'\n",
            "127.0.0.1 - - [01/Aug/2020 17:12:54] \"\u001b[35m\u001b[1mGET / HTTP/1.1\u001b[0m\" 500 -\n",
            "INFO:werkzeug:127.0.0.1 - - [01/Aug/2020 17:12:54] \"\u001b[35m\u001b[1mGET / HTTP/1.1\u001b[0m\" 500 -\n"
          ],
          "name": "stderr"
        },
        {
          "output_type": "stream",
          "text": [
            "\n"
          ],
          "name": "stdout"
        }
      ]
    },
    {
      "cell_type": "code",
      "metadata": {
        "id": "Ih2AwKGisFBH",
        "colab_type": "code",
        "colab": {}
      },
      "source": [
        ""
      ],
      "execution_count": null,
      "outputs": []
    }
  ]
}