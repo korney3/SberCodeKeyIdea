{
 "cells": [
  {
   "cell_type": "code",
   "execution_count": 23,
   "metadata": {},
   "outputs": [],
   "source": [
    "import pandas as pd\n",
    "import os\n",
    "from tqdm import tqdm\n",
    "import json\n",
    "\n",
    "KEYWORDS_PATH = '../Resources/2_keywords_for_teams_data'\n",
    "\n",
    "DATA_PATH = '../Resources/2_keywords_for_teams_data'\n",
    "\n",
    "MODEL_PATH = '../'\n",
    "\n",
    "def FLAIR_MODEL(text):\n",
    "\n",
    "    with open(os.path.join(KEYWORDS_PATH,'team_keywords.json'),'r') as f:\n",
    "        team_names_keywords = json.load(f)\n",
    "\n",
    "    with open(os.path.join(KEYWORDS_PATH,'grouped_team_keywords.json'),'r') as f:\n",
    "        groups_keywords = json.load(f)\n",
    "\n",
    "    team_names_keywords_vects = [' '.join(team_names_keywords[team]) for team in team_names_keywords]\n",
    "#     group_names_keywords_vects = [' '.join(groups_keywords[team]) for team in groups_keywords]\n",
    "    \n",
    "    \n",
    "\n",
    "    from flair.embeddings import WordEmbeddings, DocumentPoolEmbeddings\n",
    "    from flair.data import Sentence\n",
    "    \n",
    "    from collections import OrderedDict\n",
    "\n",
    "\n",
    "    \n",
    "    from sklearn.metrics.pairwise import euclidean_distances, cosine_similarity\n",
    "\n",
    "\n",
    "    # initialize the word embeddings\n",
    "    glove_embedding = WordEmbeddings('ru')\n",
    "\n",
    "    # initialize the document embeddings, mode = mean\n",
    "    document_embeddings = DocumentPoolEmbeddings([glove_embedding])\n",
    "    \n",
    "    import string\n",
    "    def text_embeddings(text):\n",
    "        sentence = Sentence(text)\n",
    "        document_embeddings.embed(sentence)\n",
    "        return sentence.embedding.numpy()\n",
    "    \n",
    "    text_vec = text_embeddings(text)\n",
    "    \n",
    "    teams_vecs = []\n",
    "    for team in tqdm(team_names_keywords_vects):\n",
    "        teams_vecs.append(text_embeddings(team))\n",
    "    \n",
    "    predictions = {}\n",
    "    destinations = {}\n",
    "    for i,team in enumerate(teams_vecs):\n",
    "        dest = euclidean_distances([text_vec], [team])[0]\n",
    "        destinations[list(team_names_keywords.keys())[i]] = dest\n",
    "    scores = OrderedDict(sorted(destinations.items(), key=lambda kv: kv[1]))\n",
    "    predictions['euclid_team'] = list(scores.keys())[0]\n",
    "    predictions['euclid_score'] = scores[list(scores.keys())[0]][0]\n",
    "\n",
    "    \n",
    "    destinations = {}\n",
    "    for i,team in enumerate(teams_vecs):\n",
    "        dest = cosine_similarity([text_vec], [team])[0]\n",
    "        destinations[list(team_names_keywords.keys())[i]] = dest\n",
    "    scores = OrderedDict(sorted(destinations.items(), key=lambda kv: kv[1],reverse=True))\n",
    "    predictions['cosine_team'] = list(scores.keys())[0]\n",
    "    predictions['cosine_score'] = scores[list(scores.keys())[0]][0]\n",
    "    predictions['text'] = text\n",
    "    \n",
    "    return predictions\n",
    "\n",
    "def BERT_MODEL(text):\n",
    "\n",
    "    with open(os.path.join(KEYWORDS_PATH,'team_keywords.json'),'r') as f:\n",
    "        team_names_keywords = json.load(f)\n",
    "\n",
    "    with open(os.path.join(KEYWORDS_PATH,'grouped_team_keywords.json'),'r') as f:\n",
    "        groups_keywords = json.load(f)\n",
    "\n",
    "    team_names_keywords_vects = [' '.join(team_names_keywords[team]) for team in team_names_keywords]\n",
    "#     group_names_keywords_vects = [' '.join(groups_keywords[team]) for team in groups_keywords]\n",
    "    \n",
    "    \n",
    "\n",
    "    from sentence_transformers import SentenceTransformer, util\n",
    "    \n",
    "    from collections import OrderedDict\n",
    "\n",
    "\n",
    "    \n",
    "    from sklearn.metrics.pairwise import euclidean_distances, cosine_similarity\n",
    "\n",
    "\n",
    "    # initialize the word embeddings\n",
    "    embedder = SentenceTransformer('distiluse-base-multilingual-cased')\n",
    "\n",
    "    # initialize the document embeddings, mode = mean\n",
    "    teams_vecs = embedder.encode(team_names_keywords_vects)\n",
    "\n",
    "\n",
    "    \n",
    "    text_vec = embedder.encode(text)[0]\n",
    "    \n",
    "    predictions = {}\n",
    "    destinations = {}\n",
    "    for i,team in enumerate(teams_vecs):\n",
    "        dest = euclidean_distances([text_vec], [team])[0]\n",
    "        destinations[list(team_names_keywords.keys())[i]] = dest\n",
    "    scores = OrderedDict(sorted(destinations.items(), key=lambda kv: kv[1]))\n",
    "    predictions['euclid_team'] = list(scores.keys())[0]\n",
    "    predictions['euclid_score'] = scores[list(scores.keys())[0]][0]\n",
    "\n",
    "    \n",
    "    destinations = {}\n",
    "    for i,team in enumerate(teams_vecs):\n",
    "        dest = cosine_similarity([text_vec], [team])[0]\n",
    "        destinations[list(team_names_keywords.keys())[i]] = dest\n",
    "    scores = OrderedDict(sorted(destinations.items(), key=lambda kv: kv[1],reverse=True))\n",
    "    predictions['cosine_team'] = list(scores.keys())[0]\n",
    "    predictions['cosine_score'] = scores[list(scores.keys())[0]][0]\n",
    "    predictions['text'] = text\n",
    "    \n",
    "    return predictions"
   ]
  },
  {
   "cell_type": "code",
   "execution_count": 25,
   "metadata": {},
   "outputs": [
    {
     "name": "stderr",
     "output_type": "stream",
     "text": [
      "100%|██████████| 42/42 [00:00<00:00, 1118.21it/s]\n"
     ]
    },
    {
     "data": {
      "text/plain": [
       "{'euclid_team': 'Sberbank ID B2C',\n",
       " 'euclid_score': 2.7552223,\n",
       " 'cosine_team': 'ЕФС.Платежи МП',\n",
       " 'cosine_score': 0.46647698,\n",
       " 'text': 'шла саша по шоссе'}"
      ]
     },
     "execution_count": 25,
     "metadata": {},
     "output_type": "execute_result"
    }
   ],
   "source": [
    "FLAIR_MODEL('шла саша по шоссе')"
   ]
  },
  {
   "cell_type": "code",
   "execution_count": 24,
   "metadata": {},
   "outputs": [
    {
     "data": {
      "text/plain": [
       "{'euclid_team': 'Комиссионные продукты',\n",
       " 'euclid_score': 1.0524507,\n",
       " 'cosine_team': 'Комиссионные продукты',\n",
       " 'cosine_score': 0.257109,\n",
       " 'text': 'шла саша по шоссе'}"
      ]
     },
     "execution_count": 24,
     "metadata": {},
     "output_type": "execute_result"
    }
   ],
   "source": [
    "BERT_MODEL('шла саша по шоссе')"
   ]
  },
  {
   "cell_type": "code",
   "execution_count": 26,
   "metadata": {},
   "outputs": [
    {
     "name": "stderr",
     "output_type": "stream",
     "text": [
      "100%|██████████| 42/42 [00:00<00:00, 642.21it/s]\n"
     ]
    },
    {
     "data": {
      "text/plain": [
       "{'euclid_team': 'Sberbank ID B2C',\n",
       " 'euclid_score': 2.0415654,\n",
       " 'cosine_team': 'iOS Platform',\n",
       " 'cosine_score': 0.5543373,\n",
       " 'text': 'темная тема не работает, все падает!'}"
      ]
     },
     "execution_count": 26,
     "metadata": {},
     "output_type": "execute_result"
    }
   ],
   "source": [
    "FLAIR_MODEL('темная тема не работает, все падает!')"
   ]
  },
  {
   "cell_type": "code",
   "execution_count": 28,
   "metadata": {},
   "outputs": [
    {
     "data": {
      "text/plain": [
       "{'euclid_team': 'Плановый и досрочный перевыпуск дебетовых карт',\n",
       " 'euclid_score': 0.9864918,\n",
       " 'cosine_team': 'Плановый и досрочный перевыпуск дебетовых карт',\n",
       " 'cosine_score': 0.46008313,\n",
       " 'text': 'не работает карта'}"
      ]
     },
     "execution_count": 28,
     "metadata": {},
     "output_type": "execute_result"
    }
   ],
   "source": [
    "BERT_MODEL('не работает карта')"
   ]
  },
  {
   "cell_type": "code",
   "execution_count": null,
   "metadata": {},
   "outputs": [],
   "source": []
  }
 ],
 "metadata": {
  "kernelspec": {
   "display_name": "Python 3",
   "language": "python",
   "name": "python3"
  },
  "language_info": {
   "codemirror_mode": {
    "name": "ipython",
    "version": 3
   },
   "file_extension": ".py",
   "mimetype": "text/x-python",
   "name": "python",
   "nbconvert_exporter": "python",
   "pygments_lexer": "ipython3",
   "version": "3.7.7"
  }
 },
 "nbformat": 4,
 "nbformat_minor": 4
}
