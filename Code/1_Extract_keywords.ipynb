{
 "cells": [
  {
   "cell_type": "code",
   "execution_count": 14,
   "metadata": {},
   "outputs": [],
   "source": [
    "# !pip install rutermextract"
   ]
  },
  {
   "cell_type": "markdown",
   "metadata": {},
   "source": [
    "# Get review data"
   ]
  },
  {
   "cell_type": "code",
   "execution_count": 212,
   "metadata": {},
   "outputs": [],
   "source": [
    "from rutermextract import TermExtractor\n",
    "term_extractor = TermExtractor()"
   ]
  },
  {
   "cell_type": "code",
   "execution_count": 213,
   "metadata": {},
   "outputs": [],
   "source": [
    "import pandas as pd\n",
    "import os\n",
    "from tqdm import tqdm"
   ]
  },
  {
   "cell_type": "code",
   "execution_count": 214,
   "metadata": {},
   "outputs": [],
   "source": [
    "DATA_PATH = '../Resources'\n",
    "REVIEW_COL = 'Review'\n",
    "TITLE_COL = 'Title'"
   ]
  },
  {
   "cell_type": "code",
   "execution_count": 215,
   "metadata": {},
   "outputs": [],
   "source": [
    "data = pd.read_csv(os.path.join(DATA_PATH,'1_clean_review_data','cleanAppStore.csv'))"
   ]
  },
  {
   "cell_type": "code",
   "execution_count": 216,
   "metadata": {},
   "outputs": [
    {
     "data": {
      "text/html": [
       "<div>\n",
       "<style scoped>\n",
       "    .dataframe tbody tr th:only-of-type {\n",
       "        vertical-align: middle;\n",
       "    }\n",
       "\n",
       "    .dataframe tbody tr th {\n",
       "        vertical-align: top;\n",
       "    }\n",
       "\n",
       "    .dataframe thead th {\n",
       "        text-align: right;\n",
       "    }\n",
       "</style>\n",
       "<table border=\"1\" class=\"dataframe\">\n",
       "  <thead>\n",
       "    <tr style=\"text-align: right;\">\n",
       "      <th></th>\n",
       "      <th>Date</th>\n",
       "      <th>AppID</th>\n",
       "      <th>AppName</th>\n",
       "      <th>Country</th>\n",
       "      <th>Version</th>\n",
       "      <th>Author</th>\n",
       "      <th>Rating</th>\n",
       "      <th>Title</th>\n",
       "      <th>Review</th>\n",
       "      <th>Reply Date</th>\n",
       "      <th>Developer Reply</th>\n",
       "      <th>Likes</th>\n",
       "      <th>Dislikes</th>\n",
       "      <th>Link</th>\n",
       "      <th>Permalink</th>\n",
       "      <th>AF Link</th>\n",
       "    </tr>\n",
       "  </thead>\n",
       "  <tbody>\n",
       "    <tr>\n",
       "      <th>0</th>\n",
       "      <td>2020-07-29 06:53:05</td>\n",
       "      <td>492224193</td>\n",
       "      <td>Сбербанк Онлайн</td>\n",
       "      <td>ru</td>\n",
       "      <td>11.1.0</td>\n",
       "      <td>где кекс ефем</td>\n",
       "      <td>5</td>\n",
       "      <td>Сбербанк онлайн</td>\n",
       "      <td>Не скачивается стала обновлять и зависло прило...</td>\n",
       "      <td>NaN</td>\n",
       "      <td>NaN</td>\n",
       "      <td>0.0</td>\n",
       "      <td>0.0</td>\n",
       "      <td>https://appstoreconnect.apple.com/WebObjects/i...</td>\n",
       "      <td>https://appfollow.io/app/445/review/34133693?s=p2</td>\n",
       "      <td>https://watch.appfollow.io/apps/banks/reviews/...</td>\n",
       "    </tr>\n",
       "    <tr>\n",
       "      <th>1</th>\n",
       "      <td>2020-07-29 06:28:50</td>\n",
       "      <td>492224193</td>\n",
       "      <td>Сбербанк Онлайн</td>\n",
       "      <td>ru</td>\n",
       "      <td>11.1.0</td>\n",
       "      <td>Юлия9086428045</td>\n",
       "      <td>3</td>\n",
       "      <td>.</td>\n",
       "      <td>Приложение не открывается после обновления!!!!...</td>\n",
       "      <td>NaN</td>\n",
       "      <td>NaN</td>\n",
       "      <td>0.0</td>\n",
       "      <td>0.0</td>\n",
       "      <td>https://appstoreconnect.apple.com/WebObjects/i...</td>\n",
       "      <td>https://appfollow.io/app/445/review/34133692?s=p2</td>\n",
       "      <td>https://watch.appfollow.io/apps/banks/reviews/...</td>\n",
       "    </tr>\n",
       "    <tr>\n",
       "      <th>2</th>\n",
       "      <td>2020-07-29 05:23:33</td>\n",
       "      <td>492224193</td>\n",
       "      <td>Сбербанк Онлайн</td>\n",
       "      <td>ru</td>\n",
       "      <td>11.1.0</td>\n",
       "      <td>Екатерина 79</td>\n",
       "      <td>3</td>\n",
       "      <td>Касательно работы обновлённой версии</td>\n",
       "      <td>Добрый день, после последнего обновления пропа...</td>\n",
       "      <td>NaN</td>\n",
       "      <td>NaN</td>\n",
       "      <td>0.0</td>\n",
       "      <td>0.0</td>\n",
       "      <td>https://appstoreconnect.apple.com/WebObjects/i...</td>\n",
       "      <td>https://appfollow.io/app/445/review/34133691?s=p2</td>\n",
       "      <td>https://watch.appfollow.io/apps/banks/reviews/...</td>\n",
       "    </tr>\n",
       "    <tr>\n",
       "      <th>3</th>\n",
       "      <td>2020-07-29 03:06:06</td>\n",
       "      <td>492224193</td>\n",
       "      <td>Сбербанк Онлайн</td>\n",
       "      <td>ru</td>\n",
       "      <td>11.1.0</td>\n",
       "      <td>!ава!</td>\n",
       "      <td>1</td>\n",
       "      <td>.</td>\n",
       "      <td>Не могу скачать так как требует подключения Wi-fi</td>\n",
       "      <td>NaN</td>\n",
       "      <td>NaN</td>\n",
       "      <td>0.0</td>\n",
       "      <td>0.0</td>\n",
       "      <td>https://appstoreconnect.apple.com/WebObjects/i...</td>\n",
       "      <td>https://appfollow.io/app/445/review/34133690?s=p2</td>\n",
       "      <td>https://watch.appfollow.io/apps/banks/reviews/...</td>\n",
       "    </tr>\n",
       "    <tr>\n",
       "      <th>4</th>\n",
       "      <td>2020-07-29 01:47:35</td>\n",
       "      <td>492224193</td>\n",
       "      <td>Сбербанк Онлайн</td>\n",
       "      <td>ru</td>\n",
       "      <td>11.1.0</td>\n",
       "      <td>achjfdhj</td>\n",
       "      <td>1</td>\n",
       "      <td>ApplePay</td>\n",
       "      <td>Почему то не могу оплатить при минусе на балан...</td>\n",
       "      <td>NaN</td>\n",
       "      <td>NaN</td>\n",
       "      <td>0.0</td>\n",
       "      <td>0.0</td>\n",
       "      <td>https://appstoreconnect.apple.com/WebObjects/i...</td>\n",
       "      <td>https://appfollow.io/app/445/review/34133614?s=p2</td>\n",
       "      <td>https://watch.appfollow.io/apps/banks/reviews/...</td>\n",
       "    </tr>\n",
       "  </tbody>\n",
       "</table>\n",
       "</div>"
      ],
      "text/plain": [
       "                  Date      AppID          AppName Country Version  \\\n",
       "0  2020-07-29 06:53:05  492224193  Сбербанк Онлайн      ru  11.1.0   \n",
       "1  2020-07-29 06:28:50  492224193  Сбербанк Онлайн      ru  11.1.0   \n",
       "2  2020-07-29 05:23:33  492224193  Сбербанк Онлайн      ru  11.1.0   \n",
       "3  2020-07-29 03:06:06  492224193  Сбербанк Онлайн      ru  11.1.0   \n",
       "4  2020-07-29 01:47:35  492224193  Сбербанк Онлайн      ru  11.1.0   \n",
       "\n",
       "           Author  Rating                                 Title  \\\n",
       "0   где кекс ефем       5                       Сбербанк онлайн   \n",
       "1  Юлия9086428045       3                                     .   \n",
       "2    Екатерина 79       3  Касательно работы обновлённой версии   \n",
       "3           !ава!       1                                     .   \n",
       "4        achjfdhj       1                              ApplePay   \n",
       "\n",
       "                                              Review Reply Date  \\\n",
       "0  Не скачивается стала обновлять и зависло прило...        NaN   \n",
       "1  Приложение не открывается после обновления!!!!...        NaN   \n",
       "2  Добрый день, после последнего обновления пропа...        NaN   \n",
       "3  Не могу скачать так как требует подключения Wi-fi        NaN   \n",
       "4  Почему то не могу оплатить при минусе на балан...        NaN   \n",
       "\n",
       "  Developer Reply  Likes  Dislikes  \\\n",
       "0             NaN    0.0       0.0   \n",
       "1             NaN    0.0       0.0   \n",
       "2             NaN    0.0       0.0   \n",
       "3             NaN    0.0       0.0   \n",
       "4             NaN    0.0       0.0   \n",
       "\n",
       "                                                Link  \\\n",
       "0  https://appstoreconnect.apple.com/WebObjects/i...   \n",
       "1  https://appstoreconnect.apple.com/WebObjects/i...   \n",
       "2  https://appstoreconnect.apple.com/WebObjects/i...   \n",
       "3  https://appstoreconnect.apple.com/WebObjects/i...   \n",
       "4  https://appstoreconnect.apple.com/WebObjects/i...   \n",
       "\n",
       "                                           Permalink  \\\n",
       "0  https://appfollow.io/app/445/review/34133693?s=p2   \n",
       "1  https://appfollow.io/app/445/review/34133692?s=p2   \n",
       "2  https://appfollow.io/app/445/review/34133691?s=p2   \n",
       "3  https://appfollow.io/app/445/review/34133690?s=p2   \n",
       "4  https://appfollow.io/app/445/review/34133614?s=p2   \n",
       "\n",
       "                                             AF Link  \n",
       "0  https://watch.appfollow.io/apps/banks/reviews/...  \n",
       "1  https://watch.appfollow.io/apps/banks/reviews/...  \n",
       "2  https://watch.appfollow.io/apps/banks/reviews/...  \n",
       "3  https://watch.appfollow.io/apps/banks/reviews/...  \n",
       "4  https://watch.appfollow.io/apps/banks/reviews/...  "
      ]
     },
     "execution_count": 216,
     "metadata": {},
     "output_type": "execute_result"
    }
   ],
   "source": [
    "data.head()"
   ]
  },
  {
   "cell_type": "code",
   "execution_count": 217,
   "metadata": {},
   "outputs": [
    {
     "data": {
      "text/plain": [
       "(11584, 16)"
      ]
     },
     "execution_count": 217,
     "metadata": {},
     "output_type": "execute_result"
    }
   ],
   "source": [
    "data.shape"
   ]
  },
  {
   "cell_type": "markdown",
   "metadata": {},
   "source": [
    "# Extract keywords from reviews"
   ]
  },
  {
   "cell_type": "code",
   "execution_count": 29,
   "metadata": {},
   "outputs": [],
   "source": [
    "keywords_dict = {}\n",
    "keywords = []"
   ]
  },
  {
   "cell_type": "code",
   "execution_count": 30,
   "metadata": {},
   "outputs": [
    {
     "name": "stderr",
     "output_type": "stream",
     "text": [
      "100%|██████████| 11584/11584 [00:42<00:00, 271.80it/s]\n"
     ]
    }
   ],
   "source": [
    "for text in tqdm(data[REVIEW_COL]):\n",
    "    keyword_dict = {}\n",
    "    for term in term_extractor(text):\n",
    "        keyword_dict[term.normalized] = term.count\n",
    "        keywords.append(term.normalized)\n",
    "    keywords_dict[text] = keyword_dict"
   ]
  },
  {
   "cell_type": "code",
   "execution_count": 55,
   "metadata": {},
   "outputs": [
    {
     "data": {
      "text/plain": [
       "16139"
      ]
     },
     "execution_count": 55,
     "metadata": {},
     "output_type": "execute_result"
    }
   ],
   "source": [
    "len(set(keywords))"
   ]
  },
  {
   "cell_type": "markdown",
   "metadata": {},
   "source": [
    "# Extract keywords from reviews' titles"
   ]
  },
  {
   "cell_type": "code",
   "execution_count": 68,
   "metadata": {},
   "outputs": [],
   "source": [
    "keywords_dict_title = {}\n",
    "keywords_title = []"
   ]
  },
  {
   "cell_type": "code",
   "execution_count": 70,
   "metadata": {},
   "outputs": [
    {
     "name": "stderr",
     "output_type": "stream",
     "text": [
      "100%|██████████| 11584/11584 [00:05<00:00, 2229.34it/s]\n"
     ]
    }
   ],
   "source": [
    "for text in tqdm(data[TITLE_COL]):\n",
    "    keyword_dict = {}\n",
    "    for term in term_extractor(text):\n",
    "        keyword_dict[term.normalized] = term.count\n",
    "        keywords_title.append(term.normalized)\n",
    "    keywords_dict_title[text] = keyword_dict"
   ]
  },
  {
   "cell_type": "code",
   "execution_count": 71,
   "metadata": {},
   "outputs": [
    {
     "data": {
      "text/plain": [
       "3258"
      ]
     },
     "execution_count": 71,
     "metadata": {},
     "output_type": "execute_result"
    }
   ],
   "source": [
    "len(set(keywords_title))"
   ]
  },
  {
   "cell_type": "markdown",
   "metadata": {},
   "source": [
    "# Count most common keywords"
   ]
  },
  {
   "cell_type": "code",
   "execution_count": 49,
   "metadata": {},
   "outputs": [],
   "source": [
    "import seaborn as sns"
   ]
  },
  {
   "cell_type": "code",
   "execution_count": 72,
   "metadata": {},
   "outputs": [],
   "source": [
    "from collections import Counter,OrderedDict\n",
    "counter = Counter(keywords)\n",
    "keywords_occur = OrderedDict(sorted(counter.items(), key=lambda kv: kv[1], reverse=True))\n",
    "counter_title = Counter(keywords_title)\n",
    "keywords_occur_title = OrderedDict(sorted(counter_title.items(), key=lambda kv: kv[1], reverse=True))"
   ]
  },
  {
   "cell_type": "code",
   "execution_count": 73,
   "metadata": {},
   "outputs": [],
   "source": [
    "keywords_occur_df = pd.DataFrame(columns = ['keyword','occurance'])\n",
    "keywords_occur_df_title = pd.DataFrame(columns = ['keyword','occurance'])"
   ]
  },
  {
   "cell_type": "code",
   "execution_count": 74,
   "metadata": {},
   "outputs": [],
   "source": [
    "keywords_occur_df['keyword'] = keywords_occur.keys()\n",
    "keywords_occur_df['occurance'] = keywords_occur.values()\n",
    "\n",
    "keywords_occur_df_title['keyword'] = keywords_occur_title.keys()\n",
    "keywords_occur_df_title['occurance'] = keywords_occur_title.values()"
   ]
  },
  {
   "cell_type": "code",
   "execution_count": 75,
   "metadata": {},
   "outputs": [
    {
     "data": {
      "text/plain": [
       "<AxesSubplot:xlabel='occurance'>"
      ]
     },
     "execution_count": 75,
     "metadata": {},
     "output_type": "execute_result"
    },
    {
     "data": {
      "image/png": "[encoded data removed]",
      "text/plain": [
       "<Figure size 432x288 with 1 Axes>"
      ]
     },
     "metadata": {
      "needs_background": "light"
     },
     "output_type": "display_data"
    }
   ],
   "source": [
    "# distplot of all keywords occurances\n",
    "sns.distplot(keywords_occur_df_title['occurance'])"
   ]
  },
  {
   "cell_type": "code",
   "execution_count": 63,
   "metadata": {},
   "outputs": [
    {
     "name": "stderr",
     "output_type": "stream",
     "text": [
      "/Users/Alisa.Alenicheva/anaconda3/envs/sbercode/lib/python3.7/site-packages/ipykernel_launcher.py:2: UserWarning: Boolean Series key will be reindexed to match DataFrame index.\n",
      "  \n"
     ]
    },
    {
     "data": {
      "text/plain": [
       "<AxesSubplot:xlabel='occurance'>"
      ]
     },
     "execution_count": 63,
     "metadata": {},
     "output_type": "execute_result"
    },
    {
     "data": {
      "image/png": "[encoded data removed]",
      "text/plain": [
       "<Figure size 432x288 with 1 Axes>"
      ]
     },
     "metadata": {
      "needs_background": "light"
     },
     "output_type": "display_data"
    }
   ],
   "source": [
    "# distplot of all keywords occurances\n",
    "sns.distplot(keywords_occur_df[keywords_occur_df['occurance']>1][keywords_occur_df['occurance']<500]['occurance'])"
   ]
  },
  {
   "cell_type": "code",
   "execution_count": 65,
   "metadata": {},
   "outputs": [
    {
     "data": {
      "text/plain": [
       "12307"
      ]
     },
     "execution_count": 65,
     "metadata": {},
     "output_type": "execute_result"
    }
   ],
   "source": [
    "len(keywords_occur_df[keywords_occur_df['occurance']==1]['keyword'].values)"
   ]
  },
  {
   "cell_type": "code",
   "execution_count": 67,
   "metadata": {},
   "outputs": [
    {
     "data": {
      "text/plain": [
       "array(['сканирование лица', 'подключение wi-fi', 'mastercard', ...,\n",
       "       'телефон денег', 'менеджеры рукожопов',\n",
       "       'возможность выбора способа начисления'], dtype=object)"
      ]
     },
     "execution_count": 67,
     "metadata": {},
     "output_type": "execute_result"
    }
   ],
   "source": [
    "keywords_occur_df[keywords_occur_df['occurance']==1]['keyword'].values"
   ]
  },
  {
   "cell_type": "code",
   "execution_count": 218,
   "metadata": {},
   "outputs": [],
   "source": [
    "keywords_occur_df_title.to_excel(os.path.join(DATA_PATH,'2_keywords_for_teams_data','keywords_title.xls'))\n",
    "keywords_occur_df.to_excel(os.path.join(DATA_PATH,'2_keywords_for_teams_data','keywords.xls'))"
   ]
  },
  {
   "cell_type": "markdown",
   "metadata": {},
   "source": [
    "# Distribute keywords over teams"
   ]
  },
  {
   "cell_type": "code",
   "execution_count": 219,
   "metadata": {},
   "outputs": [],
   "source": [
    "team_names = list(set([x.strip('\\r\\n') for x in open(os.path.join(DATA_PATH,'2_keywords_for_teams_data','team_names.txt'))]))"
   ]
  },
  {
   "cell_type": "code",
   "execution_count": 194,
   "metadata": {},
   "outputs": [
    {
     "data": {
      "text/plain": [
       "['store-n-sales',\n",
       " 'Редактируемый профиль клиента',\n",
       " 'DDA Profile',\n",
       " 'Дебетовые карты в мобильном приложении',\n",
       " 'История операций',\n",
       " 'iOS Release Engineer',\n",
       " 'PFMMPLACE',\n",
       " 'ЕФС. Страхование',\n",
       " 'PFM Бюджет',\n",
       " 'Data Driven App',\n",
       " 'ВС.МП вклады',\n",
       " 'Госуслуги',\n",
       " 'Global Navigation',\n",
       " 'Цифровой Кредит',\n",
       " 'DBP.Витрины продаж',\n",
       " 'Integration Platform',\n",
       " 'Мессенджер',\n",
       " 'ПДВ в Digital',\n",
       " 'iOS Platform',\n",
       " 'ЕФС.Автоплатежи',\n",
       " 'Карта в телефоне',\n",
       " 'Плановый и досрочный перевыпуск дебетовых карт',\n",
       " 'ЕФС. Брокеридж. Мобайл',\n",
       " 'Автопереводы',\n",
       " 'Комиссионные продукты',\n",
       " 'DBP.Подарки',\n",
       " 'Mobile Online POS (Розничный кредит)',\n",
       " 'Развитие лояльности в МП СБОЛ',\n",
       " 'PUSH IOS',\n",
       " 'ЕФС Выписки и справки. Mobile',\n",
       " 'Самозанятые',\n",
       " 'Digital Сбербанк Премьер',\n",
       " 'Sberbank ID B2C',\n",
       " 'PFM',\n",
       " 'ЕФС.Платежи МП',\n",
       " 'Телеком',\n",
       " 'Платежи. Штрафы',\n",
       " 'Текстовый чат',\n",
       " '[ЕФС] Б.УБ.СБОЛ.Баллонг',\n",
       " 'Краудфандинг',\n",
       " '[ЕФС].Кредитные карты.Космонавты (Доп. услуги и сервисы)',\n",
       " 'СБОЛ. Классические переводы']"
      ]
     },
     "execution_count": 194,
     "metadata": {},
     "output_type": "execute_result"
    }
   ],
   "source": [
    "team_names"
   ]
  },
  {
   "cell_type": "code",
   "execution_count": 139,
   "metadata": {},
   "outputs": [],
   "source": [
    "team_names_keywords = {}"
   ]
  },
  {
   "cell_type": "code",
   "execution_count": 140,
   "metadata": {},
   "outputs": [],
   "source": [
    "team_names_keywords['iOS Platform'] = 'Touch ID,Face ID,Виджет Избранное,Геокарты,Адресная книга,Механизм отправки событий аналитики,Аутентификация,Регистрация,Авторизация,карта,темная тема,вход,виджет,обновление,версия,ios,ipad,вылет,лагает,тормозит,айфон,запуск,загрузка,отпечаток,авторизаци,зависание,обнова,глюк,звук,фейс,долгая загрузка,быстрый вход,отображение,iphone xr,фэйс,iphone 6,пароль,ввод пароля,iphone X,черная тема,ошибка приложения,iphone xs,ipad pr'.lower().split(',')"
   ]
  },
  {
   "cell_type": "code",
   "execution_count": 141,
   "metadata": {},
   "outputs": [],
   "source": [
    "team_names_keywords['Global Navigation'] = 'Прелогин,приветствие,экран входа,экран ввода пинкода,экран регистрации,Курсы валют,Туториал,оферта,политика конфиденциальности,демо-режим,вход,виджет,интерфейс,загрузка,авторизация,вкладка,дизайн,заставка,кнопка,главный экран,оформление,меню,экран,шрифт,анимация,окно'.lower().split(',')\n"
   ]
  },
  {
   "cell_type": "code",
   "execution_count": 142,
   "metadata": {},
   "outputs": [],
   "source": [
    "team_names_keywords['DDA Profile'] = 'профиль клиента,личный кабинет,пароль'.lower().split(',')"
   ]
  },
  {
   "cell_type": "code",
   "execution_count": 143,
   "metadata": {},
   "outputs": [],
   "source": [
    "team_names_keywords['PFM'] = 'цели,копилки'.lower().split(',')"
   ]
  },
  {
   "cell_type": "code",
   "execution_count": 144,
   "metadata": {},
   "outputs": [],
   "source": [
    "team_names_keywords['PFMMPLACE'] = 'инвестиции'.lower().split(',')"
   ]
  },
  {
   "cell_type": "code",
   "execution_count": 145,
   "metadata": {},
   "outputs": [],
   "source": [
    "team_names_keywords['PUSH IOS'] = 'пуш-уведомления,пуш уведомления,Уведомление,оповещение,реклама,спам,звук,эксклюзивные звуки,пуш'.lower().split(',')"
   ]
  },
  {
   "cell_type": "code",
   "execution_count": 146,
   "metadata": {},
   "outputs": [],
   "source": [
    "team_names_keywords['DBP.Витрины продаж'] = 'предложения банка,реклама,спам'.lower().split(',')"
   ]
  },
  {
   "cell_type": "code",
   "execution_count": 147,
   "metadata": {},
   "outputs": [],
   "source": [
    "team_names_keywords['Госуслуги'] = 'госуслуги'.lower().split(',')"
   ]
  },
  {
   "cell_type": "code",
   "execution_count": 148,
   "metadata": {},
   "outputs": [],
   "source": [
    "team_names_keywords['iOS Release Engineer'] = 'Безопасность,Размер сборки,оферта,политика конфиденциальности,Обновление,версия,новая версия,обнова,оптимизация,размер приложения,конфиденциальность'.lower().split(',')"
   ]
  },
  {
   "cell_type": "code",
   "execution_count": 149,
   "metadata": {},
   "outputs": [],
   "source": [
    "team_names_keywords['Мессенджер'] = 'диалоги,смс,диалог,связь,спам,бот,смс-уведомления,смс-оповещения'.lower().split(',')"
   ]
  },
  {
   "cell_type": "code",
   "execution_count": 150,
   "metadata": {},
   "outputs": [],
   "source": [
    "team_names_keywords['store-n-sales'] = 'каталог'.lower().split(',')"
   ]
  },
  {
   "cell_type": "code",
   "execution_count": 151,
   "metadata": {},
   "outputs": [],
   "source": [
    "team_names_keywords['Integration Platform'] = 'лимиты,справочники'.lower().split(',')"
   ]
  },
  {
   "cell_type": "code",
   "execution_count": 152,
   "metadata": {},
   "outputs": [],
   "source": [
    "team_names_keywords['Data Driven App'] = 'умный поиск'.lower().split(',')"
   ]
  },
  {
   "cell_type": "code",
   "execution_count": 153,
   "metadata": {},
   "outputs": [],
   "source": [
    "team_names_keywords['Краудфандинг'] = 'Краудфандинг,Краудгифтинг'.lower().split(',')"
   ]
  },
  {
   "cell_type": "code",
   "execution_count": 154,
   "metadata": {},
   "outputs": [],
   "source": [
    "team_names_keywords['DBP.Подарки'] = 'Подарки'.lower().split(',')"
   ]
  },
  {
   "cell_type": "code",
   "execution_count": 155,
   "metadata": {},
   "outputs": [],
   "source": [
    "team_names_keywords['Sberbank ID B2C'] = 'Оплата товаров из других приложений и интернет-магазинов,комиссия,уведомление,товар,интернет-магазин'.lower().split(',')"
   ]
  },
  {
   "cell_type": "code",
   "execution_count": 156,
   "metadata": {},
   "outputs": [],
   "source": [
    "team_names_keywords['История операций'] = 'История операций,лента событий'.lower().split(',')"
   ]
  },
  {
   "cell_type": "code",
   "execution_count": 157,
   "metadata": {},
   "outputs": [],
   "source": [
    "team_names_keywords['Редактируемый профиль клиента'] = 'Личный кабинет,фото,Персональные данные клиента,паспортные данные,инн,снилс'.lower().split(',')"
   ]
  },
  {
   "cell_type": "code",
   "execution_count": 158,
   "metadata": {},
   "outputs": [],
   "source": [
    "team_names_keywords['ЕФС Выписки и справки. Mobile'] = 'выписка,справка,отчет,квитанция,счет'.lower().split(',')"
   ]
  },
  {
   "cell_type": "code",
   "execution_count": 159,
   "metadata": {},
   "outputs": [],
   "source": [
    "team_names_keywords['ЕФС.Платежи МП'] = 'оплата услуг,мобильная связь,интернет,оплата по ШК,оплата по QR,оплата по штрихкоду,изменение статуса,печать чека,комиссия,шаблон,деньги,мир,оповещение,платеж,реквизиты,оплата жкх,быстрые платежи,номер телефона,чеки,денежные средства,штрих,квитанция,штрих-код,qr-код,жкх'.lower().split(',')"
   ]
  },
  {
   "cell_type": "code",
   "execution_count": 160,
   "metadata": {},
   "outputs": [],
   "source": [
    "team_names_keywords['Платежи. Штрафы'] = 'оплата штрафов,поиск штрафов,бюджетные платежи,налоги,полшлины,патенты,комиссия,уведомление,деньги,шаблон,график платежей,реквизиты,гибдд,денежные средства'.lower().split(',')"
   ]
  },
  {
   "cell_type": "code",
   "execution_count": 161,
   "metadata": {},
   "outputs": [],
   "source": [
    "team_names_keywords['ПДВ в Digital'] = 'востребование,перевод до востребования,перевод'.lower().split(',')"
   ]
  },
  {
   "cell_type": "code",
   "execution_count": 162,
   "metadata": {},
   "outputs": [],
   "source": [
    "team_names_keywords['СБОЛ. Классические переводы'] = 'p2p,перевод,клиент сбербанка,другой банк,перевод между счетами,перевод на счет,комиссия,уведомление,карта,перевод,смс,шаблоны,мир,деньги,пополнение,номер телефона,платные переводы'.lower().split(',')"
   ]
  },
  {
   "cell_type": "code",
   "execution_count": 163,
   "metadata": {},
   "outputs": [],
   "source": [
    "team_names_keywords['ЕФС.Автоплатежи'] = 'автоплатеж, умные счета, счет на оплату,комиссия,уведомление,деньги,график платежей,ипотека,реквизиты,оплата жкх,быстрые платежи, коммунальные платежи,списание'.lower().split(',')"
   ]
  },
  {
   "cell_type": "code",
   "execution_count": 164,
   "metadata": {},
   "outputs": [],
   "source": [
    "team_names_keywords['Автопереводы'] = 'автоперевод,перевод,списание'.lower().split(',')"
   ]
  },
  {
   "cell_type": "code",
   "execution_count": 166,
   "metadata": {},
   "outputs": [],
   "source": [
    "team_names_keywords['Digital Сбербанк Премьер'] = 'Клиентский менеджер, менеджер, клиент'.lower().split(',')"
   ]
  },
  {
   "cell_type": "code",
   "execution_count": 167,
   "metadata": {},
   "outputs": [],
   "source": [
    "team_names_keywords['Развитие лояльности в МП СБОЛ'] = 'программа лояльности,лояльность,бонусы,баллы,спасибо'.lower().split(',')"
   ]
  },
  {
   "cell_type": "code",
   "execution_count": 168,
   "metadata": {},
   "outputs": [],
   "source": [
    "team_names_keywords['Дебетовые карты в мобильном приложении'] = 'дебет,дебетовая карта,карта,мир,карточка,wallet,сортировка карт,выбор карты,реквизиты карты,номер карты, другая карта'.lower().split(',')"
   ]
  },
  {
   "cell_type": "code",
   "execution_count": 169,
   "metadata": {},
   "outputs": [],
   "source": [
    "team_names_keywords['Карта в телефоне'] = 'Apple Pay,apple watch,watch'.lower().split(',')"
   ]
  },
  {
   "cell_type": "code",
   "execution_count": 171,
   "metadata": {},
   "outputs": [],
   "source": [
    "team_names_keywords['Плановый и досрочный перевыпуск дебетовых карт'] = 'заблокированная карта,выпуск,выпуск карт,блокировка карт,перевыпуск карт,карта,мир,счет,карточка'.lower().split(',')"
   ]
  },
  {
   "cell_type": "code",
   "execution_count": 173,
   "metadata": {},
   "outputs": [],
   "source": [
    "team_names_keywords['Самозанятые'] = 'Самозанятые,ип,оформить ип'.lower().split(',')"
   ]
  },
  {
   "cell_type": "code",
   "execution_count": 175,
   "metadata": {},
   "outputs": [],
   "source": [
    "team_names_keywords['Цифровой Кредит'] = 'Ипотека,лимит,проценты,погашение,досрочное погашение,оплата кредита,срок,уменьшение срока,досрочный платеж,карта'.lower().split(',')"
   ]
  },
  {
   "cell_type": "code",
   "execution_count": 177,
   "metadata": {},
   "outputs": [],
   "source": [
    "team_names_keywords['ВС.МП вклады'] = 'Открытие вклада,вклад,счет вклада,счет,баланс'.lower().split(',')"
   ]
  },
  {
   "cell_type": "code",
   "execution_count": 178,
   "metadata": {},
   "outputs": [],
   "source": [
    "team_names_keywords['Комиссионные продукты'] = 'ОМС,сейф'.lower().split(',')"
   ]
  },
  {
   "cell_type": "code",
   "execution_count": 179,
   "metadata": {},
   "outputs": [],
   "source": [
    "team_names_keywords['PFM Бюджет'] = 'анализ расходов,аналитика,бюджет,Баланс,анализ финансов,расходы,финансы'.lower().split(',')"
   ]
  },
  {
   "cell_type": "code",
   "execution_count": 181,
   "metadata": {},
   "outputs": [],
   "source": [
    "team_names_keywords['Mobile Online POS (Розничный кредит)'] = 'ОМС,Мобильное интернет кредитование,Ипотека,лимит,проценты,погашение,досрочное погашение,оплата кредита,срок,уменьшение срока'.lower().split(',')"
   ]
  },
  {
   "cell_type": "code",
   "execution_count": 182,
   "metadata": {},
   "outputs": [],
   "source": [
    "team_names_keywords['Текстовый чат'] = 'Чат с оператором Сбербанка,оператор,чат,обратная связь,фидбек,звонок в банк,смс,уведомление,диалог,связь,поддержка,обслуживание,справка,помощь,help,бот,оператор,sos'.lower().split(',')"
   ]
  },
  {
   "cell_type": "code",
   "execution_count": 185,
   "metadata": {},
   "outputs": [],
   "source": [
    "team_names_keywords['[ЕФС].Кредитные карты.Космонавты (Доп. услуги и сервисы)'] = 'Автопогашение по Кредитной карте,автопогашение,кредит,уведомление,карта,счет,баланс,карточка,лимит,проценты,кредитка,досрочное погашение,оплата кредита,задолженность'.lower().split(',')"
   ]
  },
  {
   "cell_type": "code",
   "execution_count": 186,
   "metadata": {},
   "outputs": [],
   "source": [
    "team_names_keywords['ЕФС. Брокеридж. Мобайл'] = 'Брокерское обслуживание,брокер'.lower().split(',')"
   ]
  },
  {
   "cell_type": "code",
   "execution_count": 187,
   "metadata": {},
   "outputs": [],
   "source": [
    "team_names_keywords['[ЕФС] Б.УБ.СБОЛ.Баллонг'] = 'инвестиции,благосостояние'.lower().split(',')"
   ]
  },
  {
   "cell_type": "code",
   "execution_count": 188,
   "metadata": {},
   "outputs": [],
   "source": [
    "team_names_keywords['ЕФС. Страхование'] = 'Страхование,страховка,постпродажа,обслуживание'.lower().split(',')"
   ]
  },
  {
   "cell_type": "code",
   "execution_count": 190,
   "metadata": {},
   "outputs": [],
   "source": [
    "team_names_keywords['Телеком'] = 'Сбербанк-Телеком,телеком,виджет'.lower().split(',')"
   ]
  },
  {
   "cell_type": "code",
   "execution_count": 206,
   "metadata": {},
   "outputs": [],
   "source": [
    "collaboration = ['iOS Platform','Global Navigation','iOS Release Engineer','Карта в телефоне'\\\n",
    "                'DDA Profile', 'Редактируемый профиль клиента'\\\n",
    "                'Sberbank ID B2C','ЕФС.Платежи МП','Платежи. Штрафы','ПДВ в Digital','СБОЛ. Классические переводы','ЕФС.Автоплатежи','Автопереводы'\\\n",
    "                '[ЕФС] Б.УБ.СБОЛ.Баллонг','PFMMPLACE',\\\n",
    "                'Цифровой Кредит', 'Mobile Online POS (Розничный кредит)','[ЕФС].Кредитные карты.Космонавты (Доп. услуги и сервисы)',\\\n",
    "                'Текстовый чат','Мессенджер',\\\n",
    "                'store-n-sales','Integration Platform','Data Driven App','Краудфандинг','DBP.Подарки','Digital Сбербанк Премьер','Комиссионные продукты','Телеком',\\\n",
    "                'Дебетовые карты в мобильном приложении','Плановый и досрочный перевыпуск дебетовых карт'\n",
    "                ]"
   ]
  },
  {
   "cell_type": "code",
   "execution_count": 204,
   "metadata": {},
   "outputs": [],
   "source": [
    "final_keywords = {}\n",
    "final_keywords['интерфейс приложения'] = list(set(team_names_keywords['iOS Platform']+\\\n",
    "                                         team_names_keywords['Global Navigation']+\\\n",
    "                                         team_names_keywords['iOS Release Engineer']+\\\n",
    "                                         team_names_keywords['Карта в телефоне']))\n",
    "final_keywords['данные клиента'] = list(set(team_names_keywords['DDA Profile']+\\\n",
    "                                           team_names_keywords['Редактируемый профиль клиента'])) \n",
    "final_keywords['платежи'] = list(set(team_names_keywords['Sberbank ID B2C']+\\\n",
    "                                    team_names_keywords['ЕФС.Платежи МП']+\\\n",
    "                                    team_names_keywords['Платежи. Штрафы']+\\\n",
    "                                    team_names_keywords['ПДВ в Digital']+\\\n",
    "                                    team_names_keywords['СБОЛ. Классические переводы']+\\\n",
    "                                    team_names_keywords['ЕФС.Автоплатежи']+\\\n",
    "                                    team_names_keywords['Автопереводы']))\n",
    "final_keywords['инвестиции'] = list(set(team_names_keywords['[ЕФС] Б.УБ.СБОЛ.Баллонг']+\\\n",
    "                                       team_names_keywords['PFMMPLACE']))\n",
    "final_keywords['кредит'] = list(set(team_names_keywords['Цифровой Кредит']+\\\n",
    "                                   team_names_keywords['Mobile Online POS (Розничный кредит)']+\\\n",
    "                                   team_names_keywords['[ЕФС].Кредитные карты.Космонавты (Доп. услуги и сервисы)']))\n",
    "final_keywords['общение'] = list(set(team_names_keywords['Текстовый чат']+\\\n",
    "                                    team_names_keywords['Мессенджер']))\n",
    "final_keywords['фигня'] = list(set(team_names_keywords['store-n-sales']+\\\n",
    "                                  team_names_keywords['Integration Platform']+\\\n",
    "                                  team_names_keywords['Data Driven App']+\\\n",
    "                                  team_names_keywords['Краудфандинг']+\\\n",
    "                                  team_names_keywords['DBP.Подарки']+\\\n",
    "                                  team_names_keywords['Digital Сбербанк Премьер']+\\\n",
    "                                  team_names_keywords['Комиссионные продукты']+\\\n",
    "                                  team_names_keywords['Телеком']))\n",
    "final_keywords['операциии с картами'] = list(set(team_names_keywords['Дебетовые карты в мобильном приложении']+\\\n",
    "                                                team_names_keywords['Плановый и досрочный перевыпуск дебетовых карт']\n",
    "                                                ))"
   ]
  },
  {
   "cell_type": "code",
   "execution_count": 207,
   "metadata": {},
   "outputs": [],
   "source": [
    "for key in team_names_keywords.keys():\n",
    "    if key not in collaboration:\n",
    "        final_keywords[key] = team_names_keywords[key]"
   ]
  },
  {
   "cell_type": "code",
   "execution_count": 211,
   "metadata": {},
   "outputs": [],
   "source": [
    "import json\n",
    "\n",
    "with open(os.path.join(DATA_PATH,'2_keywords_for_teams_data','team_keywords.json'),'w') as f:\n",
    "    json.dump(team_names_keywords, f,ensure_ascii=False,)\n",
    "\n",
    "with open(os.path.join(DATA_PATH,'2_keywords_for_teams_data','grouped_team_keywords.json'),'w') as f:\n",
    "    json.dump(final_keywords, f,ensure_ascii=False,)"
   ]
  },
  {
   "cell_type": "code",
   "execution_count": null,
   "metadata": {},
   "outputs": [],
   "source": []
  }
 ],
 "metadata": {
  "kernelspec": {
   "display_name": "Python 3",
   "language": "python",
   "name": "python3"
  },
  "language_info": {
   "codemirror_mode": {
    "name": "ipython",
    "version": 3
   },
   "file_extension": ".py",
   "mimetype": "text/x-python",
   "name": "python",
   "nbconvert_exporter": "python",
   "pygments_lexer": "ipython3",
   "version": "3.7.7"
  }
 },
 "nbformat": 4,
 "nbformat_minor": 4
}
