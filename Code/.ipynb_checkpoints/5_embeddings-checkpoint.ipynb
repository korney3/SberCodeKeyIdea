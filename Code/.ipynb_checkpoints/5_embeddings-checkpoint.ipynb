{
 "cells": [
  {
   "cell_type": "markdown",
   "metadata": {},
   "source": [
    "# Get data"
   ]
  },
  {
   "cell_type": "code",
   "execution_count": 7,
   "metadata": {},
   "outputs": [],
   "source": [
    "import pandas as pd\n",
    "import os\n",
    "from tqdm import tqdm\n",
    "import json"
   ]
  },
  {
   "cell_type": "code",
   "execution_count": 8,
   "metadata": {},
   "outputs": [],
   "source": [
    "REVIEW_PATH = '../Resources/1_clean_review_data'\n",
    "\n",
    "KEYWORDS_PATH = '../Resources/2_keywords_for_teams_data'\n",
    "\n",
    "DATA_PATH = '../Resources'\n",
    "\n",
    "REVIEW_COL = 'Review'\n",
    "TITLE_COL = 'Title'"
   ]
  },
  {
   "cell_type": "code",
   "execution_count": 9,
   "metadata": {},
   "outputs": [],
   "source": [
    "data = pd.read_csv(os.path.join(REVIEW_PATH,'cleanAppStore.csv'))"
   ]
  },
  {
   "cell_type": "code",
   "execution_count": 102,
   "metadata": {},
   "outputs": [],
   "source": [
    "with open(os.path.join(KEYWORDS_PATH,'team_keywords.json'),'r') as f:\n",
    "    team_names_keywords = json.load(f)\n",
    "\n",
    "with open(os.path.join(KEYWORDS_PATH,'grouped_team_keywords.json'),'r') as f:\n",
    "    groups_keywords = json.load(f)\n",
    "    \n",
    "with open(os.path.join(KEYWORDS_PATH,'grouped_team_mapping.json'),'r') as f:\n",
    "    mapping = json.load(f)"
   ]
  },
  {
   "cell_type": "code",
   "execution_count": 110,
   "metadata": {},
   "outputs": [],
   "source": [
    "team_names_keywords_vects = [' '.join(team_names_keywords[team]) for team in team_names_keywords]\n",
    "group_names_keywords_vects = [' '.join(groups_keywords[team]) for team in groups_keywords]"
   ]
  },
  {
   "cell_type": "markdown",
   "metadata": {},
   "source": [
    "# Create embeddings"
   ]
  },
  {
   "cell_type": "markdown",
   "metadata": {},
   "source": [
    "## Flair embeddings"
   ]
  },
  {
   "cell_type": "code",
   "execution_count": 193,
   "metadata": {},
   "outputs": [
    {
     "name": "stdout",
     "output_type": "stream",
     "text": [
      "2020-08-01 16:37:37,315 https://s3.eu-central-1.amazonaws.com/alan-nlp/resources/embeddings-v0.4/ru-wiki-fasttext-300d-1M.vectors.npy not found in cache, downloading to /var/folders/pd/dd4z8dyj3kq83yh_y3_xmrlw0000kt/T/tmp4iome7_k\n"
     ]
    },
    {
     "name": "stderr",
     "output_type": "stream",
     "text": [
      "100%|██████████| 1199998928/1199998928 [04:05<00:00, 4883986.73B/s]"
     ]
    },
    {
     "name": "stdout",
     "output_type": "stream",
     "text": [
      "2020-08-01 16:41:43,352 copying /var/folders/pd/dd4z8dyj3kq83yh_y3_xmrlw0000kt/T/tmp4iome7_k to cache at /Users/Alisa.Alenicheva/.flair/embeddings/ru-wiki-fasttext-300d-1M.vectors.npy\n"
     ]
    },
    {
     "name": "stderr",
     "output_type": "stream",
     "text": [
      "\n"
     ]
    },
    {
     "name": "stdout",
     "output_type": "stream",
     "text": [
      "2020-08-01 16:41:44,792 removing temp file /var/folders/pd/dd4z8dyj3kq83yh_y3_xmrlw0000kt/T/tmp4iome7_k\n",
      "2020-08-01 16:41:45,101 https://s3.eu-central-1.amazonaws.com/alan-nlp/resources/embeddings-v0.4/ru-wiki-fasttext-300d-1M not found in cache, downloading to /var/folders/pd/dd4z8dyj3kq83yh_y3_xmrlw0000kt/T/tmpvg4ycc_u\n"
     ]
    },
    {
     "name": "stderr",
     "output_type": "stream",
     "text": [
      "100%|██████████| 47974727/47974727 [00:09<00:00, 5082572.09B/s]"
     ]
    },
    {
     "name": "stdout",
     "output_type": "stream",
     "text": [
      "2020-08-01 16:41:54,822 copying /var/folders/pd/dd4z8dyj3kq83yh_y3_xmrlw0000kt/T/tmpvg4ycc_u to cache at /Users/Alisa.Alenicheva/.flair/embeddings/ru-wiki-fasttext-300d-1M\n",
      "2020-08-01 16:41:54,872 removing temp file /var/folders/pd/dd4z8dyj3kq83yh_y3_xmrlw0000kt/T/tmpvg4ycc_u\n"
     ]
    },
    {
     "name": "stderr",
     "output_type": "stream",
     "text": [
      "\n"
     ]
    }
   ],
   "source": [
    "from flair.embeddings import WordEmbeddings, DocumentPoolEmbeddings\n",
    "\n",
    "# initialize the word embeddings\n",
    "glove_embedding = WordEmbeddings('ru')\n",
    "\n",
    "# initialize the document embeddings, mode = mean\n",
    "document_embeddings = DocumentPoolEmbeddings([glove_embedding])"
   ]
  },
  {
   "cell_type": "code",
   "execution_count": 194,
   "metadata": {},
   "outputs": [],
   "source": [
    "from flair.data import Sentence"
   ]
  },
  {
   "cell_type": "code",
   "execution_count": 195,
   "metadata": {},
   "outputs": [],
   "source": [
    "import string\n",
    "def text_embeddings(text):\n",
    "    '''\n",
    "    Takes in a string of text, then performs the following:\n",
    "    1. Remove all punctuation\n",
    "    2. Remove all stopwords\n",
    "    3. Return the cleaned text as a list of words\n",
    "    4. Remove words\n",
    "    '''\n",
    "    \n",
    "#     from rutermextract import TermExtractor\n",
    "#     term_extractor = TermExtractor()\n",
    "#     tokens = ' '.join([term.normalized for term in term_extractor(text)])\n",
    "    sentence = Sentence(text)\n",
    "    document_embeddings.embed(sentence)\n",
    "    return sentence.embedding.numpy()"
   ]
  },
  {
   "cell_type": "code",
   "execution_count": 196,
   "metadata": {},
   "outputs": [
    {
     "name": "stderr",
     "output_type": "stream",
     "text": [
      "100%|██████████| 11584/11584 [00:09<00:00, 1276.52it/s]\n"
     ]
    }
   ],
   "source": [
    "X_train = []\n",
    "for i in tqdm(data.index):\n",
    "    text = data.iloc[i][REVIEW_COL]+' '+data.iloc[i][TITLE_COL]\n",
    "    X_train.append(text_embeddings(text))"
   ]
  },
  {
   "cell_type": "code",
   "execution_count": 197,
   "metadata": {},
   "outputs": [
    {
     "name": "stderr",
     "output_type": "stream",
     "text": [
      "100%|██████████| 42/42 [00:00<00:00, 3005.80it/s]\n"
     ]
    }
   ],
   "source": [
    "teams_vecs = []\n",
    "for team in tqdm(team_names_keywords_vects):\n",
    "    teams_vecs.append(text_embeddings(team))"
   ]
  },
  {
   "cell_type": "code",
   "execution_count": 198,
   "metadata": {},
   "outputs": [
    {
     "name": "stderr",
     "output_type": "stream",
     "text": [
      "100%|██████████| 26/26 [00:00<00:00, 2519.63it/s]\n"
     ]
    }
   ],
   "source": [
    "groups_vecs = []\n",
    "for team in tqdm(group_names_keywords_vects):\n",
    "    groups_vecs.append(text_embeddings(team))"
   ]
  },
  {
   "cell_type": "markdown",
   "metadata": {},
   "source": [
    "### Clusterization"
   ]
  },
  {
   "cell_type": "markdown",
   "metadata": {},
   "source": [
    "### Calculate optimal clusters number with Elbow alg"
   ]
  },
  {
   "cell_type": "code",
   "execution_count": 199,
   "metadata": {},
   "outputs": [
    {
     "name": "stderr",
     "output_type": "stream",
     "text": [
      "100%|██████████| 49/49 [02:00<00:00,  2.46s/it]\n"
     ]
    },
    {
     "data": {
      "image/png": "[encoded data removed]",
      "text/plain": [
       "<Figure size 432x288 with 1 Axes>"
      ]
     },
     "metadata": {
      "needs_background": "light"
     },
     "output_type": "display_data"
    }
   ],
   "source": [
    "from sklearn.cluster import KMeans\n",
    "\n",
    "Sum_of_squared_distances = []\n",
    "K = range(1,50)\n",
    "for k in tqdm(K):\n",
    "    km = KMeans(n_clusters=k)\n",
    "    km = km.fit(X_train)\n",
    "    Sum_of_squared_distances.append(km.inertia_)\n",
    "\n",
    "\n",
    "import matplotlib.pyplot as plt\n",
    "\n",
    "plt.plot(K, Sum_of_squared_distances, 'bx-')\n",
    "plt.xlabel('k')\n",
    "plt.ylabel('Sum_of_squared_distances')\n",
    "plt.title('Elbow Method For Optimal k')\n",
    "plt.show()"
   ]
  },
  {
   "cell_type": "code",
   "execution_count": 230,
   "metadata": {},
   "outputs": [],
   "source": [
    "km = KMeans(n_clusters=10)\n",
    "km = km.fit(X_train)"
   ]
  },
  {
   "cell_type": "code",
   "execution_count": 225,
   "metadata": {},
   "outputs": [],
   "source": [
    "from sklearn.decomposition import PCA"
   ]
  },
  {
   "cell_type": "code",
   "execution_count": 226,
   "metadata": {},
   "outputs": [],
   "source": [
    "pca = PCA(n_components=2, random_state=2)\n",
    "reduced_features = pca.fit_transform(X_train)"
   ]
  },
  {
   "cell_type": "code",
   "execution_count": 227,
   "metadata": {},
   "outputs": [],
   "source": [
    "reduced_cluster_centers = pca.transform(km.cluster_centers_)"
   ]
  },
  {
   "cell_type": "code",
   "execution_count": 228,
   "metadata": {},
   "outputs": [
    {
     "data": {
      "text/plain": [
       "<matplotlib.collections.PathCollection at 0x7f83acd7d3d0>"
      ]
     },
     "execution_count": 228,
     "metadata": {},
     "output_type": "execute_result"
    },
    {
     "data": {
      "image/png": "[encoded data removed]",
      "text/plain": [
       "<Figure size 432x288 with 1 Axes>"
      ]
     },
     "metadata": {
      "needs_background": "light"
     },
     "output_type": "display_data"
    }
   ],
   "source": [
    "plt.scatter(reduced_features[:,0], reduced_features[:,1], c=km.predict(X_train))\n",
    "plt.scatter(reduced_cluster_centers[:, 0], reduced_cluster_centers[:,1], marker='x', s=15, c='b')"
   ]
  },
  {
   "cell_type": "code",
   "execution_count": 205,
   "metadata": {},
   "outputs": [],
   "source": [
    "df_clusters = pd.DataFrame(columns=['team','cluster'])"
   ]
  },
  {
   "cell_type": "code",
   "execution_count": 206,
   "metadata": {},
   "outputs": [],
   "source": [
    "df_clusters['team'] = team_names_keywords.keys()\n",
    "df_clusters['cluster'] = km.predict(teams_vecs)"
   ]
  },
  {
   "cell_type": "code",
   "execution_count": 207,
   "metadata": {},
   "outputs": [],
   "source": [
    "df_reviews = pd.DataFrame(columns=['review','cluster'])"
   ]
  },
  {
   "cell_type": "code",
   "execution_count": 208,
   "metadata": {},
   "outputs": [],
   "source": [
    "df_reviews['review'] = data[REVIEW_COL]\n",
    "df_reviews['cluster'] = km.predict(X_train)"
   ]
  },
  {
   "cell_type": "code",
   "execution_count": 210,
   "metadata": {},
   "outputs": [],
   "source": [
    "import random"
   ]
  },
  {
   "cell_type": "markdown",
   "metadata": {},
   "source": [
    "#### Sample reviews from each cluster"
   ]
  },
  {
   "cell_type": "code",
   "execution_count": 211,
   "metadata": {},
   "outputs": [
    {
     "name": "stdout",
     "output_type": "stream",
     "text": [
      "Cluster:  0\n",
      "Reviews\n",
      "Одно не устраивает что берет камисию за платежи жкх\n",
      "Слишком много комиссий. Даже личный телефон оплачивается с комиссией,штрафы с комиссией... позор и ужас\n",
      "Хотел перевести деньги из «Цели» на карту, но эти «Цели» размножились, как Доктор Стрэндж. Выбираю одну из них, а там на балансе 0₽, считай, не угадал. Это норма? Или с этим можно что-то сделать?\n",
      "Самый лучший банк))нравится все, и услуги, и интерфейс.\n",
      "Спасибо сотруднику Зеленковой Екатерине город Санкт-Петербург.\n",
      "Дело решалось банальной переустановкой. Но за почти 270 Мб сожранного мобильного трафика, за просто так минус одна звёздочка\n",
      "Ничего не исправили при обновлении! Вообще зайти не могу. \n",
      "Говорят что знают о проблеме, но видимо решить не получается.\n",
      "Сделайте lite версию только для переводов без лишних функций.\n",
      "Сбои в платежах\n",
      "Я даже не представляю Как можно было так испортить приложение в части отображения и выбора всего, что связано с карточными продуктами.\n",
      "Просмотренные push-уведомления через какое-то время отображаются как непросмотренные. Постоянно висит отметка о непрочитанных уведомлениях.\n",
      "Возможно ли сделать баланс из виджет-уведомлений приватным? Так же можно было бы сделать баланс карт в самой программе приватным (при входе сразу предлагать два варианта просмотра).\n",
      "Постоянно очень долго грузится. Иногда вообще не загружается!\n",
      "Ни данные о суммах на счетах, ни история далее 3-х недель.\n",
      "\n",
      "Тормозное приложение!\n",
      "«Анализ финансов» - полезный инструмент, но есть недостатки. Товары и услуги не всегда относятся к нужной категории расходов. Приложение позволят вручную перенести платёж в нужную категорию, но только конкретно выбранный платеж. Все остальные платежи в адрес этого поставщика останутся и продолжат попадать в изначальную категорию, которую определил банк. Пожалуйста, сделайте настройки более гибкими.\n",
      "Верните банк! Мне нет надобности в вашей рекламе (маркетинге, советах) в сторис!\n",
      "Куча мерзкой рекламы, плохо грузит нужную информацию, невозможно скрыть эти тупые истории. Даже алик релевантнее будет.\n",
      "Почему нет возможности поменять сумму платежа\n",
      "Не понятно зачем вам доступ к фоткам\n",
      "И откуда 500 мб трафика\n",
      "После выключения «Разделов на главном» ,кроме раздела «Мои карты»,  после перезапуска пункты включаются самопроизвольно . Разработчикам : - Ребята , пофиксите плиз )))\n",
      "Ужасные чернющие цифры на экране входа!! Кому мешал контраст нормальный?\n",
      "Идёт 4й день без приложения Сбербанк онлайн. Спасите!!!!!! Почему из приложения выкидывает при входе? Когда всё заработает?\n",
      "Збс!\n",
      "Cluster:  1\n",
      "Reviews\n",
      "Добавьте возможность входа в интернет банкинг через PC с помощью считывания камерой QR кода на экране компьютера, например как это реализовано в WhatsApp WEB, очень упростит вход без логина и пароля.\n",
      "\n",
      "При поступлении денежных средств в приложении Сбербанк онлайн не всегда отображается информация от кого поступил платёж ФИО.\n",
      "\n",
      "+3000₽ и сиди гадай кто такой добрый тебе прислал, Санта Клаус или Господь бог))\n",
      "Тормозит и зависает\n",
      "Не обновляется уведомления по остатку дён.средств в шторке виджетов ! Разработчики, исправьте пожалуйста..\n",
      "Классный приложения\n",
      "После обновления не могу зайти в приложение.\n",
      "Последнее обновление закрыло пополнение кредитной карты с другой карты! Исправьте!\n",
      "Сегодня не открывается приложение ! Почему??\n",
      "На iphone6 16гб не запускается приложение. Постоянный статус авторизации\n",
      "После последнего обновления на моем iPhone 6 и на iPhone 6 моей супруги при входе в приложение вместо вкладов отображает крутящееся колесо (поиск вкладов). Если выйти и зайти снова - отображает вклад. Теперь постоянно по два раза входить?\n",
      "Невозможно открыть приложение ! Виснет ! Вылетает ! Что вообще происходит ????????🤬🤬🤬🤬🤬🤬🤬🤬🤬🤬🤬🤬🤬\n",
      "Почему нет обновления для iPadOS?\n",
      "Скорость работы приложения упала , переводить деньги стало дольше\n",
      "Не могу запустить приложение на часах. Пишет «ошибка». Как поправить? Спасибо\n",
      "Невозможно открыть приложение ! Виснет ! Вылетает ! Что вообще происходит ????????🤬🤬🤬🤬🤬🤬🤬🤬🤬🤬🤬🤬🤬\n",
      "После обновления начал часто вылетать\n",
      "После обновления не могу вообще зайти в приложение 🤔😒😒\n",
      "После обновления не открывается . Выкидывает\n",
      "Верните пожалуйста эту функцию в меню настроек приложения!  Видимость убрал, потом обновил приложение и строка меню пропала, вызвало неудобство. Спасибо.\n",
      "Как же классно обновили приложение круто мне безумно нравится!!!👍🏻👍🏻👍🏻👍🏻\n",
      "При переводе денег по номеру телефона,вылетает на экран ввода пароля,и только со второго раза можно перевести\n",
      "Cluster:  2\n",
      "Reviews\n",
      "Worldwide promote your apps and rapidly increase downloads and revenue above 100 times! We are app marketing experts with rich experience, please contact us on Facebook: aso8866 .or Ping me at Skype/WhatsApp: +8615982207105 .Everyone can enjoy 3-day trial now!\n",
      "The best\n",
      "Nice 👍🏼\n",
      "I downloaded, but lost a time because this app for Russian users. So app developers should add Russian flag for to distinguish\n",
      "If it is possible translate this app for english users also it will be great full😊\n",
      "Forte\n",
      "Good!\n",
      "Like\n",
      "Спасибо\n",
      "Awesome, but I can’t read Russian 😂\n",
      "Excellent, best in the world.\n",
      "Impression good\n",
      "Please give English translated version\n",
      "Is the application available in English?\n",
      "Very\n",
      "This is the app which foreign students use during their studies in Russia.\n",
      "But First year students don’t know Russian language very well.\n",
      "So this app should be in both languages.\n",
      "Thankful\n",
      "I can’t use the App cause my daughter does not speak Russian. Where ARE the English version? Why does it take a while just to translate a GUI interface?!\n",
      "Сбербанк\n",
      "service, daily installs can reach 3000+. Ping me at Skype: +8618990290838  / Whatsapp:+8618990290838. Every one can get a test promtion for 3 days now!\n",
      "Cluster:  3\n",
      "Reviews\n",
      "Отлично всё\n",
      "Круто\n",
      "Добавьте темную тему !\n",
      "Очень приятно смотреть и пользоваться.Спасибо.\n",
      "Ок\n",
      "Выдаёт ошибку\n",
      "Супер сервис огромное Спасибо что вы на шаг впереди всех\n",
      "Меня все устраивает\n",
      "Новое объявление очень нравится) дизайн !!\n",
      "Функциональность отличное и самое главне звуки смс новые очень нравится!!!! Спасибо\n",
      "Сделайте функцию очистки истории плз\n",
      "Приложение работает всегда очень четко и быстро. Спасибо разработчикам за такую удобную систему👍😊\n",
      "Все продуманно , быстро и удобно. Спасибо за отливное приложение.\n",
      "Благодарю за заботу о нас, ваших клиентах !!!Перечисляю быстро, когда надо !!!\n",
      "Спасибо!!!\n",
      "Хорошее\n",
      "Дайте денег\n",
      "Очень хорошее приложение, но нет возможности управлять шаблонами\n",
      "Всегда вовремя , я спокойна за свои платежи! Спасибо Сбербанк!\n",
      "Все отлично хорошее приложение,самое лучшее\n",
      "Ненавижу\n",
      "Мне нравится 👍\n",
      "Cluster:  4\n",
      "Reviews\n",
      "Отличное приложение\n",
      "Сбербанк топ!!!\n",
      "Только банк г@вно...\n",
      "Обожаю Сбербанк 🥰\n",
      "Сбербанк это круто!!!\n",
      "Всё просто,быстро и доступно...)))\n",
      "Приложения просто огонь\n",
      "Сбер как банк странный, но приложение огонь\n",
      "Очень удобное приложение.\n",
      "Спасибо , что вы есть\n",
      "Отличное приложение всем советую\n",
      "Сделайте пожалуйста возможным изменить дату платежа по кредитной карте!!\n",
      "Самое адекватное приложение для онлайн банков\n",
      "Добавьте возможность корректировать лимит кредитной карты.\n",
      "Всё хорошо, всё устраивает.\n",
      "Самый надежный банк и лучшее обслуживание❤️\n",
      "Сбербанк ты лучший 👌\n",
      "Лучшее мобильное приложение для банка. Спасибо\n",
      "Отличное приложение!!!!!!\n",
      "Нормально, чётко\n",
      "Отличная работа!\n"
     ]
    }
   ],
   "source": [
    "from collections import Counter\n",
    "counter = Counter(km.labels_)\n",
    "for cluster_num in range(5):\n",
    "    sampling = random.choices(list(df_reviews[df_reviews['cluster']==cluster_num]['review']), k=20)\n",
    "    print('Cluster: ', cluster_num)\n",
    "    print('Reviews')\n",
    "    print('\\n'.join(sampling))"
   ]
  },
  {
   "cell_type": "markdown",
   "metadata": {},
   "source": [
    "### Create embedding predictions"
   ]
  },
  {
   "cell_type": "markdown",
   "metadata": {},
   "source": [
    "#### Teams predictions"
   ]
  },
  {
   "cell_type": "code",
   "execution_count": 231,
   "metadata": {},
   "outputs": [
    {
     "name": "stderr",
     "output_type": "stream",
     "text": [
      "100%|██████████| 11584/11584 [02:53<00:00, 66.94it/s]\n"
     ]
    }
   ],
   "source": [
    "from sklearn.metrics.pairwise import euclidean_distances, cosine_similarity\n",
    "\n",
    "\n",
    "predictions_list = []\n",
    "j = 0\n",
    "for review in tqdm(X_train):\n",
    "    predictions = {}\n",
    "    predictions['review'] = data.iloc[j][REVIEW_COL]\n",
    "    destinations = {}\n",
    "    for i,team in enumerate(teams_vecs):\n",
    "        dest = euclidean_distances([review], [team])[0]\n",
    "        destinations[list(team_names_keywords.keys())[i]] = dest\n",
    "    scores = OrderedDict(sorted(destinations.items(), key=lambda kv: kv[1]))\n",
    "    predictions['euclid_team'] = list(scores.keys())[0]\n",
    "    predictions['euclid_score'] = scores[list(scores.keys())[0]]\n",
    "\n",
    "    \n",
    "    destinations = {}\n",
    "    for i,team in enumerate(teams_vecs):\n",
    "        dest = cosine_similarity([review], [team])[0]\n",
    "        destinations[list(team_names_keywords.keys())[i]] = dest\n",
    "    scores = OrderedDict(sorted(destinations.items(), key=lambda kv: kv[1],reverse=True))\n",
    "    predictions['cosine_team'] = list(scores.keys())[0]\n",
    "    predictions['cosine_score'] = scores[list(scores.keys())[0]]\n",
    "    predictions_list.append(predictions)\n",
    "    j+=1"
   ]
  },
  {
   "cell_type": "code",
   "execution_count": 213,
   "metadata": {},
   "outputs": [],
   "source": [
    "predictions_df = pd.DataFrame(predictions_list)"
   ]
  },
  {
   "cell_type": "code",
   "execution_count": 214,
   "metadata": {},
   "outputs": [
    {
     "data": {
      "text/plain": [
       "Sberbank ID B2C                                             7120\n",
       "СБОЛ. Классические переводы                                 2170\n",
       "iOS Platform                                                1682\n",
       "ЕФС.Платежи МП                                               153\n",
       "Global Navigation                                            145\n",
       "Мессенджер                                                   111\n",
       "Текстовый чат                                                 72\n",
       "[ЕФС].Кредитные карты.Космонавты (Доп. услуги и сервисы)      52\n",
       "ЕФС.Автоплатежи                                               19\n",
       "PUSH IOS                                                      12\n",
       "Развитие лояльности в МП СБОЛ                                 11\n",
       "ПДВ в Digital                                                 10\n",
       "Дебетовые карты в мобильном приложении                         7\n",
       "iOS Release Engineer                                           6\n",
       "Платежи. Штрафы                                                4\n",
       "Плановый и досрочный перевыпуск дебетовых карт                 3\n",
       "ВС.МП вклады                                                   2\n",
       "Цифровой Кредит                                                1\n",
       "ЕФС. Страхование                                               1\n",
       "История операций                                               1\n",
       "Mobile Online POS (Розничный кредит)                           1\n",
       "PFM Бюджет                                                     1\n",
       "Name: euclid_team, dtype: int64"
      ]
     },
     "execution_count": 214,
     "metadata": {},
     "output_type": "execute_result"
    }
   ],
   "source": [
    "predictions_df['euclid_team'].value_counts()"
   ]
  },
  {
   "cell_type": "code",
   "execution_count": 215,
   "metadata": {},
   "outputs": [
    {
     "data": {
      "text/plain": [
       "iOS Platform                                                4850\n",
       "СБОЛ. Классические переводы                                 4070\n",
       "ЕФС.Платежи МП                                               677\n",
       "Global Navigation                                            284\n",
       "Текстовый чат                                                256\n",
       "Развитие лояльности в МП СБОЛ                                236\n",
       "ЕФС.Автоплатежи                                              161\n",
       "Sberbank ID B2C                                              160\n",
       "iOS Release Engineer                                         154\n",
       "Карта в телефоне                                             110\n",
       "PUSH IOS                                                      99\n",
       "[ЕФС].Кредитные карты.Космонавты (Доп. услуги и сервисы)      85\n",
       "Мессенджер                                                    75\n",
       "Платежи. Штрафы                                               56\n",
       "DBP.Витрины продаж                                            39\n",
       "Дебетовые карты в мобильном приложении                        36\n",
       "Data Driven App                                               36\n",
       "Цифровой Кредит                                               31\n",
       "PFM Бюджет                                                    25\n",
       "Редактируемый профиль клиента                                 24\n",
       "ЕФС Выписки и справки. Mobile                                 18\n",
       "ВС.МП вклады                                                  16\n",
       "Mobile Online POS (Розничный кредит)                          16\n",
       "История операций                                              15\n",
       "DDA Profile                                                   12\n",
       "ЕФС. Брокеридж. Мобайл                                         9\n",
       "ПДВ в Digital                                                  9\n",
       "Плановый и досрочный перевыпуск дебетовых карт                 8\n",
       "ЕФС. Страхование                                               8\n",
       "PFM                                                            3\n",
       "Комиссионные продукты                                          2\n",
       "Телеком                                                        1\n",
       "Автопереводы                                                   1\n",
       "Integration Platform                                           1\n",
       "DBP.Подарки                                                    1\n",
       "Name: cosine_team, dtype: int64"
      ]
     },
     "execution_count": 215,
     "metadata": {},
     "output_type": "execute_result"
    }
   ],
   "source": [
    "predictions_df['cosine_team'].value_counts()"
   ]
  },
  {
   "cell_type": "code",
   "execution_count": 216,
   "metadata": {},
   "outputs": [
    {
     "data": {
      "text/plain": [
       "iOS Platform                                                1512\n",
       "СБОЛ. Классические переводы                                 1365\n",
       "Sberbank ID B2C                                              160\n",
       "Global Navigation                                            129\n",
       "ЕФС.Платежи МП                                               103\n",
       "Текстовый чат                                                 61\n",
       "Мессенджер                                                    44\n",
       "[ЕФС].Кредитные карты.Космонавты (Доп. услуги и сервисы)      26\n",
       "ЕФС.Автоплатежи                                               18\n",
       "Развитие лояльности в МП СБОЛ                                 11\n",
       "PUSH IOS                                                      11\n",
       "ПДВ в Digital                                                  9\n",
       "Дебетовые карты в мобильном приложении                         7\n",
       "iOS Release Engineer                                           6\n",
       "Платежи. Штрафы                                                4\n",
       "ВС.МП вклады                                                   2\n",
       "Цифровой Кредит                                                1\n",
       "PFM Бюджет                                                     1\n",
       "История операций                                               1\n",
       "ЕФС. Страхование                                               1\n",
       "Name: euclid_team, dtype: int64"
      ]
     },
     "execution_count": 216,
     "metadata": {},
     "output_type": "execute_result"
    }
   ],
   "source": [
    "predictions_df[predictions_df['euclid_team']==predictions_df['cosine_team']]['euclid_team'].value_counts()"
   ]
  },
  {
   "cell_type": "code",
   "execution_count": 232,
   "metadata": {},
   "outputs": [],
   "source": [
    "predictions_df.to_csv('../Resources/teams_predictions_flair.csv')"
   ]
  },
  {
   "cell_type": "markdown",
   "metadata": {},
   "source": [
    "#### Teams predictions"
   ]
  },
  {
   "cell_type": "code",
   "execution_count": 219,
   "metadata": {},
   "outputs": [
    {
     "name": "stderr",
     "output_type": "stream",
     "text": [
      "100%|██████████| 11584/11584 [01:52<00:00, 102.58it/s]\n"
     ]
    }
   ],
   "source": [
    "from sklearn.metrics.pairwise import euclidean_distances, cosine_similarity\n",
    "\n",
    "\n",
    "predictions_list = []\n",
    "j = 0\n",
    "for review in tqdm(X_train):\n",
    "    predictions = {}\n",
    "    predictions['review'] = data.iloc[j][REVIEW_COL]\n",
    "    destinations = {}\n",
    "    for i,team in enumerate(groups_vecs):\n",
    "        dest = euclidean_distances([review], [team])[0]\n",
    "        destinations[list(groups_keywords.keys())[i]] = dest\n",
    "    scores = OrderedDict(sorted(destinations.items(), key=lambda kv: kv[1]))\n",
    "    predictions['euclid_team'] = list(scores.keys())[0]\n",
    "    predictions['euclid_score'] = scores[list(scores.keys())[0]]\n",
    "\n",
    "    \n",
    "    destinations = {}\n",
    "    for i,team in enumerate(groups_vecs):\n",
    "        dest = cosine_similarity([review], [team])[0]\n",
    "        destinations[list(groups_keywords.keys())[i]] = dest\n",
    "    scores = OrderedDict(sorted(destinations.items(), key=lambda kv: kv[1],reverse=True))\n",
    "    predictions['cosine_team'] = list(scores.keys())[0]\n",
    "    predictions['cosine_score'] = scores[list(scores.keys())[0]]\n",
    "    predictions_list.append(predictions)\n",
    "    j+=1"
   ]
  },
  {
   "cell_type": "code",
   "execution_count": 220,
   "metadata": {},
   "outputs": [],
   "source": [
    "predictions_df_groups = pd.DataFrame(predictions_list)"
   ]
  },
  {
   "cell_type": "code",
   "execution_count": 221,
   "metadata": {},
   "outputs": [],
   "source": [
    "predictions_df_groups.to_csv('../Resources/groups_predictions_flair.csv')"
   ]
  },
  {
   "cell_type": "code",
   "execution_count": 222,
   "metadata": {},
   "outputs": [
    {
     "data": {
      "text/plain": [
       "Sberbank ID B2C                  4706\n",
       "платежи                          2655\n",
       "интерфейс приложения             2496\n",
       "общение                          1660\n",
       "кредит                             23\n",
       "фигня                              13\n",
       "операции с картами                 12\n",
       "PUSH IOS                            8\n",
       "Развитие лояльности в МП СБОЛ       7\n",
       "ВС.МП вклады                        2\n",
       "История операций                    1\n",
       "PFM Бюджет                          1\n",
       "Name: euclid_team, dtype: int64"
      ]
     },
     "execution_count": 222,
     "metadata": {},
     "output_type": "execute_result"
    }
   ],
   "source": [
    "predictions_df_groups['euclid_team'].value_counts()"
   ]
  },
  {
   "cell_type": "code",
   "execution_count": 223,
   "metadata": {},
   "outputs": [
    {
     "data": {
      "text/plain": [
       "интерфейс приложения             6103\n",
       "платежи                          3615\n",
       "общение                           959\n",
       "Развитие лояльности в МП СБОЛ     219\n",
       "кредит                            112\n",
       "Карта в телефоне                  109\n",
       "Sberbank ID B2C                    84\n",
       "фигня                              82\n",
       "PUSH IOS                           78\n",
       "операции с картами                 59\n",
       "DBP.Витрины продаж                 30\n",
       "PFM Бюджет                         21\n",
       "Редактируемый профиль клиента      21\n",
       "ЕФС Выписки и справки. Mobile      19\n",
       "История операций                   15\n",
       "данные клиента                     12\n",
       "ВС.МП вклады                       11\n",
       "Автопереводы                       10\n",
       "DDA Profile                        10\n",
       "ЕФС. Брокеридж. Мобайл              7\n",
       "ЕФС. Страхование                    5\n",
       "PFM                                 3\n",
       "Name: cosine_team, dtype: int64"
      ]
     },
     "execution_count": 223,
     "metadata": {},
     "output_type": "execute_result"
    }
   ],
   "source": [
    "predictions_df_groups['cosine_team'].value_counts()"
   ]
  },
  {
   "cell_type": "markdown",
   "metadata": {},
   "source": [
    "## BERT"
   ]
  },
  {
   "cell_type": "code",
   "execution_count": 123,
   "metadata": {},
   "outputs": [],
   "source": [
    "from sentence_transformers import SentenceTransformer, util"
   ]
  },
  {
   "cell_type": "code",
   "execution_count": 124,
   "metadata": {},
   "outputs": [
    {
     "name": "stderr",
     "output_type": "stream",
     "text": [
      "100%|██████████| 504M/504M [01:42<00:00, 4.93MB/s] \n"
     ]
    }
   ],
   "source": [
    "embedder = SentenceTransformer('distiluse-base-multilingual-cased')"
   ]
  },
  {
   "cell_type": "code",
   "execution_count": 125,
   "metadata": {},
   "outputs": [],
   "source": [
    "corpus = data[REVIEW_COL]"
   ]
  },
  {
   "cell_type": "code",
   "execution_count": 126,
   "metadata": {},
   "outputs": [],
   "source": [
    "corpus_embeddings = embedder.encode(corpus)"
   ]
  },
  {
   "cell_type": "code",
   "execution_count": 234,
   "metadata": {},
   "outputs": [],
   "source": [
    "teams_vecs = embedder.encode(team_names_keywords_vects)\n"
   ]
  },
  {
   "cell_type": "code",
   "execution_count": 128,
   "metadata": {},
   "outputs": [],
   "source": [
    "groups_vecs = embedder.encode(group_names_keywords_vects)"
   ]
  },
  {
   "cell_type": "markdown",
   "metadata": {},
   "source": [
    "### Compute optimal number of clusters"
   ]
  },
  {
   "cell_type": "code",
   "execution_count": 129,
   "metadata": {},
   "outputs": [
    {
     "name": "stderr",
     "output_type": "stream",
     "text": [
      "100%|██████████| 49/49 [02:47<00:00,  3.43s/it]\n"
     ]
    },
    {
     "data": {
      "image/png": "[encoded data removed]",
      "text/plain": [
       "<Figure size 432x288 with 1 Axes>"
      ]
     },
     "metadata": {
      "needs_background": "light"
     },
     "output_type": "display_data"
    }
   ],
   "source": [
    "from sklearn.cluster import KMeans\n",
    "\n",
    "Sum_of_squared_distances = []\n",
    "K = range(1,50)\n",
    "for k in tqdm(K):\n",
    "    km = KMeans(n_clusters=k)\n",
    "    km = km.fit(corpus_embeddings)\n",
    "    Sum_of_squared_distances.append(km.inertia_)\n",
    "\n",
    "\n",
    "import matplotlib.pyplot as plt\n",
    "\n",
    "plt.plot(K, Sum_of_squared_distances, 'bx-')\n",
    "plt.xlabel('k')\n",
    "plt.ylabel('Sum_of_squared_distances')\n",
    "plt.title('Elbow Method For Optimal k')\n",
    "plt.show()"
   ]
  },
  {
   "cell_type": "code",
   "execution_count": null,
   "metadata": {},
   "outputs": [],
   "source": []
  },
  {
   "cell_type": "code",
   "execution_count": 152,
   "metadata": {},
   "outputs": [],
   "source": [
    "km = KMeans(n_clusters=6)\n",
    "km = km.fit(corpus_embeddings)"
   ]
  },
  {
   "cell_type": "code",
   "execution_count": 153,
   "metadata": {},
   "outputs": [],
   "source": [
    "from sklearn.decomposition import PCA"
   ]
  },
  {
   "cell_type": "code",
   "execution_count": 154,
   "metadata": {},
   "outputs": [],
   "source": [
    "pca = PCA(n_components=2, random_state=2)\n",
    "reduced_features = pca.fit_transform(corpus_embeddings)"
   ]
  },
  {
   "cell_type": "code",
   "execution_count": 155,
   "metadata": {},
   "outputs": [],
   "source": [
    "reduced_cluster_centers = pca.transform(km.cluster_centers_)"
   ]
  },
  {
   "cell_type": "code",
   "execution_count": 156,
   "metadata": {},
   "outputs": [
    {
     "data": {
      "text/plain": [
       "<matplotlib.collections.PathCollection at 0x7f8508f4f210>"
      ]
     },
     "execution_count": 156,
     "metadata": {},
     "output_type": "execute_result"
    },
    {
     "data": {
      "image/png": "[encoded data removed]",
      "text/plain": [
       "<Figure size 432x288 with 1 Axes>"
      ]
     },
     "metadata": {
      "needs_background": "light"
     },
     "output_type": "display_data"
    }
   ],
   "source": [
    "plt.scatter(reduced_features[:,0], reduced_features[:,1], c=km.predict(corpus_embeddings))\n",
    "plt.scatter(reduced_cluster_centers[:, 0], reduced_cluster_centers[:,1], marker='x', s=15, c='b')"
   ]
  },
  {
   "cell_type": "code",
   "execution_count": 157,
   "metadata": {},
   "outputs": [],
   "source": [
    "df_clusters = pd.DataFrame(columns=['team','cluster'])"
   ]
  },
  {
   "cell_type": "code",
   "execution_count": 158,
   "metadata": {},
   "outputs": [],
   "source": [
    "df_clusters['team'] = team_names_keywords.keys()\n",
    "df_clusters['cluster'] = km.predict(teams_vecs)"
   ]
  },
  {
   "cell_type": "code",
   "execution_count": 159,
   "metadata": {},
   "outputs": [],
   "source": [
    "df_reviews = pd.DataFrame(columns=['review','cluster'])"
   ]
  },
  {
   "cell_type": "code",
   "execution_count": 161,
   "metadata": {},
   "outputs": [],
   "source": [
    "df_reviews['review'] = data[REVIEW_COL]\n",
    "df_reviews['cluster'] = km.predict(corpus_embeddings)"
   ]
  },
  {
   "cell_type": "markdown",
   "metadata": {},
   "source": [
    "### Sample reviews from each cluster"
   ]
  },
  {
   "cell_type": "code",
   "execution_count": 163,
   "metadata": {},
   "outputs": [
    {
     "name": "stdout",
     "output_type": "stream",
     "text": [
      "Cluster:  0\n",
      "Reviews\n",
      "Süper\n",
      "Все хорошо,спасибо\n",
      "Спасибо за все! Просто молодцы!\n",
      "Спасибочки большое\n",
      "Одобно!!!!\n",
      "Все чётко\n",
      "Удобно. Комфортно. Качественно.\n",
      "Удобно, быстро!!!\n",
      "Зависает по страшному 🤦‍♂️\n",
      "Вы самые лучшие\n",
      "Спасибо большое всё правильно и своевременно!!!\n",
      "Все прекрасно настройке функции 👌\n",
      "Тормозит\n",
      "Отличный!\n",
      "Очень удобно\n",
      "спасибо\n",
      "Исправьте\n",
      "Быстро. Надежно!!!\n",
      "\n",
      "Голова\n",
      "Обслуживание на отлично!!! Благодарю!\n",
      "Все отлично!!!\n",
      "Cluster:  1\n",
      "Reviews\n",
      "Отличное приложение !\n",
      "Все нравится,отличное приложение,спасибо разработчикам.\n",
      "Было бы лучше если приложения бы работало без интернета\n",
      "Дизайнеры постарались, скопировали приложение Тинькова и раскрасили в брендовые цвета сбера :)\n",
      "Приложение очень сильно лагает, а в остальном все хорошо.\n",
      "Каждый раз при входе в приложение загрузка прекращается на экране приветствия!!! Приходится выходить и заходить снова !\n",
      "Удобное и понятное приложение.\n",
      "Хотелось бы ещё в мобильном приложении видеть, от каких операций начислились и куда списались бонусы Спасибо.\n",
      "Уже под 300мб приложение отъелось, может стоит и оптимизацией заняться?\n",
      "Я понимаю просить 60р с тех кто пользуется смс оповещениями, но push-уведомления внутри приложения уже перебор\n",
      "Настройте синхронизацию виджетов с приложением, т.к. в большинстве случаев они показывают недостоверную информацию.\n",
      "Приложение хорошее\n",
      "Заставка плохая\n",
      "В целом было очень удобное приложение. Но в последнее время постоянные баги.\n",
      "Из приложения сделали помойку!!! Которая занимает много памяти! Нет поддержки телефонов со старым ПО. (На айфон 5 уже не установить) телефон можно выкинуть😤\n",
      "Пять звёзд за топовое приложение и за наконец то тёмную тему!!!!!!!!👌🏻👌🏻👌🏻👌🏻👌🏻👌🏻👌🏻👌🏻👌🏻👌🏻\n",
      "Приложение не открывается, один раз в сутки откроется, и опять не открывается\n",
      "Приложение нравится, интуитивно понятное и работает стабильно\n",
      "Не могу зайти в приложение. Вылетает постоянно.\n",
      "Последнее время приложение зависает на каждом шагу, пользоваться ужасно неудобно.\n",
      "Отличное приложение, всегда работает. Очень удобное в использовании.\n",
      "Оплата по qr коду - кнопка сканировать из файла  - Фото и кнопка Помощь не работают.\n",
      "При нажатии ничего не происходит.\n",
      "UPD:\n",
      "После рекомендаций ничего не изменилось. Что это за приложение, что его надо переустанавливать, чтобы воспользоваться фичей?\n",
      "Cluster:  2\n",
      "Reviews\n",
      "Если нажать на аватар попадешь в свой профиль, там есть шаблоны которых отображено 5 штук. Ниже кнопка «показать все» , нажимаем, видим мои шаблоны , но там их 4 штуки! \n",
      "Ок. Я оплатил интернет и в истории появилась эта оплата, заходим в неё , жмем «создать шаблон ⭐️», меняем имя, сохранить, ииии ни чего не происходит!!! Вы там постоянно что то обновляете в своем приложении но какие то явные косяки мигрируют из версии в версию.\n",
      "Можно сделать так, чтобы было видно сколько начислились бонусов спасибо за покупку?\n",
      "Что за беда с автоплатежами? Надо оплатить интернет, а там комиссия. И из-за этой комиссии пишет превышен предел операции и она не выполнена! Исправьте, пожалуйста и добавьте возможность выставления предела комиссии по платежу\n",
      "22 июня 2020 написано заявление о выплате вознаграждения, ответ о регистрации 8 июля 2020г, чере 16 дней. По договору выплата провизии должна в течении 10 дней.\n",
      "Отлично! Ввели новую комиссию, теперь я должен платить за то, что раньше было бесплатным! Спасибо\n",
      "Что делать стал виснуть\n",
      "Все понятно просто и доступно. Всем привожу вас в пример, чтоб у них так же работал онлайн. В высшей степени доволен. Спасибо.\n",
      "Писали что все исправили, зачем вообще что-то добавлять в преложение если оно неработает? Как не работала так и неработает.\n",
      "Три раза удалял сообщения, а они снова появляются\n",
      "Эй, ребят! Обновление, канешн, классное, но что-то поломалось при оплате интернетов от МТС по лицевому счёту: не могу изменить сумму в поле «сумма оплаты», а раньше можно было жешь. Почините пжлста!\n",
      "Почему при оплате мобильной связи не проходит платёж? Система пишет что оплата невозможна, т к этот (мой) номер не поддерживается!!! \n",
      "Если не поддерживается, поддержите! Материально! Гении!\n",
      "Очень расстроена,что переводы больше 50000 р в месяц облагается комиссией\n",
      "Перестали работал уведомления о списаниях и зачислениях. Только смс приходят\n",
      "В мобильном приложении не работает анализ расходов и зачислений\n",
      "Пишет, что расходов нет, но общая сумма расходов высвечивается, но не детально\n",
      "Исправьте, пожалуйста\n",
      "Уроды! Горите в Аду со своей комиссией!!!!!!!\n",
      "Сегодня утром увидел информацию в интернете о привязке левого номера в личном кабинете. \n",
      "Зашёл в свой Личный кабинет и там неизвестный номер телефона.\n",
      "Хватит взымать комиссию за переводы внутри региона? Что за жесть?\n",
      "Зачем убрали возможность скрывать в приложении вклады?\n",
      "Не показывает остаток на счету,не даёт перевести деньги куда либо,в общем не работает!\n",
      "Добавьте темную тему для своих виджетов, а то несолидно совсем.\n",
      "Cluster:  3\n",
      "Reviews\n",
      "Вообще входить перестало после обновления, ошибку выдаёт \n",
      "\n",
      "«Во время операции произошла ошибка»\n",
      "Сегодня обновил приложение и всё, не могу зайти. Нажимаешь на иконку, появляется логотип Сбербанка, а дальше ни чего не происходит!\n",
      "Установил последнее обновление iphone se, теперь после разблокировки приложения, когда начинаю пролистывать список счетов, вылетает на экран блокировки переодически\n",
      "После обновления 30 октября,перестал обновляться баланс\n",
      "Здравствуйте. Даже установив обновление все равно сохраняется такая проблема:\n",
      "После запуска приложения спустя 3-4 секунды оно зависает и не откликается.\n",
      "После последнего обновления стало очень плохо работать приложение!\n",
      "Очень долго загружается, идёт загрузка, помогает только выход, и снова вход!\n",
      "Можно хотя бы раз в три месяца обновляться. Такими темпами места не хватит даже и в облаке 50гб. Остановитесь. Продумайте заранее все обновления\n",
      "Тормоза на старте пропали, спасибо за р(з)аботу! 7. iOS 12.4.1\n",
      "Проблема с зависанием при входе не решена с обновлением, apple ios 13.1.2 iPhone 7+, исправляйте уже, приложение зависает намертво на начальном экране\n",
      "Не открывается приложение после обновления, исправьте пожалуйста.\n",
      "———————————————\n",
      "Переустановил приложение, все заработало. Спасибо. 5 звёзд возвращаю.\n",
      "Последнее обновление превратило приложение в супер улитку при запуске.\n",
      "\n",
      "После ввода пароля приложение около 30-40 сек НЕ реагирует ни на что.\n",
      "\n",
      "Просьба срочно исправить ошибку.\n",
      "\n",
      "Спасибо.\n",
      "Функция обновления не работает. На главном экране когда тянешь вниз - происходит обновление данных. Если тебе только что перевод сделали данные должны обновиться, но не обновляются. Эта проблема уже давно и никак не решается. Нужная функция не работает. Нужно выгружать приложение из памяти и заходить с логином заново, чтобы увидеть изменение баланса. Почините пожалуйста. В остальном - работает и ладно.\n",
      "После последнего обновления не могу открыть приложение\n",
      "У меня не работает последняя версия на 5S , Зависает на главной, странице, версия IOS 12.4.2. Снес, переустановил, то же самое, не могу Деньги перекинуть с тел. Вчера 10.10.19 обновил Сбер. Онлайн и все..... телефон перезагружал, айос Последний, ничего не помогает. Оставил заявку на хотлайне, сказали до 16.10.19 рассмотрят. Жду.\n",
      "Приложение вылетает после последнего обновления\n",
      "После обновления каждый вход - регистрация заново. Не сохраняет данные. Теперь при каждом входе регестрируюсь по новой. Исправьте\n",
      "После обновления появилась комиссия...\n",
      "Хотя в описании последнего обновления (10.4.1) написано, что эта проблема решена, приложение на iPhone 7 ios13 после приветствия и открытия гл экрана фризится и никак не реагирует на действия\n",
      "После последнего обновления начал тупить, подвисать, потерялась часть переводов он-лайн\n",
      "После обновления ПО и приложения, приложение перестало открываться ☹️\n",
      "Cluster:  4\n",
      "Reviews\n",
      "Приложение каким-то образом установилось само когда я десять раз попытался его установить безуспешно но я доволен банком это мои проблемы с телефоном банк отличный приложение отличное поддержка Apple Pay превосходная виртуальная карта просто супер\n",
      "Не хватает функции обновления баланса карты онлайн. Если находишься в приложении Сбербанк онлайн и в этот момент делаешь зачисление на карту денег, приложение без перезагрузки не видит поступление средств. Желательно доработать данный функционал.\n",
      "Не показывает карты, невозможно сделать ни одной операции.\n",
      "Переустанавливала приложение, перезагружала телефон. Не помогает.\n",
      "После обновления перевод на счёт не осуществляется сразу!!! Это очень не удобно. Если не исправят, придётся менять карту на другой банк.\n",
      "Для разработчиков: неплохо сделать если при наличии нескольких карт, можно было бы одну вручную привязать к номеру, потому что никто не может перевести деньги по номеру, система пишет, что к номеру карты не привязаны. \n",
      "Каждый раз для перевода приходиться скидывать номер карты.\n",
      "А если бы одна из карт была привязана для перевода, было бы удобно. Для тех, кто не хочет, можно не привязывать. Но опции такой не хватает.\n",
      "После обновление, постоянно разворачиваются все разделы: Карты, кредиты, металлы.... в настройках убираю, возвращаются обратно.\n",
      "Без каких либо предупреждений и уведомлений начали списывать комиссию за переводы на карты Сбербанка!\n",
      "Не показывает карты, невозможно сделать ни одной операции.\n",
      "Переустанавливала приложение, перезагружала телефон. Не помогает.\n",
      "Поменяйте Дизайн в apple wallet карты master card platinum пожалуйста сделайте его современным )\n",
      "Сколько можно вносить изменения? Только привыкнешь к новому интерфейсу, опять меняете навигацию! Раньше для доступа к истории был один клик теперь клик, промотка, клик. Одну и ту же операцию то по одной то по другой карте показывает. И из-за всяких карточек, доп менюшек все тормознее становится приложение, скроллинг с рывками и т.д.  Вы хотите соцсеть что ли сделать из банка? ИТ отделу заняться больше нечем что ли? Распустите его тогда наполовину и оставьте только поддержку! Или сделайте отдельное приложение и в нем делайте чего хотите. А если это пожелания Грефа, сделайте ему отдельную программу и пусть развлекается!\n",
      "Сбербанк, доколе мне будут приходить тысячи сообщений о кредитных картах? Зачем бесполезные открытки и смайлики? Лучше бы оповещения об оплате годового обслуживания присылали, но на это у них видите ли нет технической возможности. Ни в истории не отображается, ни тебе смс. Ищи свои «пропавшие» деньги где хочешь.\n",
      "Присылайте мне деньги  не на карту мир, а на сбербанковск \n",
      "карту\n",
      "Очень удобный сервис: можно сохранять чеки по проведённым операциям, переводить деньги, копить, сохранять и преумножать доходы, и всё это не выходя из дома. Теперь и любую проездную карту могу пополнить не выходя из дома. Спасибо за устранение моей проблемы (невозможность удаленно пополнять карту Тройка!). Как и обещала: пять звёзд в студию за качественный сервис и эффективное приложение. Ещё раз благодарю.\n",
      "После последнего обновления исчезла возможность вывести отчёт по карте в виде отдельного файла для дальнейшей отправки или печати!!! Стало очень неудобно вести учёт операций по карте! Надеюсь исправят\n",
      "Практически перестал пользоваться вашей картой по той лишь причине, что неудобно пополнять счёт\n",
      "Откройте пожалуйста новый раздел перевод с карту на международную карту СНГ 🙏🏻\n",
      "Зачисления не сразу переходят на счёт ! С карты можно сделать оплату, а сом счета на счёт в онлайне нет!\n",
      "Пропал анализ финансов по карте. В старом приложении были все данные по всем картам включая ту, у которой месяц назад кончился срок. Обновила приложения и весь анализ по той карте пропал. Оператор предложил сделать только выписку.  КЛАСССС!\n",
      "\n",
      "Разобрались с грамотным оператором. \n",
      "В настройках приложения есть кнопка показ заблокированных карт! Перезагружаем. Потом в финансах ищем старую карту в фильтре. Опять перезагружаем . Потом заходим и наслаждаемся анализом по всем картам за весь период 🤗. Семь потов сошло. Думала придётся самой диаграммы строить 😂\n",
      "Раньше можно было копировать реквизиты карты, а теперь нет этой функции. Неудобно стало пользоваться(((\n",
      "Срочно понадобилась история Карты, о она не грузится, видите ли у этих болванов временные работы по улучшению ПО. Попал на деньги из за них\n"
     ]
    }
   ],
   "source": [
    "from collections import Counter\n",
    "counter = Counter(km.labels_)\n",
    "for cluster_num in range(5):\n",
    "    sampling = random.choices(list(df_reviews[df_reviews['cluster']==cluster_num]['review']), k=20)\n",
    "    print('Cluster: ', cluster_num)\n",
    "    print('Reviews')\n",
    "    print('\\n'.join(sampling))"
   ]
  },
  {
   "cell_type": "markdown",
   "metadata": {},
   "source": [
    "#### Predictions for teams"
   ]
  },
  {
   "cell_type": "code",
   "execution_count": 235,
   "metadata": {},
   "outputs": [
    {
     "name": "stderr",
     "output_type": "stream",
     "text": [
      "100%|██████████| 11584/11584 [02:55<00:00, 65.89it/s]\n"
     ]
    }
   ],
   "source": [
    "from sklearn.metrics.pairwise import euclidean_distances, cosine_similarity\n",
    "\n",
    "\n",
    "predictions_list = []\n",
    "j = 0\n",
    "for review in tqdm(corpus_embeddings):\n",
    "    predictions = {}\n",
    "    predictions['review'] = data.iloc[j][REVIEW_COL]\n",
    "    destinations = {}\n",
    "    for i,team in enumerate(teams_vecs):\n",
    "        dest = euclidean_distances([review], [team])[0]\n",
    "        destinations[list(team_names_keywords.keys())[i]] = dest\n",
    "    scores = OrderedDict(sorted(destinations.items(), key=lambda kv: kv[1]))\n",
    "    predictions['euclid_team'] = list(scores.keys())[0]\n",
    "    predictions['euclid_score'] = scores[list(scores.keys())[0]]\n",
    "\n",
    "    \n",
    "    destinations = {}\n",
    "    for i,team in enumerate(teams_vecs):\n",
    "        dest = cosine_similarity([review], [team])[0]\n",
    "        destinations[list(team_names_keywords.keys())[i]] = dest\n",
    "    scores = OrderedDict(sorted(destinations.items(), key=lambda kv: kv[1],reverse=True))\n",
    "    predictions['cosine_team'] = list(scores.keys())[0]\n",
    "    predictions['cosine_score'] = scores[list(scores.keys())[0]]\n",
    "    predictions_list.append(predictions)\n",
    "    j+=1"
   ]
  },
  {
   "cell_type": "code",
   "execution_count": 236,
   "metadata": {},
   "outputs": [],
   "source": [
    "predictions_df = pd.DataFrame(predictions_list)\n",
    "predictions_df.to_csv('../Resources/teams_predictions_bert.csv')"
   ]
  },
  {
   "cell_type": "code",
   "execution_count": 166,
   "metadata": {},
   "outputs": [
    {
     "data": {
      "text/plain": [
       "iOS Platform                                                2101\n",
       "iOS Release Engineer                                         853\n",
       "Развитие лояльности в МП СБОЛ                                824\n",
       "Госуслуги                                                    800\n",
       "СБОЛ. Классические переводы                                  775\n",
       "Самозанятые                                                  596\n",
       "DBP.Витрины продаж                                           533\n",
       "Краудфандинг                                                 476\n",
       "Дебетовые карты в мобильном приложении                       471\n",
       "Комиссионные продукты                                        398\n",
       "Телеком                                                      389\n",
       "Плановый и досрочный перевыпуск дебетовых карт               349\n",
       "Текстовый чат                                                320\n",
       "Платежи. Штрафы                                              249\n",
       "Global Navigation                                            234\n",
       "ПДВ в Digital                                                231\n",
       "Sberbank ID B2C                                              202\n",
       "PUSH IOS                                                     191\n",
       "PFM Бюджет                                                   168\n",
       "ЕФС. Брокеридж. Мобайл                                       142\n",
       "Мессенджер                                                   141\n",
       "ЕФС.Платежи МП                                               138\n",
       "История операций                                             127\n",
       "Mobile Online POS (Розничный кредит)                         123\n",
       "Цифровой Кредит                                              120\n",
       "ЕФС Выписки и справки. Mobile                                116\n",
       "ЕФС.Автоплатежи                                              100\n",
       "ВС.МП вклады                                                  83\n",
       "DBP.Подарки                                                   60\n",
       "Digital Сбербанк Премьер                                      53\n",
       "Редактируемый профиль клиента                                 35\n",
       "Карта в телефоне                                              31\n",
       "DDA Profile                                                   27\n",
       "Автопереводы                                                  25\n",
       "ЕФС. Страхование                                              22\n",
       "Data Driven App                                               21\n",
       "PFM                                                           21\n",
       "[ЕФС] Б.УБ.СБОЛ.Баллонг                                       20\n",
       "[ЕФС].Кредитные карты.Космонавты (Доп. услуги и сервисы)      12\n",
       "PFMMPLACE                                                      7\n",
       "Name: euclid_team, dtype: int64"
      ]
     },
     "execution_count": 166,
     "metadata": {},
     "output_type": "execute_result"
    }
   ],
   "source": [
    "predictions_df['euclid_team'].value_counts()"
   ]
  },
  {
   "cell_type": "markdown",
   "metadata": {},
   "source": [
    "#### Predictions for groups"
   ]
  },
  {
   "cell_type": "code",
   "execution_count": 169,
   "metadata": {},
   "outputs": [
    {
     "name": "stderr",
     "output_type": "stream",
     "text": [
      "100%|██████████| 11584/11584 [01:54<00:00, 100.80it/s]\n"
     ]
    }
   ],
   "source": [
    "from sklearn.metrics.pairwise import euclidean_distances, cosine_similarity\n",
    "\n",
    "\n",
    "predictions_list = []\n",
    "j = 0\n",
    "for review in tqdm(corpus_embeddings):\n",
    "    predictions = {}\n",
    "    predictions['review'] = data.iloc[j][REVIEW_COL]\n",
    "    destinations = {}\n",
    "    for i,team in enumerate(groups_vecs):\n",
    "        dest = euclidean_distances([review], [team])[0]\n",
    "        destinations[list(groups_keywords.keys())[i]] = dest\n",
    "    scores = OrderedDict(sorted(destinations.items(), key=lambda kv: kv[1]))\n",
    "    predictions['euclid_team'] = list(scores.keys())[0]\n",
    "    predictions['euclid_score'] = scores[list(scores.keys())[0]]\n",
    "\n",
    "    \n",
    "    destinations = {}\n",
    "    for i,team in enumerate(groups_vecs):\n",
    "        dest = cosine_similarity([review], [team])[0]\n",
    "        destinations[list(groups_keywords.keys())[i]] = dest\n",
    "    scores = OrderedDict(sorted(destinations.items(), key=lambda kv: kv[1],reverse=True))\n",
    "    predictions['cosine_team'] = list(scores.keys())[0]\n",
    "    predictions['cosine_score'] = scores[list(scores.keys())[0]]\n",
    "    predictions_list.append(predictions)\n",
    "    j+=1"
   ]
  },
  {
   "cell_type": "code",
   "execution_count": 170,
   "metadata": {},
   "outputs": [],
   "source": [
    "predictions_df_groups = pd.DataFrame(predictions_list)"
   ]
  },
  {
   "cell_type": "code",
   "execution_count": 171,
   "metadata": {},
   "outputs": [],
   "source": [
    "predictions_df_groups.to_csv('../Resources/groups_predictions_bert.csv')"
   ]
  },
  {
   "cell_type": "code",
   "execution_count": 172,
   "metadata": {},
   "outputs": [
    {
     "data": {
      "text/html": [
       "<div>\n",
       "<style scoped>\n",
       "    .dataframe tbody tr th:only-of-type {\n",
       "        vertical-align: middle;\n",
       "    }\n",
       "\n",
       "    .dataframe tbody tr th {\n",
       "        vertical-align: top;\n",
       "    }\n",
       "\n",
       "    .dataframe thead th {\n",
       "        text-align: right;\n",
       "    }\n",
       "</style>\n",
       "<table border=\"1\" class=\"dataframe\">\n",
       "  <thead>\n",
       "    <tr style=\"text-align: right;\">\n",
       "      <th></th>\n",
       "      <th>review</th>\n",
       "      <th>euclid_team</th>\n",
       "      <th>euclid_score</th>\n",
       "      <th>cosine_team</th>\n",
       "      <th>cosine_score</th>\n",
       "    </tr>\n",
       "  </thead>\n",
       "  <tbody>\n",
       "    <tr>\n",
       "      <th>0</th>\n",
       "      <td>Не скачивается стала обновлять и зависло прило...</td>\n",
       "      <td>интерфейс приложения</td>\n",
       "      <td>[1.1439611]</td>\n",
       "      <td>Sberbank ID B2C</td>\n",
       "      <td>[0.22501919]</td>\n",
       "    </tr>\n",
       "    <tr>\n",
       "      <th>1</th>\n",
       "      <td>Приложение не открывается после обновления!!!!...</td>\n",
       "      <td>интерфейс приложения</td>\n",
       "      <td>[1.1276852]</td>\n",
       "      <td>интерфейс приложения</td>\n",
       "      <td>[0.21633334]</td>\n",
       "    </tr>\n",
       "    <tr>\n",
       "      <th>2</th>\n",
       "      <td>Добрый день, после последнего обновления пропа...</td>\n",
       "      <td>данные клиента</td>\n",
       "      <td>[1.1680582]</td>\n",
       "      <td>данные клиента</td>\n",
       "      <td>[0.20235847]</td>\n",
       "    </tr>\n",
       "    <tr>\n",
       "      <th>3</th>\n",
       "      <td>Не могу скачать так как требует подключения Wi-fi</td>\n",
       "      <td>интерфейс приложения</td>\n",
       "      <td>[1.1426462]</td>\n",
       "      <td>интерфейс приложения</td>\n",
       "      <td>[0.14617676]</td>\n",
       "    </tr>\n",
       "    <tr>\n",
       "      <th>4</th>\n",
       "      <td>Почему то не могу оплатить при минусе на балан...</td>\n",
       "      <td>Карта в телефоне</td>\n",
       "      <td>[1.0712026]</td>\n",
       "      <td>Карта в телефоне</td>\n",
       "      <td>[0.34158123]</td>\n",
       "    </tr>\n",
       "    <tr>\n",
       "      <th>...</th>\n",
       "      <td>...</td>\n",
       "      <td>...</td>\n",
       "      <td>...</td>\n",
       "      <td>...</td>\n",
       "      <td>...</td>\n",
       "    </tr>\n",
       "    <tr>\n",
       "      <th>11579</th>\n",
       "      <td>Благодарю Сбербанк за четкую и оперативную раб...</td>\n",
       "      <td>фигня</td>\n",
       "      <td>[1.0881823]</td>\n",
       "      <td>фигня</td>\n",
       "      <td>[0.34577796]</td>\n",
       "    </tr>\n",
       "    <tr>\n",
       "      <th>11580</th>\n",
       "      <td>Зачем вы все время усложняете приложение. Выки...</td>\n",
       "      <td>платежи</td>\n",
       "      <td>[1.155893]</td>\n",
       "      <td>фигня</td>\n",
       "      <td>[0.17719087]</td>\n",
       "    </tr>\n",
       "    <tr>\n",
       "      <th>11581</th>\n",
       "      <td>Вы просто супер</td>\n",
       "      <td>Госуслуги</td>\n",
       "      <td>[1.1250776]</td>\n",
       "      <td>Госуслуги</td>\n",
       "      <td>[0.16617933]</td>\n",
       "    </tr>\n",
       "    <tr>\n",
       "      <th>11582</th>\n",
       "      <td>Молодцы! Лучшее банковское приложение!\\nСделай...</td>\n",
       "      <td>DBP.Витрины продаж</td>\n",
       "      <td>[1.0684865]</td>\n",
       "      <td>DBP.Витрины продаж</td>\n",
       "      <td>[0.30081087]</td>\n",
       "    </tr>\n",
       "    <tr>\n",
       "      <th>11583</th>\n",
       "      <td>Спасибо огромное! Классное приложение, а после...</td>\n",
       "      <td>Развитие лояльности в МП СБОЛ</td>\n",
       "      <td>[1.074049]</td>\n",
       "      <td>Развитие лояльности в МП СБОЛ</td>\n",
       "      <td>[0.2850944]</td>\n",
       "    </tr>\n",
       "  </tbody>\n",
       "</table>\n",
       "<p>11584 rows × 5 columns</p>\n",
       "</div>"
      ],
      "text/plain": [
       "                                                  review  \\\n",
       "0      Не скачивается стала обновлять и зависло прило...   \n",
       "1      Приложение не открывается после обновления!!!!...   \n",
       "2      Добрый день, после последнего обновления пропа...   \n",
       "3      Не могу скачать так как требует подключения Wi-fi   \n",
       "4      Почему то не могу оплатить при минусе на балан...   \n",
       "...                                                  ...   \n",
       "11579  Благодарю Сбербанк за четкую и оперативную раб...   \n",
       "11580  Зачем вы все время усложняете приложение. Выки...   \n",
       "11581                                    Вы просто супер   \n",
       "11582  Молодцы! Лучшее банковское приложение!\\nСделай...   \n",
       "11583  Спасибо огромное! Классное приложение, а после...   \n",
       "\n",
       "                         euclid_team euclid_score  \\\n",
       "0               интерфейс приложения  [1.1439611]   \n",
       "1               интерфейс приложения  [1.1276852]   \n",
       "2                     данные клиента  [1.1680582]   \n",
       "3               интерфейс приложения  [1.1426462]   \n",
       "4                   Карта в телефоне  [1.0712026]   \n",
       "...                              ...          ...   \n",
       "11579                          фигня  [1.0881823]   \n",
       "11580                        платежи   [1.155893]   \n",
       "11581                      Госуслуги  [1.1250776]   \n",
       "11582             DBP.Витрины продаж  [1.0684865]   \n",
       "11583  Развитие лояльности в МП СБОЛ   [1.074049]   \n",
       "\n",
       "                         cosine_team  cosine_score  \n",
       "0                    Sberbank ID B2C  [0.22501919]  \n",
       "1               интерфейс приложения  [0.21633334]  \n",
       "2                     данные клиента  [0.20235847]  \n",
       "3               интерфейс приложения  [0.14617676]  \n",
       "4                   Карта в телефоне  [0.34158123]  \n",
       "...                              ...           ...  \n",
       "11579                          фигня  [0.34577796]  \n",
       "11580                          фигня  [0.17719087]  \n",
       "11581                      Госуслуги  [0.16617933]  \n",
       "11582             DBP.Витрины продаж  [0.30081087]  \n",
       "11583  Развитие лояльности в МП СБОЛ   [0.2850944]  \n",
       "\n",
       "[11584 rows x 5 columns]"
      ]
     },
     "execution_count": 172,
     "metadata": {},
     "output_type": "execute_result"
    }
   ],
   "source": [
    "predictions_df_groups"
   ]
  },
  {
   "cell_type": "code",
   "execution_count": 174,
   "metadata": {},
   "outputs": [
    {
     "data": {
      "text/plain": [
       "интерфейс приложения             2773\n",
       "платежи                          1880\n",
       "Госуслуги                        1115\n",
       "Самозанятые                       998\n",
       "операции с картами                935\n",
       "DBP.Витрины продаж                896\n",
       "Развитие лояльности в МП СБОЛ     889\n",
       "общение                           371\n",
       "PUSH IOS                          224\n",
       "Автопереводы                      217\n",
       "ЕФС. Брокеридж. Мобайл            211\n",
       "PFM Бюджет                        181\n",
       "Sberbank ID B2C                   160\n",
       "ЕФС Выписки и справки. Mobile     151\n",
       "История операций                  140\n",
       "кредит                             89\n",
       "ВС.МП вклады                       88\n",
       "Редактируемый профиль клиента      60\n",
       "DDA Profile                        32\n",
       "Карта в телефоне                   31\n",
       "инвестиции                         31\n",
       "ЕФС. Страхование                   30\n",
       "данные клиента                     29\n",
       "фигня                              27\n",
       "PFM                                26\n",
       "Name: euclid_team, dtype: int64"
      ]
     },
     "execution_count": 174,
     "metadata": {},
     "output_type": "execute_result"
    }
   ],
   "source": [
    "predictions_df_groups['euclid_team'].value_counts()"
   ]
  },
  {
   "cell_type": "code",
   "execution_count": null,
   "metadata": {},
   "outputs": [],
   "source": []
  }
 ],
 "metadata": {
  "kernelspec": {
   "display_name": "Python 3",
   "language": "python",
   "name": "python3"
  },
  "language_info": {
   "codemirror_mode": {
    "name": "ipython",
    "version": 3
   },
   "file_extension": ".py",
   "mimetype": "text/x-python",
   "name": "python",
   "nbconvert_exporter": "python",
   "pygments_lexer": "ipython3",
   "version": "3.7.7"
  }
 },
 "nbformat": 4,
 "nbformat_minor": 4
}
